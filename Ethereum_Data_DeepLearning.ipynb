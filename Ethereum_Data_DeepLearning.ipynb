{
  "cells": [
    {
      "cell_type": "markdown",
      "metadata": {
        "id": "view-in-github",
        "colab_type": "text"
      },
      "source": [
        "<a href=\"https://colab.research.google.com/github/ProgrammerMahin/ML_Projects_statistics/blob/main/Ethereum_Data_DeepLearning.ipynb\" target=\"_parent\"><img src=\"https://colab.research.google.com/assets/colab-badge.svg\" alt=\"Open In Colab\"/></a>"
      ]
    },
    {
      "cell_type": "code",
      "execution_count": null,
      "metadata": {
        "id": "mC8ePL6ahsi6"
      },
      "outputs": [],
      "source": [
        "### Data Collection\n",
        "import pandas as pd\n",
        "import numpy as np"
      ]
    },
    {
      "cell_type": "code",
      "execution_count": null,
      "metadata": {
        "id": "_MRKJUwEh6Xv"
      },
      "outputs": [],
      "source": [
        "df = pd.read_csv('/content/drive/MyDrive/Colab_datasets/ETH-USD.csv')"
      ]
    },
    {
      "cell_type": "code",
      "source": [
        "from google.colab import drive\n",
        "drive.mount('/content/drive')"
      ],
      "metadata": {
        "colab": {
          "base_uri": "https://localhost:8080/"
        },
        "id": "eG88z7R2JvOc",
        "outputId": "a0c2573b-9a75-46b0-baa0-d9e0469bc86e"
      },
      "execution_count": null,
      "outputs": [
        {
          "output_type": "stream",
          "name": "stdout",
          "text": [
            "Drive already mounted at /content/drive; to attempt to forcibly remount, call drive.mount(\"/content/drive\", force_remount=True).\n"
          ]
        }
      ]
    },
    {
      "cell_type": "code",
      "execution_count": null,
      "metadata": {
        "colab": {
          "base_uri": "https://localhost:8080/",
          "height": 206
        },
        "id": "V15l1vS90WTj",
        "outputId": "b122d803-6156-4e20-d78f-498a8fe0fabf"
      },
      "outputs": [
        {
          "output_type": "execute_result",
          "data": {
            "text/plain": [
              "         Date        Open        High         Low       Close   Adj Close  \\\n",
              "0  2017-11-09  308.644989  329.451996  307.056000  320.884003  320.884003   \n",
              "1  2017-11-10  320.670990  324.717987  294.541992  299.252991  299.252991   \n",
              "2  2017-11-11  298.585999  319.453003  298.191986  314.681000  314.681000   \n",
              "3  2017-11-12  314.690002  319.153015  298.513000  307.907990  307.907990   \n",
              "4  2017-11-13  307.024994  328.415009  307.024994  316.716003  316.716003   \n",
              "\n",
              "       Volume  \n",
              "0   893249984  \n",
              "1   885985984  \n",
              "2   842300992  \n",
              "3  1613479936  \n",
              "4  1041889984  "
            ],
            "text/html": [
              "\n",
              "  <div id=\"df-9b2d432c-e7af-4d55-8f85-05becec7e95b\" class=\"colab-df-container\">\n",
              "    <div>\n",
              "<style scoped>\n",
              "    .dataframe tbody tr th:only-of-type {\n",
              "        vertical-align: middle;\n",
              "    }\n",
              "\n",
              "    .dataframe tbody tr th {\n",
              "        vertical-align: top;\n",
              "    }\n",
              "\n",
              "    .dataframe thead th {\n",
              "        text-align: right;\n",
              "    }\n",
              "</style>\n",
              "<table border=\"1\" class=\"dataframe\">\n",
              "  <thead>\n",
              "    <tr style=\"text-align: right;\">\n",
              "      <th></th>\n",
              "      <th>Date</th>\n",
              "      <th>Open</th>\n",
              "      <th>High</th>\n",
              "      <th>Low</th>\n",
              "      <th>Close</th>\n",
              "      <th>Adj Close</th>\n",
              "      <th>Volume</th>\n",
              "    </tr>\n",
              "  </thead>\n",
              "  <tbody>\n",
              "    <tr>\n",
              "      <th>0</th>\n",
              "      <td>2017-11-09</td>\n",
              "      <td>308.644989</td>\n",
              "      <td>329.451996</td>\n",
              "      <td>307.056000</td>\n",
              "      <td>320.884003</td>\n",
              "      <td>320.884003</td>\n",
              "      <td>893249984</td>\n",
              "    </tr>\n",
              "    <tr>\n",
              "      <th>1</th>\n",
              "      <td>2017-11-10</td>\n",
              "      <td>320.670990</td>\n",
              "      <td>324.717987</td>\n",
              "      <td>294.541992</td>\n",
              "      <td>299.252991</td>\n",
              "      <td>299.252991</td>\n",
              "      <td>885985984</td>\n",
              "    </tr>\n",
              "    <tr>\n",
              "      <th>2</th>\n",
              "      <td>2017-11-11</td>\n",
              "      <td>298.585999</td>\n",
              "      <td>319.453003</td>\n",
              "      <td>298.191986</td>\n",
              "      <td>314.681000</td>\n",
              "      <td>314.681000</td>\n",
              "      <td>842300992</td>\n",
              "    </tr>\n",
              "    <tr>\n",
              "      <th>3</th>\n",
              "      <td>2017-11-12</td>\n",
              "      <td>314.690002</td>\n",
              "      <td>319.153015</td>\n",
              "      <td>298.513000</td>\n",
              "      <td>307.907990</td>\n",
              "      <td>307.907990</td>\n",
              "      <td>1613479936</td>\n",
              "    </tr>\n",
              "    <tr>\n",
              "      <th>4</th>\n",
              "      <td>2017-11-13</td>\n",
              "      <td>307.024994</td>\n",
              "      <td>328.415009</td>\n",
              "      <td>307.024994</td>\n",
              "      <td>316.716003</td>\n",
              "      <td>316.716003</td>\n",
              "      <td>1041889984</td>\n",
              "    </tr>\n",
              "  </tbody>\n",
              "</table>\n",
              "</div>\n",
              "    <div class=\"colab-df-buttons\">\n",
              "\n",
              "  <div class=\"colab-df-container\">\n",
              "    <button class=\"colab-df-convert\" onclick=\"convertToInteractive('df-9b2d432c-e7af-4d55-8f85-05becec7e95b')\"\n",
              "            title=\"Convert this dataframe to an interactive table.\"\n",
              "            style=\"display:none;\">\n",
              "\n",
              "  <svg xmlns=\"http://www.w3.org/2000/svg\" height=\"24px\" viewBox=\"0 -960 960 960\">\n",
              "    <path d=\"M120-120v-720h720v720H120Zm60-500h600v-160H180v160Zm220 220h160v-160H400v160Zm0 220h160v-160H400v160ZM180-400h160v-160H180v160Zm440 0h160v-160H620v160ZM180-180h160v-160H180v160Zm440 0h160v-160H620v160Z\"/>\n",
              "  </svg>\n",
              "    </button>\n",
              "\n",
              "  <style>\n",
              "    .colab-df-container {\n",
              "      display:flex;\n",
              "      gap: 12px;\n",
              "    }\n",
              "\n",
              "    .colab-df-convert {\n",
              "      background-color: #E8F0FE;\n",
              "      border: none;\n",
              "      border-radius: 50%;\n",
              "      cursor: pointer;\n",
              "      display: none;\n",
              "      fill: #1967D2;\n",
              "      height: 32px;\n",
              "      padding: 0 0 0 0;\n",
              "      width: 32px;\n",
              "    }\n",
              "\n",
              "    .colab-df-convert:hover {\n",
              "      background-color: #E2EBFA;\n",
              "      box-shadow: 0px 1px 2px rgba(60, 64, 67, 0.3), 0px 1px 3px 1px rgba(60, 64, 67, 0.15);\n",
              "      fill: #174EA6;\n",
              "    }\n",
              "\n",
              "    .colab-df-buttons div {\n",
              "      margin-bottom: 4px;\n",
              "    }\n",
              "\n",
              "    [theme=dark] .colab-df-convert {\n",
              "      background-color: #3B4455;\n",
              "      fill: #D2E3FC;\n",
              "    }\n",
              "\n",
              "    [theme=dark] .colab-df-convert:hover {\n",
              "      background-color: #434B5C;\n",
              "      box-shadow: 0px 1px 3px 1px rgba(0, 0, 0, 0.15);\n",
              "      filter: drop-shadow(0px 1px 2px rgba(0, 0, 0, 0.3));\n",
              "      fill: #FFFFFF;\n",
              "    }\n",
              "  </style>\n",
              "\n",
              "    <script>\n",
              "      const buttonEl =\n",
              "        document.querySelector('#df-9b2d432c-e7af-4d55-8f85-05becec7e95b button.colab-df-convert');\n",
              "      buttonEl.style.display =\n",
              "        google.colab.kernel.accessAllowed ? 'block' : 'none';\n",
              "\n",
              "      async function convertToInteractive(key) {\n",
              "        const element = document.querySelector('#df-9b2d432c-e7af-4d55-8f85-05becec7e95b');\n",
              "        const dataTable =\n",
              "          await google.colab.kernel.invokeFunction('convertToInteractive',\n",
              "                                                    [key], {});\n",
              "        if (!dataTable) return;\n",
              "\n",
              "        const docLinkHtml = 'Like what you see? Visit the ' +\n",
              "          '<a target=\"_blank\" href=https://colab.research.google.com/notebooks/data_table.ipynb>data table notebook</a>'\n",
              "          + ' to learn more about interactive tables.';\n",
              "        element.innerHTML = '';\n",
              "        dataTable['output_type'] = 'display_data';\n",
              "        await google.colab.output.renderOutput(dataTable, element);\n",
              "        const docLink = document.createElement('div');\n",
              "        docLink.innerHTML = docLinkHtml;\n",
              "        element.appendChild(docLink);\n",
              "      }\n",
              "    </script>\n",
              "  </div>\n",
              "\n",
              "\n",
              "<div id=\"df-28dc2dc9-763a-4f91-9047-7eb1832d76c1\">\n",
              "  <button class=\"colab-df-quickchart\" onclick=\"quickchart('df-28dc2dc9-763a-4f91-9047-7eb1832d76c1')\"\n",
              "            title=\"Suggest charts.\"\n",
              "            style=\"display:none;\">\n",
              "\n",
              "<svg xmlns=\"http://www.w3.org/2000/svg\" height=\"24px\"viewBox=\"0 0 24 24\"\n",
              "     width=\"24px\">\n",
              "    <g>\n",
              "        <path d=\"M19 3H5c-1.1 0-2 .9-2 2v14c0 1.1.9 2 2 2h14c1.1 0 2-.9 2-2V5c0-1.1-.9-2-2-2zM9 17H7v-7h2v7zm4 0h-2V7h2v10zm4 0h-2v-4h2v4z\"/>\n",
              "    </g>\n",
              "</svg>\n",
              "  </button>\n",
              "\n",
              "<style>\n",
              "  .colab-df-quickchart {\n",
              "    background-color: #E8F0FE;\n",
              "    border: none;\n",
              "    border-radius: 50%;\n",
              "    cursor: pointer;\n",
              "    display: none;\n",
              "    fill: #1967D2;\n",
              "    height: 32px;\n",
              "    padding: 0 0 0 0;\n",
              "    width: 32px;\n",
              "  }\n",
              "\n",
              "  .colab-df-quickchart:hover {\n",
              "    background-color: #E2EBFA;\n",
              "    box-shadow: 0px 1px 2px rgba(60, 64, 67, 0.3), 0px 1px 3px 1px rgba(60, 64, 67, 0.15);\n",
              "    fill: #174EA6;\n",
              "  }\n",
              "\n",
              "  [theme=dark] .colab-df-quickchart {\n",
              "    background-color: #3B4455;\n",
              "    fill: #D2E3FC;\n",
              "  }\n",
              "\n",
              "  [theme=dark] .colab-df-quickchart:hover {\n",
              "    background-color: #434B5C;\n",
              "    box-shadow: 0px 1px 3px 1px rgba(0, 0, 0, 0.15);\n",
              "    filter: drop-shadow(0px 1px 2px rgba(0, 0, 0, 0.3));\n",
              "    fill: #FFFFFF;\n",
              "  }\n",
              "</style>\n",
              "\n",
              "  <script>\n",
              "    async function quickchart(key) {\n",
              "      const charts = await google.colab.kernel.invokeFunction(\n",
              "          'suggestCharts', [key], {});\n",
              "    }\n",
              "    (() => {\n",
              "      let quickchartButtonEl =\n",
              "        document.querySelector('#df-28dc2dc9-763a-4f91-9047-7eb1832d76c1 button');\n",
              "      quickchartButtonEl.style.display =\n",
              "        google.colab.kernel.accessAllowed ? 'block' : 'none';\n",
              "    })();\n",
              "  </script>\n",
              "</div>\n",
              "    </div>\n",
              "  </div>\n"
            ]
          },
          "metadata": {},
          "execution_count": 4
        }
      ],
      "source": [
        "df.head()"
      ]
    },
    {
      "cell_type": "code",
      "execution_count": null,
      "metadata": {
        "id": "mpeywOO30WXv"
      },
      "outputs": [],
      "source": [
        "df1=df.reset_index()['Open']"
      ]
    },
    {
      "cell_type": "code",
      "execution_count": null,
      "metadata": {
        "colab": {
          "base_uri": "https://localhost:8080/"
        },
        "id": "VWqx31bZ0Waa",
        "outputId": "5b642e6d-06ee-4438-d528-e3046048205d"
      },
      "outputs": [
        {
          "output_type": "execute_result",
          "data": {
            "text/plain": [
              "0        308.644989\n",
              "1        320.670990\n",
              "2        298.585999\n",
              "3        314.690002\n",
              "4        307.024994\n",
              "           ...     \n",
              "1593    2860.103271\n",
              "1594    2897.774170\n",
              "1595    2973.145020\n",
              "1596    3031.060791\n",
              "1597    3109.523438\n",
              "Name: Open, Length: 1598, dtype: float64"
            ]
          },
          "metadata": {},
          "execution_count": 6
        }
      ],
      "source": [
        "df1"
      ]
    },
    {
      "cell_type": "code",
      "execution_count": null,
      "metadata": {
        "colab": {
          "base_uri": "https://localhost:8080/",
          "height": 450
        },
        "id": "7s9Oy6Mw0Wc8",
        "outputId": "cb345313-bae2-4efc-9be1-4a6aaba2be82"
      },
      "outputs": [
        {
          "output_type": "execute_result",
          "data": {
            "text/plain": [
              "[<matplotlib.lines.Line2D at 0x7f2f5a7d5c90>]"
            ]
          },
          "metadata": {},
          "execution_count": 7
        },
        {
          "output_type": "display_data",
          "data": {
            "text/plain": [
              "<Figure size 640x480 with 1 Axes>"
            ],
            "image/png": "[encoded data removed]"
          },
          "metadata": {}
        }
      ],
      "source": [
        "import matplotlib.pyplot as plt\n",
        "plt.plot(df1)"
      ]
    },
    {
      "cell_type": "code",
      "execution_count": null,
      "metadata": {
        "id": "p0_sl70F0lo3"
      },
      "outputs": [],
      "source": [
        "from sklearn.preprocessing import MinMaxScaler\n",
        "scaler=MinMaxScaler(feature_range=(0,1))\n",
        "df1=scaler.fit_transform(np.array(df1).reshape(-1,1))"
      ]
    },
    {
      "cell_type": "code",
      "execution_count": null,
      "metadata": {
        "colab": {
          "base_uri": "https://localhost:8080/"
        },
        "id": "gYqXQVys0luS",
        "outputId": "d1d53476-7f08-49fd-86da-94cf0874ed10"
      },
      "outputs": [
        {
          "output_type": "execute_result",
          "data": {
            "text/plain": [
              "(1598, 1)"
            ]
          },
          "metadata": {},
          "execution_count": 9
        }
      ],
      "source": [
        "df1.shape"
      ]
    },
    {
      "cell_type": "code",
      "execution_count": null,
      "metadata": {
        "id": "yztMCUNq0q5b"
      },
      "outputs": [],
      "source": [
        "##splitting dataset into train and test split\n",
        "training_size=int(len(df1)*0.875)\n",
        "test_size=len(df1)-training_size\n",
        "train_data,test_data=df1[0:training_size,:],df1[training_size:len(df1),:1]"
      ]
    },
    {
      "cell_type": "code",
      "execution_count": null,
      "metadata": {
        "colab": {
          "base_uri": "https://localhost:8080/"
        },
        "id": "ktNi8H5G0q8G",
        "outputId": "dcf11012-95ce-4bec-cab8-b015ed3c434d"
      },
      "outputs": [
        {
          "output_type": "execute_result",
          "data": {
            "text/plain": [
              "(1398, 200)"
            ]
          },
          "metadata": {},
          "execution_count": 11
        }
      ],
      "source": [
        "training_size,test_size"
      ]
    },
    {
      "cell_type": "code",
      "execution_count": null,
      "metadata": {
        "colab": {
          "base_uri": "https://localhost:8080/"
        },
        "id": "BQDtwlLz0q-g",
        "outputId": "59bc9392-3f21-42a1-b712-19f0a492cb24"
      },
      "outputs": [
        {
          "output_type": "execute_result",
          "data": {
            "text/plain": [
              "array([[0.04747676],\n",
              "       [0.05002152],\n",
              "       [0.04534823],\n",
              "       ...,\n",
              "       [0.81544655],\n",
              "       [0.80453217],\n",
              "       [0.81832662]])"
            ]
          },
          "metadata": {},
          "execution_count": 12
        }
      ],
      "source": [
        "train_data"
      ]
    },
    {
      "cell_type": "code",
      "execution_count": null,
      "metadata": {
        "id": "QwW43gXB0rAs"
      },
      "outputs": [],
      "source": [
        "# convert an array of values into a dataset matrix\n",
        "def create_dataset(dataset, time_step=1):\n",
        "\tdataX, dataY = [], []\n",
        "\tfor i in range(len(dataset)-time_step-1):\n",
        "\t\ta = dataset[i:(i+time_step), 0]   ###i=0, 0,1,2,3-----99   100\n",
        "\t\tdataX.append(a)\n",
        "\t\tdataY.append(dataset[i + time_step, 0])\n",
        "\treturn np.array(dataX), np.array(dataY)"
      ]
    },
    {
      "cell_type": "code",
      "execution_count": null,
      "metadata": {
        "id": "JuhcSnfc02y7"
      },
      "outputs": [],
      "source": [
        "# reshape into X=t,t+1,t+2,t+3 and Y=t+4\n",
        "time_step = 10\n",
        "X_train, y_train = create_dataset(train_data, time_step)\n",
        "X_test, ytest = create_dataset(test_data, time_step)"
      ]
    },
    {
      "cell_type": "code",
      "execution_count": null,
      "metadata": {
        "colab": {
          "base_uri": "https://localhost:8080/"
        },
        "id": "-NDVQnLJ023y",
        "outputId": "245ec551-a994-4a10-f5ca-7eaa3f2da880"
      },
      "outputs": [
        {
          "output_type": "stream",
          "name": "stdout",
          "text": [
            "(189, 10)\n",
            "(189,)\n"
          ]
        },
        {
          "output_type": "execute_result",
          "data": {
            "text/plain": [
              "(None, None)"
            ]
          },
          "metadata": {},
          "execution_count": 15
        }
      ],
      "source": [
        "print(X_test.shape), print(ytest.shape)"
      ]
    },
    {
      "cell_type": "code",
      "execution_count": null,
      "metadata": {
        "colab": {
          "base_uri": "https://localhost:8080/"
        },
        "id": "tmbzc7Ol09oy",
        "outputId": "e8454267-365c-4122-9057-87b3a96460d3"
      },
      "outputs": [
        {
          "output_type": "stream",
          "name": "stdout",
          "text": [
            "(1387, 10)\n",
            "(1387,)\n"
          ]
        },
        {
          "output_type": "execute_result",
          "data": {
            "text/plain": [
              "(None, None)"
            ]
          },
          "metadata": {},
          "execution_count": 16
        }
      ],
      "source": [
        "print(X_train.shape), print(y_train.shape)"
      ]
    },
    {
      "cell_type": "code",
      "execution_count": null,
      "metadata": {
        "id": "CklGMkBL09tl"
      },
      "outputs": [],
      "source": [
        "# reshape input to be [samples, time steps, features] which is required for LSTM\n",
        "X_train =X_train.reshape(X_train.shape[0],X_train.shape[1] , 1)\n",
        "X_test = X_test.reshape(X_test.shape[0],X_test.shape[1] , 1)"
      ]
    },
    {
      "cell_type": "code",
      "execution_count": null,
      "metadata": {
        "id": "-IBTQ37u09wc"
      },
      "outputs": [],
      "source": [
        "### Create the Stacked LSTM model\n",
        "from tensorflow.keras.models import Sequential\n",
        "from tensorflow.keras.layers import Dense\n",
        "from tensorflow.keras.layers import LSTM"
      ]
    },
    {
      "cell_type": "code",
      "execution_count": null,
      "metadata": {
        "id": "AIkpHMGk1IMT"
      },
      "outputs": [],
      "source": [
        "model=Sequential()\n",
        "model.add(LSTM(50,return_sequences=True,input_shape=(10,1)))\n",
        "model.add(LSTM(50,return_sequences=True))\n",
        "model.add(LSTM(50))\n",
        "model.add(Dense(1))\n",
        "model.compile(loss='mean_squared_error',optimizer='adam')"
      ]
    },
    {
      "cell_type": "code",
      "execution_count": null,
      "metadata": {
        "colab": {
          "base_uri": "https://localhost:8080/"
        },
        "id": "Aexurrfg1ISw",
        "outputId": "6931dc6f-da25-4f64-9240-81fa60edf42d"
      },
      "outputs": [
        {
          "output_type": "stream",
          "name": "stdout",
          "text": [
            "Model: \"sequential\"\n",
            "_________________________________________________________________\n",
            " Layer (type)                Output Shape              Param #   \n",
            "=================================================================\n",
            " lstm (LSTM)                 (None, 10, 50)            10400     \n",
            "                                                                 \n",
            " lstm_1 (LSTM)               (None, 10, 50)            20200     \n",
            "                                                                 \n",
            " lstm_2 (LSTM)               (None, 50)                20200     \n",
            "                                                                 \n",
            " dense (Dense)               (None, 1)                 51        \n",
            "                                                                 \n",
            "=================================================================\n",
            "Total params: 50,851\n",
            "Trainable params: 50,851\n",
            "Non-trainable params: 0\n",
            "_________________________________________________________________\n"
          ]
        }
      ],
      "source": [
        "model.summary()"
      ]
    },
    {
      "cell_type": "code",
      "execution_count": null,
      "metadata": {
        "colab": {
          "base_uri": "https://localhost:8080/"
        },
        "id": "yFX70z0k1IV3",
        "outputId": "5a1da174-a386-42f8-cf91-d7bf6370c00b"
      },
      "outputs": [
        {
          "output_type": "stream",
          "name": "stdout",
          "text": [
            "Epoch 1/100\n",
            "22/22 [==============================] - 13s 66ms/step - loss: 0.0142 - val_loss: 0.0360\n",
            "Epoch 2/100\n",
            "22/22 [==============================] - 0s 9ms/step - loss: 0.0017 - val_loss: 0.0105\n",
            "Epoch 3/100\n",
            "22/22 [==============================] - 0s 9ms/step - loss: 0.0013 - val_loss: 0.0043\n",
            "Epoch 4/100\n",
            "22/22 [==============================] - 0s 10ms/step - loss: 0.0011 - val_loss: 0.0050\n",
            "Epoch 5/100\n",
            "22/22 [==============================] - 0s 9ms/step - loss: 0.0011 - val_loss: 0.0038\n",
            "Epoch 6/100\n",
            "22/22 [==============================] - 0s 9ms/step - loss: 0.0011 - val_loss: 0.0037\n",
            "Epoch 7/100\n",
            "22/22 [==============================] - 0s 8ms/step - loss: 9.5816e-04 - val_loss: 0.0096\n",
            "Epoch 8/100\n",
            "22/22 [==============================] - 0s 9ms/step - loss: 0.0010 - val_loss: 0.0057\n",
            "Epoch 9/100\n",
            "22/22 [==============================] - 0s 8ms/step - loss: 0.0011 - val_loss: 0.0041\n",
            "Epoch 10/100\n",
            "22/22 [==============================] - 0s 8ms/step - loss: 0.0010 - val_loss: 0.0069\n",
            "Epoch 11/100\n",
            "22/22 [==============================] - 0s 9ms/step - loss: 0.0010 - val_loss: 0.0039\n",
            "Epoch 12/100\n",
            "22/22 [==============================] - 0s 8ms/step - loss: 8.8105e-04 - val_loss: 0.0043\n",
            "Epoch 13/100\n",
            "22/22 [==============================] - 0s 9ms/step - loss: 9.6964e-04 - val_loss: 0.0067\n",
            "Epoch 14/100\n",
            "22/22 [==============================] - 0s 8ms/step - loss: 0.0012 - val_loss: 0.0037\n",
            "Epoch 15/100\n",
            "22/22 [==============================] - 0s 9ms/step - loss: 8.8000e-04 - val_loss: 0.0045\n",
            "Epoch 16/100\n",
            "22/22 [==============================] - 0s 9ms/step - loss: 7.5888e-04 - val_loss: 0.0050\n",
            "Epoch 17/100\n",
            "22/22 [==============================] - 0s 9ms/step - loss: 7.3210e-04 - val_loss: 0.0051\n",
            "Epoch 18/100\n",
            "22/22 [==============================] - 0s 9ms/step - loss: 7.4066e-04 - val_loss: 0.0042\n",
            "Epoch 19/100\n",
            "22/22 [==============================] - 0s 9ms/step - loss: 8.3494e-04 - val_loss: 0.0058\n",
            "Epoch 20/100\n",
            "22/22 [==============================] - 0s 9ms/step - loss: 7.1049e-04 - val_loss: 0.0038\n",
            "Epoch 21/100\n",
            "22/22 [==============================] - 0s 9ms/step - loss: 7.0361e-04 - val_loss: 0.0089\n",
            "Epoch 22/100\n",
            "22/22 [==============================] - 0s 9ms/step - loss: 5.6385e-04 - val_loss: 0.0094\n",
            "Epoch 23/100\n",
            "22/22 [==============================] - 0s 9ms/step - loss: 5.5019e-04 - val_loss: 0.0053\n",
            "Epoch 24/100\n",
            "22/22 [==============================] - 0s 9ms/step - loss: 4.7145e-04 - val_loss: 0.0076\n",
            "Epoch 25/100\n",
            "22/22 [==============================] - 0s 9ms/step - loss: 5.6877e-04 - val_loss: 0.0038\n",
            "Epoch 26/100\n",
            "22/22 [==============================] - 0s 9ms/step - loss: 4.5811e-04 - val_loss: 0.0048\n",
            "Epoch 27/100\n",
            "22/22 [==============================] - 0s 9ms/step - loss: 4.2696e-04 - val_loss: 0.0051\n",
            "Epoch 28/100\n",
            "22/22 [==============================] - 0s 9ms/step - loss: 4.9719e-04 - val_loss: 0.0077\n",
            "Epoch 29/100\n",
            "22/22 [==============================] - 0s 9ms/step - loss: 4.8846e-04 - val_loss: 0.0162\n",
            "Epoch 30/100\n",
            "22/22 [==============================] - 0s 8ms/step - loss: 6.1612e-04 - val_loss: 0.0180\n",
            "Epoch 31/100\n",
            "22/22 [==============================] - 0s 9ms/step - loss: 4.3300e-04 - val_loss: 0.0076\n",
            "Epoch 32/100\n",
            "22/22 [==============================] - 0s 9ms/step - loss: 4.0963e-04 - val_loss: 0.0104\n",
            "Epoch 33/100\n",
            "22/22 [==============================] - 0s 9ms/step - loss: 4.4336e-04 - val_loss: 0.0115\n",
            "Epoch 34/100\n",
            "22/22 [==============================] - 0s 9ms/step - loss: 4.1326e-04 - val_loss: 0.0086\n",
            "Epoch 35/100\n",
            "22/22 [==============================] - 0s 8ms/step - loss: 3.7337e-04 - val_loss: 0.0050\n",
            "Epoch 36/100\n",
            "22/22 [==============================] - 0s 8ms/step - loss: 4.0864e-04 - val_loss: 0.0079\n",
            "Epoch 37/100\n",
            "22/22 [==============================] - 0s 9ms/step - loss: 3.6888e-04 - val_loss: 0.0106\n",
            "Epoch 38/100\n",
            "22/22 [==============================] - 0s 8ms/step - loss: 3.9042e-04 - val_loss: 0.0052\n",
            "Epoch 39/100\n",
            "22/22 [==============================] - 0s 9ms/step - loss: 3.8897e-04 - val_loss: 0.0105\n",
            "Epoch 40/100\n",
            "22/22 [==============================] - 0s 9ms/step - loss: 3.8438e-04 - val_loss: 0.0114\n",
            "Epoch 41/100\n",
            "22/22 [==============================] - 0s 8ms/step - loss: 4.0314e-04 - val_loss: 0.0081\n",
            "Epoch 42/100\n",
            "22/22 [==============================] - 0s 9ms/step - loss: 3.5943e-04 - val_loss: 0.0041\n",
            "Epoch 43/100\n",
            "22/22 [==============================] - 0s 9ms/step - loss: 3.5026e-04 - val_loss: 0.0078\n",
            "Epoch 44/100\n",
            "22/22 [==============================] - 0s 9ms/step - loss: 3.7234e-04 - val_loss: 0.0039\n",
            "Epoch 45/100\n",
            "22/22 [==============================] - 0s 9ms/step - loss: 3.5536e-04 - val_loss: 0.0060\n",
            "Epoch 46/100\n",
            "22/22 [==============================] - 0s 9ms/step - loss: 4.1632e-04 - val_loss: 0.0057\n",
            "Epoch 47/100\n",
            "22/22 [==============================] - 0s 8ms/step - loss: 3.3880e-04 - val_loss: 0.0050\n",
            "Epoch 48/100\n",
            "22/22 [==============================] - 0s 9ms/step - loss: 3.5328e-04 - val_loss: 0.0032\n",
            "Epoch 49/100\n",
            "22/22 [==============================] - 0s 13ms/step - loss: 3.7537e-04 - val_loss: 0.0033\n",
            "Epoch 50/100\n",
            "22/22 [==============================] - 0s 13ms/step - loss: 3.9450e-04 - val_loss: 0.0025\n",
            "Epoch 51/100\n",
            "22/22 [==============================] - 0s 12ms/step - loss: 4.0251e-04 - val_loss: 0.0036\n",
            "Epoch 52/100\n",
            "22/22 [==============================] - 0s 12ms/step - loss: 3.3874e-04 - val_loss: 0.0031\n",
            "Epoch 53/100\n",
            "22/22 [==============================] - 0s 11ms/step - loss: 3.0751e-04 - val_loss: 0.0036\n",
            "Epoch 54/100\n",
            "22/22 [==============================] - 0s 12ms/step - loss: 3.6483e-04 - val_loss: 0.0029\n",
            "Epoch 55/100\n",
            "22/22 [==============================] - 0s 12ms/step - loss: 3.5199e-04 - val_loss: 0.0042\n",
            "Epoch 56/100\n",
            "22/22 [==============================] - 0s 12ms/step - loss: 3.1277e-04 - val_loss: 0.0052\n",
            "Epoch 57/100\n",
            "22/22 [==============================] - 0s 13ms/step - loss: 3.3381e-04 - val_loss: 0.0033\n",
            "Epoch 58/100\n",
            "22/22 [==============================] - 0s 12ms/step - loss: 3.5879e-04 - val_loss: 0.0027\n",
            "Epoch 59/100\n",
            "22/22 [==============================] - 0s 13ms/step - loss: 3.1924e-04 - val_loss: 0.0038\n",
            "Epoch 60/100\n",
            "22/22 [==============================] - 0s 13ms/step - loss: 3.0339e-04 - val_loss: 0.0063\n",
            "Epoch 61/100\n",
            "22/22 [==============================] - 0s 12ms/step - loss: 3.3299e-04 - val_loss: 0.0047\n",
            "Epoch 62/100\n",
            "22/22 [==============================] - 0s 10ms/step - loss: 2.9216e-04 - val_loss: 0.0025\n",
            "Epoch 63/100\n",
            "22/22 [==============================] - 0s 9ms/step - loss: 2.9754e-04 - val_loss: 0.0029\n",
            "Epoch 64/100\n",
            "22/22 [==============================] - 0s 9ms/step - loss: 3.1378e-04 - val_loss: 0.0023\n",
            "Epoch 65/100\n",
            "22/22 [==============================] - 0s 9ms/step - loss: 3.2313e-04 - val_loss: 0.0036\n",
            "Epoch 66/100\n",
            "22/22 [==============================] - 0s 8ms/step - loss: 2.8505e-04 - val_loss: 0.0023\n",
            "Epoch 67/100\n",
            "22/22 [==============================] - 0s 8ms/step - loss: 2.7069e-04 - val_loss: 0.0017\n",
            "Epoch 68/100\n",
            "22/22 [==============================] - 0s 8ms/step - loss: 3.3929e-04 - val_loss: 0.0017\n",
            "Epoch 69/100\n",
            "22/22 [==============================] - 0s 9ms/step - loss: 2.6806e-04 - val_loss: 0.0021\n",
            "Epoch 70/100\n",
            "22/22 [==============================] - 0s 9ms/step - loss: 2.8191e-04 - val_loss: 0.0024\n",
            "Epoch 71/100\n",
            "22/22 [==============================] - 0s 9ms/step - loss: 2.9488e-04 - val_loss: 0.0025\n",
            "Epoch 72/100\n",
            "22/22 [==============================] - 0s 9ms/step - loss: 2.6754e-04 - val_loss: 0.0024\n",
            "Epoch 73/100\n",
            "22/22 [==============================] - 0s 9ms/step - loss: 2.7467e-04 - val_loss: 0.0020\n",
            "Epoch 74/100\n",
            "22/22 [==============================] - 0s 9ms/step - loss: 2.7972e-04 - val_loss: 0.0019\n",
            "Epoch 75/100\n",
            "22/22 [==============================] - 0s 8ms/step - loss: 2.6541e-04 - val_loss: 0.0022\n",
            "Epoch 76/100\n",
            "22/22 [==============================] - 0s 8ms/step - loss: 2.6382e-04 - val_loss: 0.0025\n",
            "Epoch 77/100\n",
            "22/22 [==============================] - 0s 9ms/step - loss: 2.4703e-04 - val_loss: 0.0023\n",
            "Epoch 78/100\n",
            "22/22 [==============================] - 0s 9ms/step - loss: 2.4540e-04 - val_loss: 0.0018\n",
            "Epoch 79/100\n",
            "22/22 [==============================] - 0s 9ms/step - loss: 2.5945e-04 - val_loss: 0.0019\n",
            "Epoch 80/100\n",
            "22/22 [==============================] - 0s 9ms/step - loss: 2.6006e-04 - val_loss: 0.0017\n",
            "Epoch 81/100\n",
            "22/22 [==============================] - 0s 9ms/step - loss: 2.6318e-04 - val_loss: 0.0024\n",
            "Epoch 82/100\n",
            "22/22 [==============================] - 0s 9ms/step - loss: 3.0794e-04 - val_loss: 0.0030\n",
            "Epoch 83/100\n",
            "22/22 [==============================] - 0s 9ms/step - loss: 3.6335e-04 - val_loss: 0.0038\n",
            "Epoch 84/100\n",
            "22/22 [==============================] - 0s 10ms/step - loss: 2.5528e-04 - val_loss: 0.0020\n",
            "Epoch 85/100\n",
            "22/22 [==============================] - 0s 10ms/step - loss: 2.7930e-04 - val_loss: 0.0025\n",
            "Epoch 86/100\n",
            "22/22 [==============================] - 0s 9ms/step - loss: 2.4614e-04 - val_loss: 0.0019\n",
            "Epoch 87/100\n",
            "22/22 [==============================] - 0s 9ms/step - loss: 2.2881e-04 - val_loss: 0.0047\n",
            "Epoch 88/100\n",
            "22/22 [==============================] - 0s 9ms/step - loss: 2.6066e-04 - val_loss: 0.0016\n",
            "Epoch 89/100\n",
            "22/22 [==============================] - 0s 9ms/step - loss: 2.9378e-04 - val_loss: 0.0036\n",
            "Epoch 90/100\n",
            "22/22 [==============================] - 0s 9ms/step - loss: 2.5298e-04 - val_loss: 0.0019\n",
            "Epoch 91/100\n",
            "22/22 [==============================] - 0s 9ms/step - loss: 2.3295e-04 - val_loss: 0.0016\n",
            "Epoch 92/100\n",
            "22/22 [==============================] - 0s 9ms/step - loss: 3.1120e-04 - val_loss: 0.0021\n",
            "Epoch 93/100\n",
            "22/22 [==============================] - 0s 10ms/step - loss: 2.9292e-04 - val_loss: 0.0080\n",
            "Epoch 94/100\n",
            "22/22 [==============================] - 0s 10ms/step - loss: 2.9714e-04 - val_loss: 0.0022\n",
            "Epoch 95/100\n",
            "22/22 [==============================] - 0s 9ms/step - loss: 2.5713e-04 - val_loss: 0.0015\n",
            "Epoch 96/100\n",
            "22/22 [==============================] - 0s 9ms/step - loss: 2.3302e-04 - val_loss: 0.0027\n",
            "Epoch 97/100\n",
            "22/22 [==============================] - 0s 9ms/step - loss: 2.2976e-04 - val_loss: 0.0023\n",
            "Epoch 98/100\n",
            "22/22 [==============================] - 0s 9ms/step - loss: 2.2384e-04 - val_loss: 0.0021\n",
            "Epoch 99/100\n",
            "22/22 [==============================] - 0s 10ms/step - loss: 2.2678e-04 - val_loss: 0.0024\n",
            "Epoch 100/100\n",
            "22/22 [==============================] - 0s 9ms/step - loss: 2.7318e-04 - val_loss: 0.0026\n"
          ]
        },
        {
          "output_type": "execute_result",
          "data": {
            "text/plain": [
              "<keras.callbacks.History at 0x7f2ee81c6cb0>"
            ]
          },
          "metadata": {},
          "execution_count": 21
        }
      ],
      "source": [
        "model.fit(X_train,y_train,validation_data=(X_test,ytest),epochs=100,batch_size=64,verbose=1)"
      ]
    },
    {
      "cell_type": "code",
      "source": [
        "\n",
        "### Lets Do the prediction and check performance metrics\n",
        "train_predict=model.predict(X_train)\n",
        "test_predict=model.predict(X_test)"
      ],
      "metadata": {
        "colab": {
          "base_uri": "https://localhost:8080/"
        },
        "id": "T6lT-uTwRZ9X",
        "outputId": "c4208f03-229e-412e-c96d-7204cafe25f0"
      },
      "execution_count": null,
      "outputs": [
        {
          "output_type": "stream",
          "name": "stdout",
          "text": [
            "44/44 [==============================] - 1s 3ms/step\n",
            "6/6 [==============================] - 0s 4ms/step\n"
          ]
        }
      ]
    },
    {
      "cell_type": "code",
      "source": [
        "##Transformback to original form\n",
        "train_predict=scaler.inverse_transform(train_predict)\n",
        "test_predict=scaler.inverse_transform(test_predict)"
      ],
      "metadata": {
        "id": "1EEaapD0Rgkj"
      },
      "execution_count": null,
      "outputs": []
    },
    {
      "cell_type": "code",
      "source": [
        "### Calculate RMSE performance metrics\n",
        "import math\n",
        "from sklearn.metrics import mean_squared_error\n",
        "math.sqrt(mean_squared_error(y_train,train_predict))"
      ],
      "metadata": {
        "colab": {
          "base_uri": "https://localhost:8080/"
        },
        "id": "kov4TJHfRipZ",
        "outputId": "b11497b2-221d-4f7b-ac78-caf7b2bcd836"
      },
      "execution_count": null,
      "outputs": [
        {
          "output_type": "execute_result",
          "data": {
            "text/plain": [
              "1027.1993126664363"
            ]
          },
          "metadata": {},
          "execution_count": 24
        }
      ]
    },
    {
      "cell_type": "code",
      "source": [
        "### Test Data RMSE\n",
        "math.sqrt(mean_squared_error(ytest,test_predict))"
      ],
      "metadata": {
        "colab": {
          "base_uri": "https://localhost:8080/"
        },
        "id": "w6sg-B7TRivH",
        "outputId": "196bd8d9-f73a-48f0-c158-754b2a4abb69"
      },
      "execution_count": null,
      "outputs": [
        {
          "output_type": "execute_result",
          "data": {
            "text/plain": [
              "3399.6119888764983"
            ]
          },
          "metadata": {},
          "execution_count": 25
        }
      ]
    },
    {
      "cell_type": "code",
      "source": [
        "ytest.transpose()"
      ],
      "metadata": {
        "colab": {
          "base_uri": "https://localhost:8080/"
        },
        "id": "nBttEGbPRixz",
        "outputId": "b2afa0fa-5d64-46e0-8dac-9abe2f89d8f2"
      },
      "execution_count": null,
      "outputs": [
        {
          "output_type": "execute_result",
          "data": {
            "text/plain": [
              "array([0.73750362, 0.70107687, 0.70866607, 0.68674018, 0.6121791 ,\n",
              "       0.56687424, 0.63348004, 0.64968636, 0.60235519, 0.60139413,\n",
              "       0.63091191, 0.60194861, 0.57662676, 0.58578105, 0.61721928,\n",
              "       0.68233874, 0.69966858, 0.70559537, 0.6977677 , 0.72628904,\n",
              "       0.73903698, 0.74136851, 0.7354785 , 0.73865737, 0.70579649,\n",
              "       0.7326176 , 0.72124932, 0.7449925 , 0.78418071, 0.80015945,\n",
              "       0.79258239, 0.796364  , 0.77508351, 0.80271235, 0.86280438,\n",
              "       0.84036859, 0.82252395, 0.8649506 , 0.84644996, 0.87457479,\n",
              "       0.85655357, 0.81267565, 0.8896725 , 0.91624099, 0.89687926,\n",
              "       0.88957321, 0.8968278 , 0.95336512, 0.95653795, 0.9423064 ,\n",
              "       0.93071566, 0.93946213, 0.95970582, 1.        , 0.98376812,\n",
              "       0.96305007, 0.98185179, 0.96966602, 0.96583885, 0.96128046,\n",
              "       0.94930093, 0.87384957, 0.88948538, 0.8276814 , 0.89171746,\n",
              "       0.91580755, 0.88497969, 0.84756186, 0.90053832, 0.88601343,\n",
              "       0.93908697, 0.83768386, 0.85009446, 0.89142041, 0.92333491,\n",
              "       0.96055865, 0.95265591, 0.93742523, 0.87678063, 0.8538991 ,\n",
              "       0.87069441, 0.90446376, 0.89453683, 0.92021519, 0.8526209 ,\n",
              "       0.80947032, 0.84653153, 0.85743945, 0.78262932, 0.79943681,\n",
              "       0.83290498, 0.8199119 , 0.80325417, 0.82030545, 0.81243873,\n",
              "       0.81556372, 0.83254118, 0.82476806, 0.85214624, 0.83911916,\n",
              "       0.84850799, 0.84228569, 0.8365283 , 0.78572161, 0.750761  ,\n",
              "       0.76794552, 0.76151632, 0.77976749, 0.79251399, 0.77808803,\n",
              "       0.78505141, 0.73330134, 0.70539678, 0.65792634, 0.63638367,\n",
              "       0.65032298, 0.63454158, 0.66743744, 0.69571948, 0.66959554,\n",
              "       0.68254481, 0.6868918 , 0.69124241, 0.66190136, 0.65165181,\n",
              "       0.63714025, 0.61760597, 0.52411655, 0.49148266, 0.51877265,\n",
              "       0.49856491, 0.50177824, 0.50423484, 0.49459804, 0.52103671,\n",
              "       0.53203473, 0.53302895, 0.55093822, 0.57295783, 0.54973782,\n",
              "       0.54949057, 0.61368901, 0.62014585, 0.62913109, 0.64724159,\n",
              "       0.64262312, 0.66778936, 0.63336128, 0.60161493, 0.59937257,\n",
              "       0.59162745, 0.60295704, 0.65516369, 0.64382414, 0.59250621,\n",
              "       0.57145836, 0.56699007, 0.53819255, 0.52660363, 0.54068557,\n",
              "       0.52983432, 0.5320075 , 0.56725096, 0.57053398, 0.53681851,\n",
              "       0.60000449, 0.61115523, 0.60643323, 0.58206283, 0.5362475 ,\n",
              "       0.54608077, 0.52287915, 0.51069576, 0.52750646, 0.55966005,\n",
              "       0.53408863, 0.52380239, 0.52672834, 0.51508971, 0.5303639 ,\n",
              "       0.53657653, 0.56872682, 0.57771377, 0.60528314, 0.60566952,\n",
              "       0.58737748, 0.59534883, 0.61129766, 0.62355291])"
            ]
          },
          "metadata": {},
          "execution_count": 26
        }
      ]
    },
    {
      "cell_type": "code",
      "source": [],
      "metadata": {
        "id": "ih_tazbgUdCJ"
      },
      "execution_count": null,
      "outputs": []
    },
    {
      "cell_type": "code",
      "source": [
        "\n",
        "ytest = scaler.inverse_transform(ytest.reshape(-1,1))"
      ],
      "metadata": {
        "id": "8Pnf2S5VUXPv"
      },
      "execution_count": null,
      "outputs": []
    },
    {
      "cell_type": "code",
      "source": [
        "ytest = ytest.transpose()"
      ],
      "metadata": {
        "id": "k0Fw5gQLUzYT"
      },
      "execution_count": null,
      "outputs": []
    },
    {
      "cell_type": "code",
      "source": [
        "ytest"
      ],
      "metadata": {
        "colab": {
          "base_uri": "https://localhost:8080/"
        },
        "id": "c2qGiTfjU6VO",
        "outputId": "f5d63ce4-9028-44ef-ea94-37de19be9809"
      },
      "execution_count": null,
      "outputs": [
        {
          "output_type": "execute_result",
          "data": {
            "text/plain": [
              "array([[3569.568115, 3397.422852, 3433.287842, 3329.670654, 2977.310547,\n",
              "        2763.209229, 3077.974365, 3154.562012, 2930.884766, 2926.343018,\n",
              "        3065.837891, 2928.963379, 2809.297607, 2852.558838, 3001.129395,\n",
              "        3308.870361, 3390.767578, 3418.776367, 3381.784424, 3516.570313,\n",
              "        3576.814453, 3587.832764, 3559.997803, 3575.020508, 3419.726807,\n",
              "        3546.477783, 3492.753662, 3604.958984, 3790.154297, 3865.666504,\n",
              "        3829.858887, 3847.72998 , 3747.162842, 3877.730957, 4161.713379,\n",
              "        4055.686523, 3971.356445, 4171.855957, 4084.425781, 4217.337891,\n",
              "        4132.17334 , 3924.81543 , 4288.686523, 4414.243652, 4322.744141,\n",
              "        4288.217285, 4322.500977, 4589.68457 , 4604.678711, 4537.42334 ,\n",
              "        4482.647949, 4523.981934, 4619.649414, 4810.071289, 4733.362793,\n",
              "        4635.453613, 4724.306641, 4666.719238, 4648.632813, 4627.09082 ,\n",
              "        4570.478027, 4213.910645, 4287.802246, 3995.729492, 4298.350586,\n",
              "        4412.195313, 4266.509277, 4089.68042 , 4340.036133, 4271.394531,\n",
              "        4522.208984, 4042.999023, 4101.648926, 4296.946777, 4447.768066,\n",
              "        4623.679688, 4586.333008, 4514.355957, 4227.762207, 4119.628906,\n",
              "        4199.      , 4358.586914, 4311.674316, 4433.024902, 4113.588379,\n",
              "        3909.667725, 4084.811279, 4136.359863, 3782.822754, 3862.251465,\n",
              "        4020.415039, 3959.012451, 3880.291504, 3960.872314, 3923.695801,\n",
              "        3938.463867, 4018.695801, 3981.96167 , 4111.345215, 4049.781982,\n",
              "        4094.151611, 4064.746338, 4037.538086, 3797.436279, 3632.219727,\n",
              "        3713.430176, 3683.047119, 3769.29834 , 3829.535645, 3761.361572,\n",
              "        3794.269043, 3549.708984, 3417.837891, 3193.502441, 3091.696289,\n",
              "        3157.570557, 3082.990967, 3238.449951, 3372.10498 , 3248.648682,\n",
              "        3309.844238, 3330.387207, 3350.947266, 3212.287598, 3163.850342,\n",
              "        3095.271729, 3002.956787, 2561.145264, 2406.924316, 2535.891113,\n",
              "        2440.393555, 2455.579102, 2467.188477, 2421.646973, 2546.590576,\n",
              "        2598.564941, 2603.263428, 2687.898926, 2791.958984, 2682.226074,\n",
              "        2681.057617, 2984.446045, 3014.959717, 3057.422119, 3143.008545,\n",
              "        3121.182617, 3240.113037, 3077.413086, 2927.386475, 2916.789551,\n",
              "        2880.187744, 2933.729004, 3180.446777, 3126.858398, 2884.340576,\n",
              "        2784.872803, 2763.756592, 2627.665527, 2572.898682, 2639.447021,\n",
              "        2588.16626 , 2598.436279, 2764.989502, 2780.504395, 2621.172119,\n",
              "        2919.775879, 2972.471924, 2950.156738, 2834.987305, 2618.473633,\n",
              "        2664.943604, 2555.297607, 2497.721436, 2577.165283, 2729.116455,\n",
              "        2608.27124 , 2559.660645, 2573.488037, 2518.486328, 2590.668945,\n",
              "        2620.028564, 2771.964111, 2814.43457 , 2944.72168 , 2946.547607,\n",
              "        2860.103271, 2897.77417 , 2973.14502 , 3031.060791]])"
            ]
          },
          "metadata": {},
          "execution_count": 29
        }
      ]
    },
    {
      "cell_type": "code",
      "source": [
        "x = pd.to_datetime(df['Date'])"
      ],
      "metadata": {
        "id": "0Y7ZAJ0_V7hY"
      },
      "execution_count": null,
      "outputs": []
    },
    {
      "cell_type": "code",
      "source": [
        "x=x.iloc[-189:]"
      ],
      "metadata": {
        "id": "DWBYwJ2kWAM2"
      },
      "execution_count": null,
      "outputs": []
    },
    {
      "cell_type": "code",
      "source": [
        "x = x.transpose()"
      ],
      "metadata": {
        "id": "daTe7TelWSLB"
      },
      "execution_count": null,
      "outputs": []
    },
    {
      "cell_type": "code",
      "source": [
        "x"
      ],
      "metadata": {
        "colab": {
          "base_uri": "https://localhost:8080/"
        },
        "id": "vJmwAZwHXrR4",
        "outputId": "ed29c9a2-139f-4161-e888-e15f2e410806"
      },
      "execution_count": null,
      "outputs": [
        {
          "output_type": "execute_result",
          "data": {
            "text/plain": [
              "1409   2021-09-18\n",
              "1410   2021-09-19\n",
              "1411   2021-09-20\n",
              "1412   2021-09-21\n",
              "1413   2021-09-22\n",
              "          ...    \n",
              "1593   2022-03-21\n",
              "1594   2022-03-22\n",
              "1595   2022-03-23\n",
              "1596   2022-03-24\n",
              "1597   2022-03-25\n",
              "Name: Date, Length: 189, dtype: datetime64[ns]"
            ]
          },
          "metadata": {},
          "execution_count": 33
        }
      ]
    },
    {
      "cell_type": "code",
      "source": [
        "ytest"
      ],
      "metadata": {
        "colab": {
          "base_uri": "https://localhost:8080/"
        },
        "id": "XyzH9-cjWU_t",
        "outputId": "96162b00-f009-403e-f55d-62efac0f2bc4"
      },
      "execution_count": null,
      "outputs": [
        {
          "output_type": "execute_result",
          "data": {
            "text/plain": [
              "array([[3569.568115, 3397.422852, 3433.287842, 3329.670654, 2977.310547,\n",
              "        2763.209229, 3077.974365, 3154.562012, 2930.884766, 2926.343018,\n",
              "        3065.837891, 2928.963379, 2809.297607, 2852.558838, 3001.129395,\n",
              "        3308.870361, 3390.767578, 3418.776367, 3381.784424, 3516.570313,\n",
              "        3576.814453, 3587.832764, 3559.997803, 3575.020508, 3419.726807,\n",
              "        3546.477783, 3492.753662, 3604.958984, 3790.154297, 3865.666504,\n",
              "        3829.858887, 3847.72998 , 3747.162842, 3877.730957, 4161.713379,\n",
              "        4055.686523, 3971.356445, 4171.855957, 4084.425781, 4217.337891,\n",
              "        4132.17334 , 3924.81543 , 4288.686523, 4414.243652, 4322.744141,\n",
              "        4288.217285, 4322.500977, 4589.68457 , 4604.678711, 4537.42334 ,\n",
              "        4482.647949, 4523.981934, 4619.649414, 4810.071289, 4733.362793,\n",
              "        4635.453613, 4724.306641, 4666.719238, 4648.632813, 4627.09082 ,\n",
              "        4570.478027, 4213.910645, 4287.802246, 3995.729492, 4298.350586,\n",
              "        4412.195313, 4266.509277, 4089.68042 , 4340.036133, 4271.394531,\n",
              "        4522.208984, 4042.999023, 4101.648926, 4296.946777, 4447.768066,\n",
              "        4623.679688, 4586.333008, 4514.355957, 4227.762207, 4119.628906,\n",
              "        4199.      , 4358.586914, 4311.674316, 4433.024902, 4113.588379,\n",
              "        3909.667725, 4084.811279, 4136.359863, 3782.822754, 3862.251465,\n",
              "        4020.415039, 3959.012451, 3880.291504, 3960.872314, 3923.695801,\n",
              "        3938.463867, 4018.695801, 3981.96167 , 4111.345215, 4049.781982,\n",
              "        4094.151611, 4064.746338, 4037.538086, 3797.436279, 3632.219727,\n",
              "        3713.430176, 3683.047119, 3769.29834 , 3829.535645, 3761.361572,\n",
              "        3794.269043, 3549.708984, 3417.837891, 3193.502441, 3091.696289,\n",
              "        3157.570557, 3082.990967, 3238.449951, 3372.10498 , 3248.648682,\n",
              "        3309.844238, 3330.387207, 3350.947266, 3212.287598, 3163.850342,\n",
              "        3095.271729, 3002.956787, 2561.145264, 2406.924316, 2535.891113,\n",
              "        2440.393555, 2455.579102, 2467.188477, 2421.646973, 2546.590576,\n",
              "        2598.564941, 2603.263428, 2687.898926, 2791.958984, 2682.226074,\n",
              "        2681.057617, 2984.446045, 3014.959717, 3057.422119, 3143.008545,\n",
              "        3121.182617, 3240.113037, 3077.413086, 2927.386475, 2916.789551,\n",
              "        2880.187744, 2933.729004, 3180.446777, 3126.858398, 2884.340576,\n",
              "        2784.872803, 2763.756592, 2627.665527, 2572.898682, 2639.447021,\n",
              "        2588.16626 , 2598.436279, 2764.989502, 2780.504395, 2621.172119,\n",
              "        2919.775879, 2972.471924, 2950.156738, 2834.987305, 2618.473633,\n",
              "        2664.943604, 2555.297607, 2497.721436, 2577.165283, 2729.116455,\n",
              "        2608.27124 , 2559.660645, 2573.488037, 2518.486328, 2590.668945,\n",
              "        2620.028564, 2771.964111, 2814.43457 , 2944.72168 , 2946.547607,\n",
              "        2860.103271, 2897.77417 , 2973.14502 , 3031.060791]])"
            ]
          },
          "metadata": {},
          "execution_count": 34
        }
      ]
    },
    {
      "cell_type": "code",
      "source": [
        "test_predict = test_predict.transpose()"
      ],
      "metadata": {
        "id": "IdrOJbApZFie"
      },
      "execution_count": null,
      "outputs": []
    },
    {
      "cell_type": "code",
      "source": [
        "test_predict"
      ],
      "metadata": {
        "colab": {
          "base_uri": "https://localhost:8080/"
        },
        "id": "tAnnSdeGZNgN",
        "outputId": "7e6f0a2a-446b-4702-97f9-0fcbb2268f6c"
      },
      "execution_count": null,
      "outputs": [
        {
          "output_type": "execute_result",
          "data": {
            "text/plain": [
              "array([[3495.8833, 3530.3748, 3363.82  , 3300.929 , 3225.5635, 2938.3435,\n",
              "        2671.2874, 2826.5532, 3036.0098, 2963.6501, 2878.8743, 2949.3345,\n",
              "        2913.3606, 2792.4243, 2763.071 , 2876.6958, 3165.6667, 3366.2417,\n",
              "        3421.6392, 3367.123 , 3416.2056, 3488.986 , 3511.6482, 3476.5747,\n",
              "        3460.9407, 3335.0276, 3377.3296, 3384.706 , 3466.6006, 3653.2314,\n",
              "        3778.841 , 3753.5754, 3717.9248, 3613.7947, 3677.2698, 3961.0557,\n",
              "        3965.0486, 3817.9746, 3924.7505, 3910.0623, 3985.722 , 3935.6675,\n",
              "        3711.6067, 3955.991 , 4205.17  , 4148.36  , 4032.2634, 4023.8638,\n",
              "        4275.274 , 4361.5684, 4254.6724, 4135.629 , 4144.8286, 4253.351 ,\n",
              "        4454.668 , 4406.4263, 4239.8955, 4274.346 , 4256.68  , 4223.1387,\n",
              "        4198.6797, 4147.6226, 3814.8965, 3813.8835, 3645.498 , 3884.8855,\n",
              "        4131.0024, 4042.8206, 3808.9844, 3977.056 , 4024.834 , 4229.079 ,\n",
              "        3852.7039, 3736.4988, 3953.821 , 4191.9697, 4386.3633, 4351.675 ,\n",
              "        4207.869 , 3890.1638, 3720.2883, 3813.0906, 4035.369 , 4062.687 ,\n",
              "        4139.2397, 3870.4421, 3587.7834, 3712.0767, 3873.6304, 3610.8892,\n",
              "        3565.4304, 3752.9954, 3790.1458, 3703.1028, 3736.1785, 3736.768 ,\n",
              "        3741.6067, 3813.4697, 3807.9023, 3897.5994, 3876.29  , 3880.3276,\n",
              "        3855.9268, 3816.743 , 3599.3936, 3392.4634, 3437.509 , 3488.3862,\n",
              "        3584.2595, 3675.7754, 3640.913 , 3633.7788, 3436.4688, 3250.7114,\n",
              "        3045.5623, 2927.3723, 2978.3933, 2989.4849, 3108.3118, 3276.0784,\n",
              "        3246.5999, 3235.141 , 3249.243 , 3268.78  , 3169.091 , 3077.6282,\n",
              "        3005.3853, 2925.154 , 2597.872 , 2349.7363, 2369.3782, 2384.2036,\n",
              "        2402.3188, 2423.2805, 2408.828 , 2466.5542, 2540.0767, 2575.0537,\n",
              "        2631.3042, 2723.77  , 2698.4412, 2655.3704, 2825.932 , 2967.2485,\n",
              "        3035.7168, 3097.2283, 3096.999 , 3159.7625, 3074.315 , 2902.0217,\n",
              "        2822.3772, 2795.0994, 2835.869 , 3039.892 , 3114.8667, 2935.7102,\n",
              "        2751.9456, 2675.64  , 2584.9155, 2516.9546, 2543.871 , 2550.102 ,\n",
              "        2556.0208, 2662.207 , 2740.313 , 2661.5042, 2778.9902, 2909.6182,\n",
              "        2941.9277, 2849.6125, 2643.2764, 2572.6638, 2511.2644, 2454.509 ,\n",
              "        2485.8757, 2618.7473, 2623.4028, 2562.0408, 2530.3933, 2491.0383,\n",
              "        2516.0151, 2560.356 , 2677.216 , 2771.3762, 2883.683 , 2929.5608,\n",
              "        2868.2502, 2841.255 , 2888.2183]], dtype=float32)"
            ]
          },
          "metadata": {},
          "execution_count": 36
        }
      ]
    },
    {
      "cell_type": "code",
      "source": [
        "import plotly.graph_objects as go\n",
        "\n",
        "fig = go.Figure()\n",
        "fig.add_trace(\n",
        "    go.Scatter(x=x, y=[3569.568115, 3397.422852, 3433.287842, 3329.670654, 2977.310547,\n",
        "        2763.209229, 3077.974365, 3154.562012, 2930.884766, 2926.343018,\n",
        "        3065.837891, 2928.963379, 2809.297607, 2852.558838, 3001.129395,\n",
        "        3308.870361, 3390.767578, 3418.776367, 3381.784424, 3516.570313,\n",
        "        3576.814453, 3587.832764, 3559.997803, 3575.020508, 3419.726807,\n",
        "        3546.477783, 3492.753662, 3604.958984, 3790.154297, 3865.666504,\n",
        "        3829.858887, 3847.72998 , 3747.162842, 3877.730957, 4161.713379,\n",
        "        4055.686523, 3971.356445, 4171.855957, 4084.425781, 4217.337891,\n",
        "        4132.17334 , 3924.81543 , 4288.686523, 4414.243652, 4322.744141,\n",
        "        4288.217285, 4322.500977, 4589.68457 , 4604.678711, 4537.42334 ,\n",
        "        4482.647949, 4523.981934, 4619.649414, 4810.071289, 4733.362793,\n",
        "        4635.453613, 4724.306641, 4666.719238, 4648.632813, 4627.09082 ,\n",
        "        4570.478027, 4213.910645, 4287.802246, 3995.729492, 4298.350586,\n",
        "        4412.195313, 4266.509277, 4089.68042 , 4340.036133, 4271.394531,\n",
        "        4522.208984, 4042.999023, 4101.648926, 4296.946777, 4447.768066,\n",
        "        4623.679688, 4586.333008, 4514.355957, 4227.762207, 4119.628906,\n",
        "        4199.      , 4358.586914, 4311.674316, 4433.024902, 4113.588379,\n",
        "        3909.667725, 4084.811279, 4136.359863, 3782.822754, 3862.251465,\n",
        "        4020.415039, 3959.012451, 3880.291504, 3960.872314, 3923.695801,\n",
        "        3938.463867, 4018.695801, 3981.96167 , 4111.345215, 4049.781982,\n",
        "        4094.151611, 4064.746338, 4037.538086, 3797.436279, 3632.219727,\n",
        "        3713.430176, 3683.047119, 3769.29834 , 3829.535645, 3761.361572,\n",
        "        3794.269043, 3549.708984, 3417.837891, 3193.502441, 3091.696289,\n",
        "        3157.570557, 3082.990967, 3238.449951, 3372.10498 , 3248.648682,\n",
        "        3309.844238, 3330.387207, 3350.947266, 3212.287598, 3163.850342,\n",
        "        3095.271729, 3002.956787, 2561.145264, 2406.924316, 2535.891113,\n",
        "        2440.393555, 2455.579102, 2467.188477, 2421.646973, 2546.590576,\n",
        "        2598.564941, 2603.263428, 2687.898926, 2791.958984, 2682.226074,\n",
        "        2681.057617, 2984.446045, 3014.959717, 3057.422119, 3143.008545,\n",
        "        3121.182617, 3240.113037, 3077.413086, 2927.386475, 2916.789551,\n",
        "        2880.187744, 2933.729004, 3180.446777, 3126.858398, 2884.340576,\n",
        "        2784.872803, 2763.756592, 2627.665527, 2572.898682, 2639.447021,\n",
        "        2588.16626 , 2598.436279, 2764.989502, 2780.504395, 2621.172119,\n",
        "        2919.775879, 2972.471924, 2950.156738, 2834.987305, 2618.473633,\n",
        "        2664.943604, 2555.297607, 2497.721436, 2577.165283, 2729.116455,\n",
        "        2608.27124 , 2559.660645, 2573.488037, 2518.486328, 2590.668945,\n",
        "        2620.028564, 2771.964111, 2814.43457 , 2944.72168 , 2946.547607,\n",
        "        2860.103271, 2897.77417 , 2973.14502 , 3031.060791], name ='Open')\n",
        ")\n",
        "\n",
        "\n",
        "fig.add_trace(\n",
        "    go.Scatter(x=x, y=[3631.589 , 3686.7344, 3546.1729, 3468.7266, 3380.4065, 3104.0337,\n",
        "        2828.8909, 2936.276 , 3136.134 , 3106.3186, 3038.9446, 3094.56  ,\n",
        "        3063.973 , 2951.9824, 2912.2344, 3007.9543, 3280.8657, 3499.4094,\n",
        "        3586.6313, 3552.676 , 3588.5264, 3649.3909, 3673.585 , 3643.1619,\n",
        "        3621.587 , 3498.6138, 3519.4019, 3523.9238, 3601.6448, 3782.4443,\n",
        "        3921.8777, 3920.7039, 3886.1282, 3777.1113, 3812.932 , 4067.7537,\n",
        "        4105.346 , 3982.6895, 4055.4995, 4038.1611, 4104.0273, 4062.929 ,\n",
        "        3851.2212, 4040.5532, 4283.6772, 4275.868 , 4173.434 , 4138.588 ,\n",
        "        4350.879 , 4455.209 , 4377.81  , 4251.0234, 4226.296 , 4313.942 ,\n",
        "        4511.1646, 4498.677 , 4345.319 , 4342.4614, 4314.4785, 4281.4185,\n",
        "        4255.031 , 4204.7134, 3894.6914, 3853.1028, 3692.5134, 3904.623 ,\n",
        "        4168.2686, 4145.135 , 3939.235 , 4056.8533, 4106.8613, 4308.5356,\n",
        "        3994.7756, 3848.7097, 4010.3677, 4249.8193, 4474.303 , 4481.215 ,\n",
        "        4345.479 , 4019.1252, 3803.8   , 3851.7725, 4066.4426, 4138.197 ,\n",
        "        4232.7095, 4000.1748, 3708.2317, 3773.3103, 3927.0654, 3724.1685,\n",
        "        3669.8271, 3829.3555, 3889.3035, 3831.0083, 3857.3196, 3857.1396,\n",
        "        3862.3372, 3929.4673, 3933.6035, 4016.6353, 4005.7524, 4008.235 ,\n",
        "        3981.677 , 3938.9248, 3732.253 , 3515.3586, 3526.0066, 3576.0642,\n",
        "        3682.5806, 3790.6257, 3780.5513, 3776.4329, 3593.0251, 3399.2097,\n",
        "        3183.3708, 3050.1106, 3084.775 , 3106.4417, 3228.8203, 3402.8994,\n",
        "        3404.2852, 3399.916 , 3408.9392, 3424.1777, 3333.7966, 3239.5535,\n",
        "        3158.9854, 3074.3745, 2765.945 , 2507.3477, 2492.4868, 2499.8809,\n",
        "        2521.7632, 2547.5444, 2539.7341, 2592.181 , 2663.2646, 2703.797 ,\n",
        "        2762.5955, 2854.5637, 2842.831 , 2805.0864, 2954.3748, 3096.5615,\n",
        "        3180.6492, 3251.1924, 3259.746 , 3316.933 , 3242.5842, 3076.1306,\n",
        "        2980.589 , 2939.0273, 2970.019 , 3160.6677, 3254.7246, 3110.8774,\n",
        "        2928.8018, 2830.472 , 2729.4773, 2655.9048, 2672.8403, 2680.8433,\n",
        "        2689.9302, 2788.1401, 2869.8545, 2811.1187, 2914.3977, 3040.7332,\n",
        "        3087.3208, 3013.181 , 2816.4766, 2726.1062, 2652.5256, 2590.9082,\n",
        "        2613.1636, 2736.6848, 2756.148 , 2707.606 , 2673.9685, 2631.518 ,\n",
        "        2648.1357, 2688.718 , 2800.4915, 2900.5703, 3017.8003, 3075.3547,\n",
        "        3028.981 , 2999.1472, 3034.3438] , name = 'Predicted_LSTM(Open)')\n",
        ")\n",
        "\n",
        "fig.show()"
      ],
      "metadata": {
        "colab": {
          "base_uri": "https://localhost:8080/",
          "height": 542
        },
        "id": "Ff34nNFNVEv2",
        "outputId": "a053729a-25e6-4a9f-a969-09d4863b8eee"
      },
      "execution_count": null,
      "outputs": [
        {
          "output_type": "display_data",
          "data": {
            "text/html": [
              "<html>\n",
              "<head><meta charset=\"utf-8\" /></head>\n",
              "<body>\n",
              "    <div>            <script src=\"https://cdnjs.cloudflare.com/ajax/libs/mathjax/2.7.5/MathJax.js?config=TeX-AMS-MML_SVG\"></script><script type=\"text/javascript\">if (window.MathJax && window.MathJax.Hub && window.MathJax.Hub.Config) {window.MathJax.Hub.Config({SVG: {font: \"STIX-Web\"}});}</script>                <script type=\"text/javascript\">window.PlotlyConfig = {MathJaxConfig: 'local'};</script>\n",
              "        <script charset=\"utf-8\" src=\"https://cdn.plot.ly/plotly-2.24.1.min.js\"></script>                <div id=\"933c0506-35e5-4593-bd04-cff27493224c\" class=\"plotly-graph-div\" style=\"height:525px; width:100%;\"></div>            <script type=\"text/javascript\">                                    window.PLOTLYENV=window.PLOTLYENV || {};                                    if (document.getElementById(\"933c0506-35e5-4593-bd04-cff27493224c\")) {                    Plotly.newPlot(                        \"933c0506-35e5-4593-bd04-cff27493224c\",                        [{\"name\":\"Open\",\"x\":[\"2021-09-18T00:00:00\",\"2021-09-19T00:00:00\",\"2021-09-20T00:00:00\",\"2021-09-21T00:00:00\",\"2021-09-22T00:00:00\",\"2021-09-23T00:00:00\",\"2021-09-24T00:00:00\",\"2021-09-25T00:00:00\",\"2021-09-26T00:00:00\",\"2021-09-27T00:00:00\",\"2021-09-28T00:00:00\",\"2021-09-29T00:00:00\",\"2021-09-30T00:00:00\",\"2021-10-01T00:00:00\",\"2021-10-02T00:00:00\",\"2021-10-03T00:00:00\",\"2021-10-04T00:00:00\",\"2021-10-05T00:00:00\",\"2021-10-06T00:00:00\",\"2021-10-07T00:00:00\",\"2021-10-08T00:00:00\",\"2021-10-09T00:00:00\",\"2021-10-10T00:00:00\",\"2021-10-11T00:00:00\",\"2021-10-12T00:00:00\",\"2021-10-13T00:00:00\",\"2021-10-14T00:00:00\",\"2021-10-15T00:00:00\",\"2021-10-16T00:00:00\",\"2021-10-17T00:00:00\",\"2021-10-18T00:00:00\",\"2021-10-19T00:00:00\",\"2021-10-20T00:00:00\",\"2021-10-21T00:00:00\",\"2021-10-22T00:00:00\",\"2021-10-23T00:00:00\",\"2021-10-24T00:00:00\",\"2021-10-25T00:00:00\",\"2021-10-26T00:00:00\",\"2021-10-27T00:00:00\",\"2021-10-28T00:00:00\",\"2021-10-29T00:00:00\",\"2021-10-30T00:00:00\",\"2021-10-31T00:00:00\",\"2021-11-01T00:00:00\",\"2021-11-02T00:00:00\",\"2021-11-03T00:00:00\",\"2021-11-04T00:00:00\",\"2021-11-05T00:00:00\",\"2021-11-06T00:00:00\",\"2021-11-07T00:00:00\",\"2021-11-08T00:00:00\",\"2021-11-09T00:00:00\",\"2021-11-10T00:00:00\",\"2021-11-11T00:00:00\",\"2021-11-12T00:00:00\",\"2021-11-13T00:00:00\",\"2021-11-14T00:00:00\",\"2021-11-15T00:00:00\",\"2021-11-16T00:00:00\",\"2021-11-17T00:00:00\",\"2021-11-18T00:00:00\",\"2021-11-19T00:00:00\",\"2021-11-20T00:00:00\",\"2021-11-21T00:00:00\",\"2021-11-22T00:00:00\",\"2021-11-23T00:00:00\",\"2021-11-24T00:00:00\",\"2021-11-25T00:00:00\",\"2021-11-26T00:00:00\",\"2021-11-27T00:00:00\",\"2021-11-28T00:00:00\",\"2021-11-29T00:00:00\",\"2021-11-30T00:00:00\",\"2021-12-01T00:00:00\",\"2021-12-02T00:00:00\",\"2021-12-03T00:00:00\",\"2021-12-04T00:00:00\",\"2021-12-05T00:00:00\",\"2021-12-06T00:00:00\",\"2021-12-07T00:00:00\",\"2021-12-08T00:00:00\",\"2021-12-09T00:00:00\",\"2021-12-10T00:00:00\",\"2021-12-11T00:00:00\",\"2021-12-12T00:00:00\",\"2021-12-13T00:00:00\",\"2021-12-14T00:00:00\",\"2021-12-15T00:00:00\",\"2021-12-16T00:00:00\",\"2021-12-17T00:00:00\",\"2021-12-18T00:00:00\",\"2021-12-19T00:00:00\",\"2021-12-20T00:00:00\",\"2021-12-21T00:00:00\",\"2021-12-22T00:00:00\",\"2021-12-23T00:00:00\",\"2021-12-24T00:00:00\",\"2021-12-25T00:00:00\",\"2021-12-26T00:00:00\",\"2021-12-27T00:00:00\",\"2021-12-28T00:00:00\",\"2021-12-29T00:00:00\",\"2021-12-30T00:00:00\",\"2021-12-31T00:00:00\",\"2022-01-01T00:00:00\",\"2022-01-02T00:00:00\",\"2022-01-03T00:00:00\",\"2022-01-04T00:00:00\",\"2022-01-05T00:00:00\",\"2022-01-06T00:00:00\",\"2022-01-07T00:00:00\",\"2022-01-08T00:00:00\",\"2022-01-09T00:00:00\",\"2022-01-10T00:00:00\",\"2022-01-11T00:00:00\",\"2022-01-12T00:00:00\",\"2022-01-13T00:00:00\",\"2022-01-14T00:00:00\",\"2022-01-15T00:00:00\",\"2022-01-16T00:00:00\",\"2022-01-17T00:00:00\",\"2022-01-18T00:00:00\",\"2022-01-19T00:00:00\",\"2022-01-20T00:00:00\",\"2022-01-21T00:00:00\",\"2022-01-22T00:00:00\",\"2022-01-23T00:00:00\",\"2022-01-24T00:00:00\",\"2022-01-25T00:00:00\",\"2022-01-26T00:00:00\",\"2022-01-27T00:00:00\",\"2022-01-28T00:00:00\",\"2022-01-29T00:00:00\",\"2022-01-30T00:00:00\",\"2022-01-31T00:00:00\",\"2022-02-01T00:00:00\",\"2022-02-02T00:00:00\",\"2022-02-03T00:00:00\",\"2022-02-04T00:00:00\",\"2022-02-05T00:00:00\",\"2022-02-06T00:00:00\",\"2022-02-07T00:00:00\",\"2022-02-08T00:00:00\",\"2022-02-09T00:00:00\",\"2022-02-10T00:00:00\",\"2022-02-11T00:00:00\",\"2022-02-12T00:00:00\",\"2022-02-13T00:00:00\",\"2022-02-14T00:00:00\",\"2022-02-15T00:00:00\",\"2022-02-16T00:00:00\",\"2022-02-17T00:00:00\",\"2022-02-18T00:00:00\",\"2022-02-19T00:00:00\",\"2022-02-20T00:00:00\",\"2022-02-21T00:00:00\",\"2022-02-22T00:00:00\",\"2022-02-23T00:00:00\",\"2022-02-24T00:00:00\",\"2022-02-25T00:00:00\",\"2022-02-26T00:00:00\",\"2022-02-27T00:00:00\",\"2022-02-28T00:00:00\",\"2022-03-01T00:00:00\",\"2022-03-02T00:00:00\",\"2022-03-03T00:00:00\",\"2022-03-04T00:00:00\",\"2022-03-05T00:00:00\",\"2022-03-06T00:00:00\",\"2022-03-07T00:00:00\",\"2022-03-08T00:00:00\",\"2022-03-09T00:00:00\",\"2022-03-10T00:00:00\",\"2022-03-11T00:00:00\",\"2022-03-12T00:00:00\",\"2022-03-13T00:00:00\",\"2022-03-14T00:00:00\",\"2022-03-15T00:00:00\",\"2022-03-16T00:00:00\",\"2022-03-17T00:00:00\",\"2022-03-18T00:00:00\",\"2022-03-19T00:00:00\",\"2022-03-20T00:00:00\",\"2022-03-21T00:00:00\",\"2022-03-22T00:00:00\",\"2022-03-23T00:00:00\",\"2022-03-24T00:00:00\",\"2022-03-25T00:00:00\"],\"y\":[3569.568115,3397.422852,3433.287842,3329.670654,2977.310547,2763.209229,3077.974365,3154.562012,2930.884766,2926.343018,3065.837891,2928.963379,2809.297607,2852.558838,3001.129395,3308.870361,3390.767578,3418.776367,3381.784424,3516.570313,3576.814453,3587.832764,3559.997803,3575.020508,3419.726807,3546.477783,3492.753662,3604.958984,3790.154297,3865.666504,3829.858887,3847.72998,3747.162842,3877.730957,4161.713379,4055.686523,3971.356445,4171.855957,4084.425781,4217.337891,4132.17334,3924.81543,4288.686523,4414.243652,4322.744141,4288.217285,4322.500977,4589.68457,4604.678711,4537.42334,4482.647949,4523.981934,4619.649414,4810.071289,4733.362793,4635.453613,4724.306641,4666.719238,4648.632813,4627.09082,4570.478027,4213.910645,4287.802246,3995.729492,4298.350586,4412.195313,4266.509277,4089.68042,4340.036133,4271.394531,4522.208984,4042.999023,4101.648926,4296.946777,4447.768066,4623.679688,4586.333008,4514.355957,4227.762207,4119.628906,4199.0,4358.586914,4311.674316,4433.024902,4113.588379,3909.667725,4084.811279,4136.359863,3782.822754,3862.251465,4020.415039,3959.012451,3880.291504,3960.872314,3923.695801,3938.463867,4018.695801,3981.96167,4111.345215,4049.781982,4094.151611,4064.746338,4037.538086,3797.436279,3632.219727,3713.430176,3683.047119,3769.29834,3829.535645,3761.361572,3794.269043,3549.708984,3417.837891,3193.502441,3091.696289,3157.570557,3082.990967,3238.449951,3372.10498,3248.648682,3309.844238,3330.387207,3350.947266,3212.287598,3163.850342,3095.271729,3002.956787,2561.145264,2406.924316,2535.891113,2440.393555,2455.579102,2467.188477,2421.646973,2546.590576,2598.564941,2603.263428,2687.898926,2791.958984,2682.226074,2681.057617,2984.446045,3014.959717,3057.422119,3143.008545,3121.182617,3240.113037,3077.413086,2927.386475,2916.789551,2880.187744,2933.729004,3180.446777,3126.858398,2884.340576,2784.872803,2763.756592,2627.665527,2572.898682,2639.447021,2588.16626,2598.436279,2764.989502,2780.504395,2621.172119,2919.775879,2972.471924,2950.156738,2834.987305,2618.473633,2664.943604,2555.297607,2497.721436,2577.165283,2729.116455,2608.27124,2559.660645,2573.488037,2518.486328,2590.668945,2620.028564,2771.964111,2814.43457,2944.72168,2946.547607,2860.103271,2897.77417,2973.14502,3031.060791],\"type\":\"scatter\"},{\"name\":\"Predicted_LSTM(Open)\",\"x\":[\"2021-09-18T00:00:00\",\"2021-09-19T00:00:00\",\"2021-09-20T00:00:00\",\"2021-09-21T00:00:00\",\"2021-09-22T00:00:00\",\"2021-09-23T00:00:00\",\"2021-09-24T00:00:00\",\"2021-09-25T00:00:00\",\"2021-09-26T00:00:00\",\"2021-09-27T00:00:00\",\"2021-09-28T00:00:00\",\"2021-09-29T00:00:00\",\"2021-09-30T00:00:00\",\"2021-10-01T00:00:00\",\"2021-10-02T00:00:00\",\"2021-10-03T00:00:00\",\"2021-10-04T00:00:00\",\"2021-10-05T00:00:00\",\"2021-10-06T00:00:00\",\"2021-10-07T00:00:00\",\"2021-10-08T00:00:00\",\"2021-10-09T00:00:00\",\"2021-10-10T00:00:00\",\"2021-10-11T00:00:00\",\"2021-10-12T00:00:00\",\"2021-10-13T00:00:00\",\"2021-10-14T00:00:00\",\"2021-10-15T00:00:00\",\"2021-10-16T00:00:00\",\"2021-10-17T00:00:00\",\"2021-10-18T00:00:00\",\"2021-10-19T00:00:00\",\"2021-10-20T00:00:00\",\"2021-10-21T00:00:00\",\"2021-10-22T00:00:00\",\"2021-10-23T00:00:00\",\"2021-10-24T00:00:00\",\"2021-10-25T00:00:00\",\"2021-10-26T00:00:00\",\"2021-10-27T00:00:00\",\"2021-10-28T00:00:00\",\"2021-10-29T00:00:00\",\"2021-10-30T00:00:00\",\"2021-10-31T00:00:00\",\"2021-11-01T00:00:00\",\"2021-11-02T00:00:00\",\"2021-11-03T00:00:00\",\"2021-11-04T00:00:00\",\"2021-11-05T00:00:00\",\"2021-11-06T00:00:00\",\"2021-11-07T00:00:00\",\"2021-11-08T00:00:00\",\"2021-11-09T00:00:00\",\"2021-11-10T00:00:00\",\"2021-11-11T00:00:00\",\"2021-11-12T00:00:00\",\"2021-11-13T00:00:00\",\"2021-11-14T00:00:00\",\"2021-11-15T00:00:00\",\"2021-11-16T00:00:00\",\"2021-11-17T00:00:00\",\"2021-11-18T00:00:00\",\"2021-11-19T00:00:00\",\"2021-11-20T00:00:00\",\"2021-11-21T00:00:00\",\"2021-11-22T00:00:00\",\"2021-11-23T00:00:00\",\"2021-11-24T00:00:00\",\"2021-11-25T00:00:00\",\"2021-11-26T00:00:00\",\"2021-11-27T00:00:00\",\"2021-11-28T00:00:00\",\"2021-11-29T00:00:00\",\"2021-11-30T00:00:00\",\"2021-12-01T00:00:00\",\"2021-12-02T00:00:00\",\"2021-12-03T00:00:00\",\"2021-12-04T00:00:00\",\"2021-12-05T00:00:00\",\"2021-12-06T00:00:00\",\"2021-12-07T00:00:00\",\"2021-12-08T00:00:00\",\"2021-12-09T00:00:00\",\"2021-12-10T00:00:00\",\"2021-12-11T00:00:00\",\"2021-12-12T00:00:00\",\"2021-12-13T00:00:00\",\"2021-12-14T00:00:00\",\"2021-12-15T00:00:00\",\"2021-12-16T00:00:00\",\"2021-12-17T00:00:00\",\"2021-12-18T00:00:00\",\"2021-12-19T00:00:00\",\"2021-12-20T00:00:00\",\"2021-12-21T00:00:00\",\"2021-12-22T00:00:00\",\"2021-12-23T00:00:00\",\"2021-12-24T00:00:00\",\"2021-12-25T00:00:00\",\"2021-12-26T00:00:00\",\"2021-12-27T00:00:00\",\"2021-12-28T00:00:00\",\"2021-12-29T00:00:00\",\"2021-12-30T00:00:00\",\"2021-12-31T00:00:00\",\"2022-01-01T00:00:00\",\"2022-01-02T00:00:00\",\"2022-01-03T00:00:00\",\"2022-01-04T00:00:00\",\"2022-01-05T00:00:00\",\"2022-01-06T00:00:00\",\"2022-01-07T00:00:00\",\"2022-01-08T00:00:00\",\"2022-01-09T00:00:00\",\"2022-01-10T00:00:00\",\"2022-01-11T00:00:00\",\"2022-01-12T00:00:00\",\"2022-01-13T00:00:00\",\"2022-01-14T00:00:00\",\"2022-01-15T00:00:00\",\"2022-01-16T00:00:00\",\"2022-01-17T00:00:00\",\"2022-01-18T00:00:00\",\"2022-01-19T00:00:00\",\"2022-01-20T00:00:00\",\"2022-01-21T00:00:00\",\"2022-01-22T00:00:00\",\"2022-01-23T00:00:00\",\"2022-01-24T00:00:00\",\"2022-01-25T00:00:00\",\"2022-01-26T00:00:00\",\"2022-01-27T00:00:00\",\"2022-01-28T00:00:00\",\"2022-01-29T00:00:00\",\"2022-01-30T00:00:00\",\"2022-01-31T00:00:00\",\"2022-02-01T00:00:00\",\"2022-02-02T00:00:00\",\"2022-02-03T00:00:00\",\"2022-02-04T00:00:00\",\"2022-02-05T00:00:00\",\"2022-02-06T00:00:00\",\"2022-02-07T00:00:00\",\"2022-02-08T00:00:00\",\"2022-02-09T00:00:00\",\"2022-02-10T00:00:00\",\"2022-02-11T00:00:00\",\"2022-02-12T00:00:00\",\"2022-02-13T00:00:00\",\"2022-02-14T00:00:00\",\"2022-02-15T00:00:00\",\"2022-02-16T00:00:00\",\"2022-02-17T00:00:00\",\"2022-02-18T00:00:00\",\"2022-02-19T00:00:00\",\"2022-02-20T00:00:00\",\"2022-02-21T00:00:00\",\"2022-02-22T00:00:00\",\"2022-02-23T00:00:00\",\"2022-02-24T00:00:00\",\"2022-02-25T00:00:00\",\"2022-02-26T00:00:00\",\"2022-02-27T00:00:00\",\"2022-02-28T00:00:00\",\"2022-03-01T00:00:00\",\"2022-03-02T00:00:00\",\"2022-03-03T00:00:00\",\"2022-03-04T00:00:00\",\"2022-03-05T00:00:00\",\"2022-03-06T00:00:00\",\"2022-03-07T00:00:00\",\"2022-03-08T00:00:00\",\"2022-03-09T00:00:00\",\"2022-03-10T00:00:00\",\"2022-03-11T00:00:00\",\"2022-03-12T00:00:00\",\"2022-03-13T00:00:00\",\"2022-03-14T00:00:00\",\"2022-03-15T00:00:00\",\"2022-03-16T00:00:00\",\"2022-03-17T00:00:00\",\"2022-03-18T00:00:00\",\"2022-03-19T00:00:00\",\"2022-03-20T00:00:00\",\"2022-03-21T00:00:00\",\"2022-03-22T00:00:00\",\"2022-03-23T00:00:00\",\"2022-03-24T00:00:00\",\"2022-03-25T00:00:00\"],\"y\":[3631.589,3686.7344,3546.1729,3468.7266,3380.4065,3104.0337,2828.8909,2936.276,3136.134,3106.3186,3038.9446,3094.56,3063.973,2951.9824,2912.2344,3007.9543,3280.8657,3499.4094,3586.6313,3552.676,3588.5264,3649.3909,3673.585,3643.1619,3621.587,3498.6138,3519.4019,3523.9238,3601.6448,3782.4443,3921.8777,3920.7039,3886.1282,3777.1113,3812.932,4067.7537,4105.346,3982.6895,4055.4995,4038.1611,4104.0273,4062.929,3851.2212,4040.5532,4283.6772,4275.868,4173.434,4138.588,4350.879,4455.209,4377.81,4251.0234,4226.296,4313.942,4511.1646,4498.677,4345.319,4342.4614,4314.4785,4281.4185,4255.031,4204.7134,3894.6914,3853.1028,3692.5134,3904.623,4168.2686,4145.135,3939.235,4056.8533,4106.8613,4308.5356,3994.7756,3848.7097,4010.3677,4249.8193,4474.303,4481.215,4345.479,4019.1252,3803.8,3851.7725,4066.4426,4138.197,4232.7095,4000.1748,3708.2317,3773.3103,3927.0654,3724.1685,3669.8271,3829.3555,3889.3035,3831.0083,3857.3196,3857.1396,3862.3372,3929.4673,3933.6035,4016.6353,4005.7524,4008.235,3981.677,3938.9248,3732.253,3515.3586,3526.0066,3576.0642,3682.5806,3790.6257,3780.5513,3776.4329,3593.0251,3399.2097,3183.3708,3050.1106,3084.775,3106.4417,3228.8203,3402.8994,3404.2852,3399.916,3408.9392,3424.1777,3333.7966,3239.5535,3158.9854,3074.3745,2765.945,2507.3477,2492.4868,2499.8809,2521.7632,2547.5444,2539.7341,2592.181,2663.2646,2703.797,2762.5955,2854.5637,2842.831,2805.0864,2954.3748,3096.5615,3180.6492,3251.1924,3259.746,3316.933,3242.5842,3076.1306,2980.589,2939.0273,2970.019,3160.6677,3254.7246,3110.8774,2928.8018,2830.472,2729.4773,2655.9048,2672.8403,2680.8433,2689.9302,2788.1401,2869.8545,2811.1187,2914.3977,3040.7332,3087.3208,3013.181,2816.4766,2726.1062,2652.5256,2590.9082,2613.1636,2736.6848,2756.148,2707.606,2673.9685,2631.518,2648.1357,2688.718,2800.4915,2900.5703,3017.8003,3075.3547,3028.981,2999.1472,3034.3438],\"type\":\"scatter\"}],                        {\"template\":{\"data\":{\"histogram2dcontour\":[{\"type\":\"histogram2dcontour\",\"colorbar\":{\"outlinewidth\":0,\"ticks\":\"\"},\"colorscale\":[[0.0,\"#0d0887\"],[0.1111111111111111,\"#46039f\"],[0.2222222222222222,\"#7201a8\"],[0.3333333333333333,\"#9c179e\"],[0.4444444444444444,\"#bd3786\"],[0.5555555555555556,\"#d8576b\"],[0.6666666666666666,\"#ed7953\"],[0.7777777777777778,\"#fb9f3a\"],[0.8888888888888888,\"#fdca26\"],[1.0,\"#f0f921\"]]}],\"choropleth\":[{\"type\":\"choropleth\",\"colorbar\":{\"outlinewidth\":0,\"ticks\":\"\"}}],\"histogram2d\":[{\"type\":\"histogram2d\",\"colorbar\":{\"outlinewidth\":0,\"ticks\":\"\"},\"colorscale\":[[0.0,\"#0d0887\"],[0.1111111111111111,\"#46039f\"],[0.2222222222222222,\"#7201a8\"],[0.3333333333333333,\"#9c179e\"],[0.4444444444444444,\"#bd3786\"],[0.5555555555555556,\"#d8576b\"],[0.6666666666666666,\"#ed7953\"],[0.7777777777777778,\"#fb9f3a\"],[0.8888888888888888,\"#fdca26\"],[1.0,\"#f0f921\"]]}],\"heatmap\":[{\"type\":\"heatmap\",\"colorbar\":{\"outlinewidth\":0,\"ticks\":\"\"},\"colorscale\":[[0.0,\"#0d0887\"],[0.1111111111111111,\"#46039f\"],[0.2222222222222222,\"#7201a8\"],[0.3333333333333333,\"#9c179e\"],[0.4444444444444444,\"#bd3786\"],[0.5555555555555556,\"#d8576b\"],[0.6666666666666666,\"#ed7953\"],[0.7777777777777778,\"#fb9f3a\"],[0.8888888888888888,\"#fdca26\"],[1.0,\"#f0f921\"]]}],\"heatmapgl\":[{\"type\":\"heatmapgl\",\"colorbar\":{\"outlinewidth\":0,\"ticks\":\"\"},\"colorscale\":[[0.0,\"#0d0887\"],[0.1111111111111111,\"#46039f\"],[0.2222222222222222,\"#7201a8\"],[0.3333333333333333,\"#9c179e\"],[0.4444444444444444,\"#bd3786\"],[0.5555555555555556,\"#d8576b\"],[0.6666666666666666,\"#ed7953\"],[0.7777777777777778,\"#fb9f3a\"],[0.8888888888888888,\"#fdca26\"],[1.0,\"#f0f921\"]]}],\"contourcarpet\":[{\"type\":\"contourcarpet\",\"colorbar\":{\"outlinewidth\":0,\"ticks\":\"\"}}],\"contour\":[{\"type\":\"contour\",\"colorbar\":{\"outlinewidth\":0,\"ticks\":\"\"},\"colorscale\":[[0.0,\"#0d0887\"],[0.1111111111111111,\"#46039f\"],[0.2222222222222222,\"#7201a8\"],[0.3333333333333333,\"#9c179e\"],[0.4444444444444444,\"#bd3786\"],[0.5555555555555556,\"#d8576b\"],[0.6666666666666666,\"#ed7953\"],[0.7777777777777778,\"#fb9f3a\"],[0.8888888888888888,\"#fdca26\"],[1.0,\"#f0f921\"]]}],\"surface\":[{\"type\":\"surface\",\"colorbar\":{\"outlinewidth\":0,\"ticks\":\"\"},\"colorscale\":[[0.0,\"#0d0887\"],[0.1111111111111111,\"#46039f\"],[0.2222222222222222,\"#7201a8\"],[0.3333333333333333,\"#9c179e\"],[0.4444444444444444,\"#bd3786\"],[0.5555555555555556,\"#d8576b\"],[0.6666666666666666,\"#ed7953\"],[0.7777777777777778,\"#fb9f3a\"],[0.8888888888888888,\"#fdca26\"],[1.0,\"#f0f921\"]]}],\"mesh3d\":[{\"type\":\"mesh3d\",\"colorbar\":{\"outlinewidth\":0,\"ticks\":\"\"}}],\"scatter\":[{\"fillpattern\":{\"fillmode\":\"overlay\",\"size\":10,\"solidity\":0.2},\"type\":\"scatter\"}],\"parcoords\":[{\"type\":\"parcoords\",\"line\":{\"colorbar\":{\"outlinewidth\":0,\"ticks\":\"\"}}}],\"scatterpolargl\":[{\"type\":\"scatterpolargl\",\"marker\":{\"colorbar\":{\"outlinewidth\":0,\"ticks\":\"\"}}}],\"bar\":[{\"error_x\":{\"color\":\"#2a3f5f\"},\"error_y\":{\"color\":\"#2a3f5f\"},\"marker\":{\"line\":{\"color\":\"#E5ECF6\",\"width\":0.5},\"pattern\":{\"fillmode\":\"overlay\",\"size\":10,\"solidity\":0.2}},\"type\":\"bar\"}],\"scattergeo\":[{\"type\":\"scattergeo\",\"marker\":{\"colorbar\":{\"outlinewidth\":0,\"ticks\":\"\"}}}],\"scatterpolar\":[{\"type\":\"scatterpolar\",\"marker\":{\"colorbar\":{\"outlinewidth\":0,\"ticks\":\"\"}}}],\"histogram\":[{\"marker\":{\"pattern\":{\"fillmode\":\"overlay\",\"size\":10,\"solidity\":0.2}},\"type\":\"histogram\"}],\"scattergl\":[{\"type\":\"scattergl\",\"marker\":{\"colorbar\":{\"outlinewidth\":0,\"ticks\":\"\"}}}],\"scatter3d\":[{\"type\":\"scatter3d\",\"line\":{\"colorbar\":{\"outlinewidth\":0,\"ticks\":\"\"}},\"marker\":{\"colorbar\":{\"outlinewidth\":0,\"ticks\":\"\"}}}],\"scattermapbox\":[{\"type\":\"scattermapbox\",\"marker\":{\"colorbar\":{\"outlinewidth\":0,\"ticks\":\"\"}}}],\"scatterternary\":[{\"type\":\"scatterternary\",\"marker\":{\"colorbar\":{\"outlinewidth\":0,\"ticks\":\"\"}}}],\"scattercarpet\":[{\"type\":\"scattercarpet\",\"marker\":{\"colorbar\":{\"outlinewidth\":0,\"ticks\":\"\"}}}],\"carpet\":[{\"aaxis\":{\"endlinecolor\":\"#2a3f5f\",\"gridcolor\":\"white\",\"linecolor\":\"white\",\"minorgridcolor\":\"white\",\"startlinecolor\":\"#2a3f5f\"},\"baxis\":{\"endlinecolor\":\"#2a3f5f\",\"gridcolor\":\"white\",\"linecolor\":\"white\",\"minorgridcolor\":\"white\",\"startlinecolor\":\"#2a3f5f\"},\"type\":\"carpet\"}],\"table\":[{\"cells\":{\"fill\":{\"color\":\"#EBF0F8\"},\"line\":{\"color\":\"white\"}},\"header\":{\"fill\":{\"color\":\"#C8D4E3\"},\"line\":{\"color\":\"white\"}},\"type\":\"table\"}],\"barpolar\":[{\"marker\":{\"line\":{\"color\":\"#E5ECF6\",\"width\":0.5},\"pattern\":{\"fillmode\":\"overlay\",\"size\":10,\"solidity\":0.2}},\"type\":\"barpolar\"}],\"pie\":[{\"automargin\":true,\"type\":\"pie\"}]},\"layout\":{\"autotypenumbers\":\"strict\",\"colorway\":[\"#636efa\",\"#EF553B\",\"#00cc96\",\"#ab63fa\",\"#FFA15A\",\"#19d3f3\",\"#FF6692\",\"#B6E880\",\"#FF97FF\",\"#FECB52\"],\"font\":{\"color\":\"#2a3f5f\"},\"hovermode\":\"closest\",\"hoverlabel\":{\"align\":\"left\"},\"paper_bgcolor\":\"white\",\"plot_bgcolor\":\"#E5ECF6\",\"polar\":{\"bgcolor\":\"#E5ECF6\",\"angularaxis\":{\"gridcolor\":\"white\",\"linecolor\":\"white\",\"ticks\":\"\"},\"radialaxis\":{\"gridcolor\":\"white\",\"linecolor\":\"white\",\"ticks\":\"\"}},\"ternary\":{\"bgcolor\":\"#E5ECF6\",\"aaxis\":{\"gridcolor\":\"white\",\"linecolor\":\"white\",\"ticks\":\"\"},\"baxis\":{\"gridcolor\":\"white\",\"linecolor\":\"white\",\"ticks\":\"\"},\"caxis\":{\"gridcolor\":\"white\",\"linecolor\":\"white\",\"ticks\":\"\"}},\"coloraxis\":{\"colorbar\":{\"outlinewidth\":0,\"ticks\":\"\"}},\"colorscale\":{\"sequential\":[[0.0,\"#0d0887\"],[0.1111111111111111,\"#46039f\"],[0.2222222222222222,\"#7201a8\"],[0.3333333333333333,\"#9c179e\"],[0.4444444444444444,\"#bd3786\"],[0.5555555555555556,\"#d8576b\"],[0.6666666666666666,\"#ed7953\"],[0.7777777777777778,\"#fb9f3a\"],[0.8888888888888888,\"#fdca26\"],[1.0,\"#f0f921\"]],\"sequentialminus\":[[0.0,\"#0d0887\"],[0.1111111111111111,\"#46039f\"],[0.2222222222222222,\"#7201a8\"],[0.3333333333333333,\"#9c179e\"],[0.4444444444444444,\"#bd3786\"],[0.5555555555555556,\"#d8576b\"],[0.6666666666666666,\"#ed7953\"],[0.7777777777777778,\"#fb9f3a\"],[0.8888888888888888,\"#fdca26\"],[1.0,\"#f0f921\"]],\"diverging\":[[0,\"#8e0152\"],[0.1,\"#c51b7d\"],[0.2,\"#de77ae\"],[0.3,\"#f1b6da\"],[0.4,\"#fde0ef\"],[0.5,\"#f7f7f7\"],[0.6,\"#e6f5d0\"],[0.7,\"#b8e186\"],[0.8,\"#7fbc41\"],[0.9,\"#4d9221\"],[1,\"#276419\"]]},\"xaxis\":{\"gridcolor\":\"white\",\"linecolor\":\"white\",\"ticks\":\"\",\"title\":{\"standoff\":15},\"zerolinecolor\":\"white\",\"automargin\":true,\"zerolinewidth\":2},\"yaxis\":{\"gridcolor\":\"white\",\"linecolor\":\"white\",\"ticks\":\"\",\"title\":{\"standoff\":15},\"zerolinecolor\":\"white\",\"automargin\":true,\"zerolinewidth\":2},\"scene\":{\"xaxis\":{\"backgroundcolor\":\"#E5ECF6\",\"gridcolor\":\"white\",\"linecolor\":\"white\",\"showbackground\":true,\"ticks\":\"\",\"zerolinecolor\":\"white\",\"gridwidth\":2},\"yaxis\":{\"backgroundcolor\":\"#E5ECF6\",\"gridcolor\":\"white\",\"linecolor\":\"white\",\"showbackground\":true,\"ticks\":\"\",\"zerolinecolor\":\"white\",\"gridwidth\":2},\"zaxis\":{\"backgroundcolor\":\"#E5ECF6\",\"gridcolor\":\"white\",\"linecolor\":\"white\",\"showbackground\":true,\"ticks\":\"\",\"zerolinecolor\":\"white\",\"gridwidth\":2}},\"shapedefaults\":{\"line\":{\"color\":\"#2a3f5f\"}},\"annotationdefaults\":{\"arrowcolor\":\"#2a3f5f\",\"arrowhead\":0,\"arrowwidth\":1},\"geo\":{\"bgcolor\":\"white\",\"landcolor\":\"#E5ECF6\",\"subunitcolor\":\"white\",\"showland\":true,\"showlakes\":true,\"lakecolor\":\"white\"},\"title\":{\"x\":0.05},\"mapbox\":{\"style\":\"light\"}}}},                        {\"responsive\": true}                    ).then(function(){\n",
              "                            \n",
              "var gd = document.getElementById('933c0506-35e5-4593-bd04-cff27493224c');\n",
              "var x = new MutationObserver(function (mutations, observer) {{\n",
              "        var display = window.getComputedStyle(gd).display;\n",
              "        if (!display || display === 'none') {{\n",
              "            console.log([gd, 'removed!']);\n",
              "            Plotly.purge(gd);\n",
              "            observer.disconnect();\n",
              "        }}\n",
              "}});\n",
              "\n",
              "// Listen for the removal of the full notebook cells\n",
              "var notebookContainer = gd.closest('#notebook-container');\n",
              "if (notebookContainer) {{\n",
              "    x.observe(notebookContainer, {childList: true});\n",
              "}}\n",
              "\n",
              "// Listen for the clearing of the current output cell\n",
              "var outputEl = gd.closest('.output');\n",
              "if (outputEl) {{\n",
              "    x.observe(outputEl, {childList: true});\n",
              "}}\n",
              "\n",
              "                        })                };                            </script>        </div>\n",
              "</body>\n",
              "</html>"
            ]
          },
          "metadata": {}
        }
      ]
    },
    {
      "cell_type": "code",
      "source": [],
      "metadata": {
        "id": "i0Fm0WQfVE0r"
      },
      "execution_count": null,
      "outputs": []
    },
    {
      "cell_type": "code",
      "source": [],
      "metadata": {
        "id": "eag-fz4yVE2v"
      },
      "execution_count": null,
      "outputs": []
    }
  ],
  "metadata": {
    "colab": {
      "provenance": [],
      "mount_file_id": "1CT2Zd5_4zh2VYlSYE3IjKqMamuFfxZsd",
      "authorship_tag": "ABX9TyN3o7x0lFYFFucL3QzqIEOp",
      "include_colab_link": true
    },
    "kernelspec": {
      "display_name": "Python 3",
      "name": "python3"
    },
    "language_info": {
      "name": "python"
    },
    "accelerator": "GPU",
    "gpuClass": "standard"
  },
  "nbformat": 4,
  "nbformat_minor": 0
}