{
  "nbformat": 4,
  "nbformat_minor": 0,
  "metadata": {
    "colab": {
      "provenance": []
    },
    "kernelspec": {
      "name": "python3",
      "display_name": "Python 3"
    },
    "language_info": {
      "name": "python"
    }
  },
  "cells": [
    {
      "cell_type": "code",
      "execution_count": null,
      "metadata": {
        "id": "ltZLdN0Q7kKy"
      },
      "outputs": [],
      "source": [
        "import numpy as np\n",
        "import matplotlib.pyplot as plt\n",
        "import statsmodels.api as sms\n",
        "import pandas as pd\n",
        "\n",
        "%matplotlib inline"
      ]
    },
    {
      "cell_type": "code",
      "source": [
        "data=pd.read_csv('/content/drive/MyDrive/Colab_datasets/ETH-USD.csv')\n",
        "data.head()"
      ],
      "metadata": {
        "id": "2_8GgcG48tU3",
        "colab": {
          "base_uri": "https://localhost:8080/",
          "height": 206
        },
        "outputId": "268dfb67-51f3-4bfd-f1c1-4033d80d2181"
      },
      "execution_count": null,
      "outputs": [
        {
          "output_type": "execute_result",
          "data": {
            "text/plain": [
              "         Date        Open        High         Low       Close   Adj Close  \\\n",
              "0  2017-11-09  308.644989  329.451996  307.056000  320.884003  320.884003   \n",
              "1  2017-11-10  320.670990  324.717987  294.541992  299.252991  299.252991   \n",
              "2  2017-11-11  298.585999  319.453003  298.191986  314.681000  314.681000   \n",
              "3  2017-11-12  314.690002  319.153015  298.513000  307.907990  307.907990   \n",
              "4  2017-11-13  307.024994  328.415009  307.024994  316.716003  316.716003   \n",
              "\n",
              "       Volume  \n",
              "0   893249984  \n",
              "1   885985984  \n",
              "2   842300992  \n",
              "3  1613479936  \n",
              "4  1041889984  "
            ],
            "text/html": [
              "\n",
              "  <div id=\"df-06323f97-9892-4f56-82b2-7e807e599c56\">\n",
              "    <div class=\"colab-df-container\">\n",
              "      <div>\n",
              "<style scoped>\n",
              "    .dataframe tbody tr th:only-of-type {\n",
              "        vertical-align: middle;\n",
              "    }\n",
              "\n",
              "    .dataframe tbody tr th {\n",
              "        vertical-align: top;\n",
              "    }\n",
              "\n",
              "    .dataframe thead th {\n",
              "        text-align: right;\n",
              "    }\n",
              "</style>\n",
              "<table border=\"1\" class=\"dataframe\">\n",
              "  <thead>\n",
              "    <tr style=\"text-align: right;\">\n",
              "      <th></th>\n",
              "      <th>Date</th>\n",
              "      <th>Open</th>\n",
              "      <th>High</th>\n",
              "      <th>Low</th>\n",
              "      <th>Close</th>\n",
              "      <th>Adj Close</th>\n",
              "      <th>Volume</th>\n",
              "    </tr>\n",
              "  </thead>\n",
              "  <tbody>\n",
              "    <tr>\n",
              "      <th>0</th>\n",
              "      <td>2017-11-09</td>\n",
              "      <td>308.644989</td>\n",
              "      <td>329.451996</td>\n",
              "      <td>307.056000</td>\n",
              "      <td>320.884003</td>\n",
              "      <td>320.884003</td>\n",
              "      <td>893249984</td>\n",
              "    </tr>\n",
              "    <tr>\n",
              "      <th>1</th>\n",
              "      <td>2017-11-10</td>\n",
              "      <td>320.670990</td>\n",
              "      <td>324.717987</td>\n",
              "      <td>294.541992</td>\n",
              "      <td>299.252991</td>\n",
              "      <td>299.252991</td>\n",
              "      <td>885985984</td>\n",
              "    </tr>\n",
              "    <tr>\n",
              "      <th>2</th>\n",
              "      <td>2017-11-11</td>\n",
              "      <td>298.585999</td>\n",
              "      <td>319.453003</td>\n",
              "      <td>298.191986</td>\n",
              "      <td>314.681000</td>\n",
              "      <td>314.681000</td>\n",
              "      <td>842300992</td>\n",
              "    </tr>\n",
              "    <tr>\n",
              "      <th>3</th>\n",
              "      <td>2017-11-12</td>\n",
              "      <td>314.690002</td>\n",
              "      <td>319.153015</td>\n",
              "      <td>298.513000</td>\n",
              "      <td>307.907990</td>\n",
              "      <td>307.907990</td>\n",
              "      <td>1613479936</td>\n",
              "    </tr>\n",
              "    <tr>\n",
              "      <th>4</th>\n",
              "      <td>2017-11-13</td>\n",
              "      <td>307.024994</td>\n",
              "      <td>328.415009</td>\n",
              "      <td>307.024994</td>\n",
              "      <td>316.716003</td>\n",
              "      <td>316.716003</td>\n",
              "      <td>1041889984</td>\n",
              "    </tr>\n",
              "  </tbody>\n",
              "</table>\n",
              "</div>\n",
              "      <button class=\"colab-df-convert\" onclick=\"convertToInteractive('df-06323f97-9892-4f56-82b2-7e807e599c56')\"\n",
              "              title=\"Convert this dataframe to an interactive table.\"\n",
              "              style=\"display:none;\">\n",
              "        \n",
              "  <svg xmlns=\"http://www.w3.org/2000/svg\" height=\"24px\"viewBox=\"0 0 24 24\"\n",
              "       width=\"24px\">\n",
              "    <path d=\"M0 0h24v24H0V0z\" fill=\"none\"/>\n",
              "    <path d=\"M18.56 5.44l.94 2.06.94-2.06 2.06-.94-2.06-.94-.94-2.06-.94 2.06-2.06.94zm-11 1L8.5 8.5l.94-2.06 2.06-.94-2.06-.94L8.5 2.5l-.94 2.06-2.06.94zm10 10l.94 2.06.94-2.06 2.06-.94-2.06-.94-.94-2.06-.94 2.06-2.06.94z\"/><path d=\"M17.41 7.96l-1.37-1.37c-.4-.4-.92-.59-1.43-.59-.52 0-1.04.2-1.43.59L10.3 9.45l-7.72 7.72c-.78.78-.78 2.05 0 2.83L4 21.41c.39.39.9.59 1.41.59.51 0 1.02-.2 1.41-.59l7.78-7.78 2.81-2.81c.8-.78.8-2.07 0-2.86zM5.41 20L4 18.59l7.72-7.72 1.47 1.35L5.41 20z\"/>\n",
              "  </svg>\n",
              "      </button>\n",
              "      \n",
              "  <style>\n",
              "    .colab-df-container {\n",
              "      display:flex;\n",
              "      flex-wrap:wrap;\n",
              "      gap: 12px;\n",
              "    }\n",
              "\n",
              "    .colab-df-convert {\n",
              "      background-color: #E8F0FE;\n",
              "      border: none;\n",
              "      border-radius: 50%;\n",
              "      cursor: pointer;\n",
              "      display: none;\n",
              "      fill: #1967D2;\n",
              "      height: 32px;\n",
              "      padding: 0 0 0 0;\n",
              "      width: 32px;\n",
              "    }\n",
              "\n",
              "    .colab-df-convert:hover {\n",
              "      background-color: #E2EBFA;\n",
              "      box-shadow: 0px 1px 2px rgba(60, 64, 67, 0.3), 0px 1px 3px 1px rgba(60, 64, 67, 0.15);\n",
              "      fill: #174EA6;\n",
              "    }\n",
              "\n",
              "    [theme=dark] .colab-df-convert {\n",
              "      background-color: #3B4455;\n",
              "      fill: #D2E3FC;\n",
              "    }\n",
              "\n",
              "    [theme=dark] .colab-df-convert:hover {\n",
              "      background-color: #434B5C;\n",
              "      box-shadow: 0px 1px 3px 1px rgba(0, 0, 0, 0.15);\n",
              "      filter: drop-shadow(0px 1px 2px rgba(0, 0, 0, 0.3));\n",
              "      fill: #FFFFFF;\n",
              "    }\n",
              "  </style>\n",
              "\n",
              "      <script>\n",
              "        const buttonEl =\n",
              "          document.querySelector('#df-06323f97-9892-4f56-82b2-7e807e599c56 button.colab-df-convert');\n",
              "        buttonEl.style.display =\n",
              "          google.colab.kernel.accessAllowed ? 'block' : 'none';\n",
              "\n",
              "        async function convertToInteractive(key) {\n",
              "          const element = document.querySelector('#df-06323f97-9892-4f56-82b2-7e807e599c56');\n",
              "          const dataTable =\n",
              "            await google.colab.kernel.invokeFunction('convertToInteractive',\n",
              "                                                     [key], {});\n",
              "          if (!dataTable) return;\n",
              "\n",
              "          const docLinkHtml = 'Like what you see? Visit the ' +\n",
              "            '<a target=\"_blank\" href=https://colab.research.google.com/notebooks/data_table.ipynb>data table notebook</a>'\n",
              "            + ' to learn more about interactive tables.';\n",
              "          element.innerHTML = '';\n",
              "          dataTable['output_type'] = 'display_data';\n",
              "          await google.colab.output.renderOutput(dataTable, element);\n",
              "          const docLink = document.createElement('div');\n",
              "          docLink.innerHTML = docLinkHtml;\n",
              "          element.appendChild(docLink);\n",
              "        }\n",
              "      </script>\n",
              "    </div>\n",
              "  </div>\n",
              "  "
            ]
          },
          "metadata": {},
          "execution_count": 99
        }
      ]
    },
    {
      "cell_type": "code",
      "source": [
        "data.isnull().sum()"
      ],
      "metadata": {
        "colab": {
          "base_uri": "https://localhost:8080/"
        },
        "id": "hDWn8A8s-6H0",
        "outputId": "5f6df75d-93c9-47a4-d647-fe3dc550fe08"
      },
      "execution_count": null,
      "outputs": [
        {
          "output_type": "execute_result",
          "data": {
            "text/plain": [
              "Date         0\n",
              "Open         0\n",
              "High         0\n",
              "Low          0\n",
              "Close        0\n",
              "Adj Close    0\n",
              "Volume       0\n",
              "dtype: int64"
            ]
          },
          "metadata": {},
          "execution_count": 100
        }
      ]
    },
    {
      "cell_type": "code",
      "source": [
        "data.info()"
      ],
      "metadata": {
        "colab": {
          "base_uri": "https://localhost:8080/"
        },
        "id": "tdVPDKpC_ErY",
        "outputId": "38670d32-7613-4cf4-ebb5-aa08b3293f6c"
      },
      "execution_count": null,
      "outputs": [
        {
          "output_type": "stream",
          "name": "stdout",
          "text": [
            "<class 'pandas.core.frame.DataFrame'>\n",
            "RangeIndex: 1598 entries, 0 to 1597\n",
            "Data columns (total 7 columns):\n",
            " #   Column     Non-Null Count  Dtype  \n",
            "---  ------     --------------  -----  \n",
            " 0   Date       1598 non-null   object \n",
            " 1   Open       1598 non-null   float64\n",
            " 2   High       1598 non-null   float64\n",
            " 3   Low        1598 non-null   float64\n",
            " 4   Close      1598 non-null   float64\n",
            " 5   Adj Close  1598 non-null   float64\n",
            " 6   Volume     1598 non-null   int64  \n",
            "dtypes: float64(5), int64(1), object(1)\n",
            "memory usage: 87.5+ KB\n"
          ]
        }
      ]
    },
    {
      "cell_type": "code",
      "source": [
        "data['Date']=pd.to_datetime(data['Date'])"
      ],
      "metadata": {
        "id": "q3DyWtVN_Eur"
      },
      "execution_count": null,
      "outputs": []
    },
    {
      "cell_type": "code",
      "source": [
        "data.info()"
      ],
      "metadata": {
        "colab": {
          "base_uri": "https://localhost:8080/"
        },
        "id": "XMIdMukl_EyD",
        "outputId": "0eb9a5d4-e231-44e2-ccfe-ecc17809cfd6"
      },
      "execution_count": null,
      "outputs": [
        {
          "output_type": "stream",
          "name": "stdout",
          "text": [
            "<class 'pandas.core.frame.DataFrame'>\n",
            "RangeIndex: 1598 entries, 0 to 1597\n",
            "Data columns (total 7 columns):\n",
            " #   Column     Non-Null Count  Dtype         \n",
            "---  ------     --------------  -----         \n",
            " 0   Date       1598 non-null   datetime64[ns]\n",
            " 1   Open       1598 non-null   float64       \n",
            " 2   High       1598 non-null   float64       \n",
            " 3   Low        1598 non-null   float64       \n",
            " 4   Close      1598 non-null   float64       \n",
            " 5   Adj Close  1598 non-null   float64       \n",
            " 6   Volume     1598 non-null   int64         \n",
            "dtypes: datetime64[ns](1), float64(5), int64(1)\n",
            "memory usage: 87.5 KB\n"
          ]
        }
      ]
    },
    {
      "cell_type": "code",
      "source": [
        "data.set_index('Date', inplace = True)"
      ],
      "metadata": {
        "id": "zK7ANy6V_E1K"
      },
      "execution_count": null,
      "outputs": []
    },
    {
      "cell_type": "code",
      "source": [
        "data.head()"
      ],
      "metadata": {
        "colab": {
          "base_uri": "https://localhost:8080/",
          "height": 238
        },
        "id": "LP6oqkhI_y4n",
        "outputId": "018963a3-4868-430d-e63d-8034d83a6e5e"
      },
      "execution_count": null,
      "outputs": [
        {
          "output_type": "execute_result",
          "data": {
            "text/plain": [
              "                  Open        High         Low       Close   Adj Close  \\\n",
              "Date                                                                     \n",
              "2017-11-09  308.644989  329.451996  307.056000  320.884003  320.884003   \n",
              "2017-11-10  320.670990  324.717987  294.541992  299.252991  299.252991   \n",
              "2017-11-11  298.585999  319.453003  298.191986  314.681000  314.681000   \n",
              "2017-11-12  314.690002  319.153015  298.513000  307.907990  307.907990   \n",
              "2017-11-13  307.024994  328.415009  307.024994  316.716003  316.716003   \n",
              "\n",
              "                Volume  \n",
              "Date                    \n",
              "2017-11-09   893249984  \n",
              "2017-11-10   885985984  \n",
              "2017-11-11   842300992  \n",
              "2017-11-12  1613479936  \n",
              "2017-11-13  1041889984  "
            ],
            "text/html": [
              "\n",
              "  <div id=\"df-0a2dc628-4918-4ee6-acd9-5d42b57fc9d7\">\n",
              "    <div class=\"colab-df-container\">\n",
              "      <div>\n",
              "<style scoped>\n",
              "    .dataframe tbody tr th:only-of-type {\n",
              "        vertical-align: middle;\n",
              "    }\n",
              "\n",
              "    .dataframe tbody tr th {\n",
              "        vertical-align: top;\n",
              "    }\n",
              "\n",
              "    .dataframe thead th {\n",
              "        text-align: right;\n",
              "    }\n",
              "</style>\n",
              "<table border=\"1\" class=\"dataframe\">\n",
              "  <thead>\n",
              "    <tr style=\"text-align: right;\">\n",
              "      <th></th>\n",
              "      <th>Open</th>\n",
              "      <th>High</th>\n",
              "      <th>Low</th>\n",
              "      <th>Close</th>\n",
              "      <th>Adj Close</th>\n",
              "      <th>Volume</th>\n",
              "    </tr>\n",
              "    <tr>\n",
              "      <th>Date</th>\n",
              "      <th></th>\n",
              "      <th></th>\n",
              "      <th></th>\n",
              "      <th></th>\n",
              "      <th></th>\n",
              "      <th></th>\n",
              "    </tr>\n",
              "  </thead>\n",
              "  <tbody>\n",
              "    <tr>\n",
              "      <th>2017-11-09</th>\n",
              "      <td>308.644989</td>\n",
              "      <td>329.451996</td>\n",
              "      <td>307.056000</td>\n",
              "      <td>320.884003</td>\n",
              "      <td>320.884003</td>\n",
              "      <td>893249984</td>\n",
              "    </tr>\n",
              "    <tr>\n",
              "      <th>2017-11-10</th>\n",
              "      <td>320.670990</td>\n",
              "      <td>324.717987</td>\n",
              "      <td>294.541992</td>\n",
              "      <td>299.252991</td>\n",
              "      <td>299.252991</td>\n",
              "      <td>885985984</td>\n",
              "    </tr>\n",
              "    <tr>\n",
              "      <th>2017-11-11</th>\n",
              "      <td>298.585999</td>\n",
              "      <td>319.453003</td>\n",
              "      <td>298.191986</td>\n",
              "      <td>314.681000</td>\n",
              "      <td>314.681000</td>\n",
              "      <td>842300992</td>\n",
              "    </tr>\n",
              "    <tr>\n",
              "      <th>2017-11-12</th>\n",
              "      <td>314.690002</td>\n",
              "      <td>319.153015</td>\n",
              "      <td>298.513000</td>\n",
              "      <td>307.907990</td>\n",
              "      <td>307.907990</td>\n",
              "      <td>1613479936</td>\n",
              "    </tr>\n",
              "    <tr>\n",
              "      <th>2017-11-13</th>\n",
              "      <td>307.024994</td>\n",
              "      <td>328.415009</td>\n",
              "      <td>307.024994</td>\n",
              "      <td>316.716003</td>\n",
              "      <td>316.716003</td>\n",
              "      <td>1041889984</td>\n",
              "    </tr>\n",
              "  </tbody>\n",
              "</table>\n",
              "</div>\n",
              "      <button class=\"colab-df-convert\" onclick=\"convertToInteractive('df-0a2dc628-4918-4ee6-acd9-5d42b57fc9d7')\"\n",
              "              title=\"Convert this dataframe to an interactive table.\"\n",
              "              style=\"display:none;\">\n",
              "        \n",
              "  <svg xmlns=\"http://www.w3.org/2000/svg\" height=\"24px\"viewBox=\"0 0 24 24\"\n",
              "       width=\"24px\">\n",
              "    <path d=\"M0 0h24v24H0V0z\" fill=\"none\"/>\n",
              "    <path d=\"M18.56 5.44l.94 2.06.94-2.06 2.06-.94-2.06-.94-.94-2.06-.94 2.06-2.06.94zm-11 1L8.5 8.5l.94-2.06 2.06-.94-2.06-.94L8.5 2.5l-.94 2.06-2.06.94zm10 10l.94 2.06.94-2.06 2.06-.94-2.06-.94-.94-2.06-.94 2.06-2.06.94z\"/><path d=\"M17.41 7.96l-1.37-1.37c-.4-.4-.92-.59-1.43-.59-.52 0-1.04.2-1.43.59L10.3 9.45l-7.72 7.72c-.78.78-.78 2.05 0 2.83L4 21.41c.39.39.9.59 1.41.59.51 0 1.02-.2 1.41-.59l7.78-7.78 2.81-2.81c.8-.78.8-2.07 0-2.86zM5.41 20L4 18.59l7.72-7.72 1.47 1.35L5.41 20z\"/>\n",
              "  </svg>\n",
              "      </button>\n",
              "      \n",
              "  <style>\n",
              "    .colab-df-container {\n",
              "      display:flex;\n",
              "      flex-wrap:wrap;\n",
              "      gap: 12px;\n",
              "    }\n",
              "\n",
              "    .colab-df-convert {\n",
              "      background-color: #E8F0FE;\n",
              "      border: none;\n",
              "      border-radius: 50%;\n",
              "      cursor: pointer;\n",
              "      display: none;\n",
              "      fill: #1967D2;\n",
              "      height: 32px;\n",
              "      padding: 0 0 0 0;\n",
              "      width: 32px;\n",
              "    }\n",
              "\n",
              "    .colab-df-convert:hover {\n",
              "      background-color: #E2EBFA;\n",
              "      box-shadow: 0px 1px 2px rgba(60, 64, 67, 0.3), 0px 1px 3px 1px rgba(60, 64, 67, 0.15);\n",
              "      fill: #174EA6;\n",
              "    }\n",
              "\n",
              "    [theme=dark] .colab-df-convert {\n",
              "      background-color: #3B4455;\n",
              "      fill: #D2E3FC;\n",
              "    }\n",
              "\n",
              "    [theme=dark] .colab-df-convert:hover {\n",
              "      background-color: #434B5C;\n",
              "      box-shadow: 0px 1px 3px 1px rgba(0, 0, 0, 0.15);\n",
              "      filter: drop-shadow(0px 1px 2px rgba(0, 0, 0, 0.3));\n",
              "      fill: #FFFFFF;\n",
              "    }\n",
              "  </style>\n",
              "\n",
              "      <script>\n",
              "        const buttonEl =\n",
              "          document.querySelector('#df-0a2dc628-4918-4ee6-acd9-5d42b57fc9d7 button.colab-df-convert');\n",
              "        buttonEl.style.display =\n",
              "          google.colab.kernel.accessAllowed ? 'block' : 'none';\n",
              "\n",
              "        async function convertToInteractive(key) {\n",
              "          const element = document.querySelector('#df-0a2dc628-4918-4ee6-acd9-5d42b57fc9d7');\n",
              "          const dataTable =\n",
              "            await google.colab.kernel.invokeFunction('convertToInteractive',\n",
              "                                                     [key], {});\n",
              "          if (!dataTable) return;\n",
              "\n",
              "          const docLinkHtml = 'Like what you see? Visit the ' +\n",
              "            '<a target=\"_blank\" href=https://colab.research.google.com/notebooks/data_table.ipynb>data table notebook</a>'\n",
              "            + ' to learn more about interactive tables.';\n",
              "          element.innerHTML = '';\n",
              "          dataTable['output_type'] = 'display_data';\n",
              "          await google.colab.output.renderOutput(dataTable, element);\n",
              "          const docLink = document.createElement('div');\n",
              "          docLink.innerHTML = docLinkHtml;\n",
              "          element.appendChild(docLink);\n",
              "        }\n",
              "      </script>\n",
              "    </div>\n",
              "  </div>\n",
              "  "
            ]
          },
          "metadata": {},
          "execution_count": 105
        }
      ]
    },
    {
      "cell_type": "code",
      "source": [
        "plt.plot(data['Open'])\n",
        "plt.rcParams['figure.figsize']=(15,10)"
      ],
      "metadata": {
        "colab": {
          "base_uri": "https://localhost:8080/",
          "height": 267
        },
        "id": "x8x51fYQ_y7G",
        "outputId": "0d53be24-44ca-4bf3-eac7-c7b86696f149"
      },
      "execution_count": null,
      "outputs": [
        {
          "output_type": "display_data",
          "data": {
            "text/plain": [
              "<Figure size 432x288 with 1 Axes>"
            ],
            "image/png": "[encoded data removed]"
          },
          "metadata": {
            "needs_background": "light"
          }
        }
      ]
    },
    {
      "cell_type": "code",
      "source": [
        "from statsmodels.tsa.stattools import adfuller"
      ],
      "metadata": {
        "id": "7NgXPT7T_y9j"
      },
      "execution_count": null,
      "outputs": []
    },
    {
      "cell_type": "code",
      "source": [
        "def adf_test(series):\n",
        "    result=adfuller(series)\n",
        "    print('ADF Statistics: {}'.format(result[0]))\n",
        "    print('p- value: {}'.format(result[1]))\n",
        "    if result[1] <= 0.05:\n",
        "        print(\"strong evidence against the null hypothesis, reject the null hypothesis. Data has no unit root and is stationary\")\n",
        "    else:\n",
        "        print(\"weak evidence against null hypothesis, time series has a unit root, indicating it is non-stationary \")"
      ],
      "metadata": {
        "id": "gqgNmZNNAhmG"
      },
      "execution_count": null,
      "outputs": []
    },
    {
      "cell_type": "code",
      "source": [
        "adf_test(data['Open'])"
      ],
      "metadata": {
        "colab": {
          "base_uri": "https://localhost:8080/"
        },
        "id": "ILvGjL2QAhor",
        "outputId": "b2ebe1f5-6a8b-4f34-d53e-6a10486d4aeb"
      },
      "execution_count": null,
      "outputs": [
        {
          "output_type": "stream",
          "name": "stdout",
          "text": [
            "ADF Statistics: -0.6106183908397493\n",
            "p- value: 0.8685646089538173\n",
            "weak evidence against null hypothesis, time series has a unit root, indicating it is non-stationary \n"
          ]
        }
      ]
    },
    {
      "cell_type": "code",
      "source": [
        "## Use Techniques Differencing\n",
        "data['Open_first_deference']=data['Open']-data['Open'].shift(1)"
      ],
      "metadata": {
        "id": "to-zy2ZzAhrI"
      },
      "execution_count": null,
      "outputs": []
    },
    {
      "cell_type": "code",
      "source": [
        "data.head()"
      ],
      "metadata": {
        "colab": {
          "base_uri": "https://localhost:8080/",
          "height": 238
        },
        "id": "9lISwakCAhtY",
        "outputId": "37d92d5c-4fa0-4a1e-8511-b4815dc795de"
      },
      "execution_count": null,
      "outputs": [
        {
          "output_type": "execute_result",
          "data": {
            "text/plain": [
              "                  Open        High         Low       Close   Adj Close  \\\n",
              "Date                                                                     \n",
              "2017-11-09  308.644989  329.451996  307.056000  320.884003  320.884003   \n",
              "2017-11-10  320.670990  324.717987  294.541992  299.252991  299.252991   \n",
              "2017-11-11  298.585999  319.453003  298.191986  314.681000  314.681000   \n",
              "2017-11-12  314.690002  319.153015  298.513000  307.907990  307.907990   \n",
              "2017-11-13  307.024994  328.415009  307.024994  316.716003  316.716003   \n",
              "\n",
              "                Volume  Open_first_deference  \n",
              "Date                                          \n",
              "2017-11-09   893249984                   NaN  \n",
              "2017-11-10   885985984             12.026001  \n",
              "2017-11-11   842300992            -22.084991  \n",
              "2017-11-12  1613479936             16.104003  \n",
              "2017-11-13  1041889984             -7.665008  "
            ],
            "text/html": [
              "\n",
              "  <div id=\"df-c8b934f8-5773-4369-94a9-6c4dfefd99ee\">\n",
              "    <div class=\"colab-df-container\">\n",
              "      <div>\n",
              "<style scoped>\n",
              "    .dataframe tbody tr th:only-of-type {\n",
              "        vertical-align: middle;\n",
              "    }\n",
              "\n",
              "    .dataframe tbody tr th {\n",
              "        vertical-align: top;\n",
              "    }\n",
              "\n",
              "    .dataframe thead th {\n",
              "        text-align: right;\n",
              "    }\n",
              "</style>\n",
              "<table border=\"1\" class=\"dataframe\">\n",
              "  <thead>\n",
              "    <tr style=\"text-align: right;\">\n",
              "      <th></th>\n",
              "      <th>Open</th>\n",
              "      <th>High</th>\n",
              "      <th>Low</th>\n",
              "      <th>Close</th>\n",
              "      <th>Adj Close</th>\n",
              "      <th>Volume</th>\n",
              "      <th>Open_first_deference</th>\n",
              "    </tr>\n",
              "    <tr>\n",
              "      <th>Date</th>\n",
              "      <th></th>\n",
              "      <th></th>\n",
              "      <th></th>\n",
              "      <th></th>\n",
              "      <th></th>\n",
              "      <th></th>\n",
              "      <th></th>\n",
              "    </tr>\n",
              "  </thead>\n",
              "  <tbody>\n",
              "    <tr>\n",
              "      <th>2017-11-09</th>\n",
              "      <td>308.644989</td>\n",
              "      <td>329.451996</td>\n",
              "      <td>307.056000</td>\n",
              "      <td>320.884003</td>\n",
              "      <td>320.884003</td>\n",
              "      <td>893249984</td>\n",
              "      <td>NaN</td>\n",
              "    </tr>\n",
              "    <tr>\n",
              "      <th>2017-11-10</th>\n",
              "      <td>320.670990</td>\n",
              "      <td>324.717987</td>\n",
              "      <td>294.541992</td>\n",
              "      <td>299.252991</td>\n",
              "      <td>299.252991</td>\n",
              "      <td>885985984</td>\n",
              "      <td>12.026001</td>\n",
              "    </tr>\n",
              "    <tr>\n",
              "      <th>2017-11-11</th>\n",
              "      <td>298.585999</td>\n",
              "      <td>319.453003</td>\n",
              "      <td>298.191986</td>\n",
              "      <td>314.681000</td>\n",
              "      <td>314.681000</td>\n",
              "      <td>842300992</td>\n",
              "      <td>-22.084991</td>\n",
              "    </tr>\n",
              "    <tr>\n",
              "      <th>2017-11-12</th>\n",
              "      <td>314.690002</td>\n",
              "      <td>319.153015</td>\n",
              "      <td>298.513000</td>\n",
              "      <td>307.907990</td>\n",
              "      <td>307.907990</td>\n",
              "      <td>1613479936</td>\n",
              "      <td>16.104003</td>\n",
              "    </tr>\n",
              "    <tr>\n",
              "      <th>2017-11-13</th>\n",
              "      <td>307.024994</td>\n",
              "      <td>328.415009</td>\n",
              "      <td>307.024994</td>\n",
              "      <td>316.716003</td>\n",
              "      <td>316.716003</td>\n",
              "      <td>1041889984</td>\n",
              "      <td>-7.665008</td>\n",
              "    </tr>\n",
              "  </tbody>\n",
              "</table>\n",
              "</div>\n",
              "      <button class=\"colab-df-convert\" onclick=\"convertToInteractive('df-c8b934f8-5773-4369-94a9-6c4dfefd99ee')\"\n",
              "              title=\"Convert this dataframe to an interactive table.\"\n",
              "              style=\"display:none;\">\n",
              "        \n",
              "  <svg xmlns=\"http://www.w3.org/2000/svg\" height=\"24px\"viewBox=\"0 0 24 24\"\n",
              "       width=\"24px\">\n",
              "    <path d=\"M0 0h24v24H0V0z\" fill=\"none\"/>\n",
              "    <path d=\"M18.56 5.44l.94 2.06.94-2.06 2.06-.94-2.06-.94-.94-2.06-.94 2.06-2.06.94zm-11 1L8.5 8.5l.94-2.06 2.06-.94-2.06-.94L8.5 2.5l-.94 2.06-2.06.94zm10 10l.94 2.06.94-2.06 2.06-.94-2.06-.94-.94-2.06-.94 2.06-2.06.94z\"/><path d=\"M17.41 7.96l-1.37-1.37c-.4-.4-.92-.59-1.43-.59-.52 0-1.04.2-1.43.59L10.3 9.45l-7.72 7.72c-.78.78-.78 2.05 0 2.83L4 21.41c.39.39.9.59 1.41.59.51 0 1.02-.2 1.41-.59l7.78-7.78 2.81-2.81c.8-.78.8-2.07 0-2.86zM5.41 20L4 18.59l7.72-7.72 1.47 1.35L5.41 20z\"/>\n",
              "  </svg>\n",
              "      </button>\n",
              "      \n",
              "  <style>\n",
              "    .colab-df-container {\n",
              "      display:flex;\n",
              "      flex-wrap:wrap;\n",
              "      gap: 12px;\n",
              "    }\n",
              "\n",
              "    .colab-df-convert {\n",
              "      background-color: #E8F0FE;\n",
              "      border: none;\n",
              "      border-radius: 50%;\n",
              "      cursor: pointer;\n",
              "      display: none;\n",
              "      fill: #1967D2;\n",
              "      height: 32px;\n",
              "      padding: 0 0 0 0;\n",
              "      width: 32px;\n",
              "    }\n",
              "\n",
              "    .colab-df-convert:hover {\n",
              "      background-color: #E2EBFA;\n",
              "      box-shadow: 0px 1px 2px rgba(60, 64, 67, 0.3), 0px 1px 3px 1px rgba(60, 64, 67, 0.15);\n",
              "      fill: #174EA6;\n",
              "    }\n",
              "\n",
              "    [theme=dark] .colab-df-convert {\n",
              "      background-color: #3B4455;\n",
              "      fill: #D2E3FC;\n",
              "    }\n",
              "\n",
              "    [theme=dark] .colab-df-convert:hover {\n",
              "      background-color: #434B5C;\n",
              "      box-shadow: 0px 1px 3px 1px rgba(0, 0, 0, 0.15);\n",
              "      filter: drop-shadow(0px 1px 2px rgba(0, 0, 0, 0.3));\n",
              "      fill: #FFFFFF;\n",
              "    }\n",
              "  </style>\n",
              "\n",
              "      <script>\n",
              "        const buttonEl =\n",
              "          document.querySelector('#df-c8b934f8-5773-4369-94a9-6c4dfefd99ee button.colab-df-convert');\n",
              "        buttonEl.style.display =\n",
              "          google.colab.kernel.accessAllowed ? 'block' : 'none';\n",
              "\n",
              "        async function convertToInteractive(key) {\n",
              "          const element = document.querySelector('#df-c8b934f8-5773-4369-94a9-6c4dfefd99ee');\n",
              "          const dataTable =\n",
              "            await google.colab.kernel.invokeFunction('convertToInteractive',\n",
              "                                                     [key], {});\n",
              "          if (!dataTable) return;\n",
              "\n",
              "          const docLinkHtml = 'Like what you see? Visit the ' +\n",
              "            '<a target=\"_blank\" href=https://colab.research.google.com/notebooks/data_table.ipynb>data table notebook</a>'\n",
              "            + ' to learn more about interactive tables.';\n",
              "          element.innerHTML = '';\n",
              "          dataTable['output_type'] = 'display_data';\n",
              "          await google.colab.output.renderOutput(dataTable, element);\n",
              "          const docLink = document.createElement('div');\n",
              "          docLink.innerHTML = docLinkHtml;\n",
              "          element.appendChild(docLink);\n",
              "        }\n",
              "      </script>\n",
              "    </div>\n",
              "  </div>\n",
              "  "
            ]
          },
          "metadata": {},
          "execution_count": 111
        }
      ]
    },
    {
      "cell_type": "code",
      "source": [
        "adf_test(data['Open_first_deference'].dropna())"
      ],
      "metadata": {
        "colab": {
          "base_uri": "https://localhost:8080/"
        },
        "id": "tRM4J_TEAhv3",
        "outputId": "053da911-2938-4c36-8472-d5711799b2ff"
      },
      "execution_count": null,
      "outputs": [
        {
          "output_type": "stream",
          "name": "stdout",
          "text": [
            "ADF Statistics: -8.618890358788795\n",
            "p- value: 6.182001066476927e-14\n",
            "strong evidence against the null hypothesis, reject the null hypothesis. Data has no unit root and is stationary\n"
          ]
        }
      ]
    },
    {
      "cell_type": "code",
      "source": [
        "## Use Techniques Differencing\n",
        "data['Open_second_deference']=data['Open_first_deference']-data['Open_first_deference'].shift(1)"
      ],
      "metadata": {
        "id": "_bWUL396AhyG"
      },
      "execution_count": null,
      "outputs": []
    },
    {
      "cell_type": "code",
      "source": [
        "adf_test(data['Open_second_deference'].dropna())"
      ],
      "metadata": {
        "colab": {
          "base_uri": "https://localhost:8080/"
        },
        "id": "z9f2q7jiL7_m",
        "outputId": "9406fafb-0c23-455e-84bc-b1f6cb187cf7"
      },
      "execution_count": null,
      "outputs": [
        {
          "output_type": "stream",
          "name": "stdout",
          "text": [
            "ADF Statistics: -14.264619176487011\n",
            "p- value: 1.4075307610721742e-26\n",
            "strong evidence against the null hypothesis, reject the null hypothesis. Data has no unit root and is stationary\n"
          ]
        }
      ]
    },
    {
      "cell_type": "code",
      "source": [
        "### 12 months\n",
        "## Use Techniques Differencing\n",
        "data['Open_twelve_deference']=data['Open']-data['Open'].shift(12)"
      ],
      "metadata": {
        "id": "mxJAC0MnL8CY"
      },
      "execution_count": null,
      "outputs": []
    },
    {
      "cell_type": "code",
      "source": [
        "adf_test(data['Open_twelve_deference'].dropna())"
      ],
      "metadata": {
        "colab": {
          "base_uri": "https://localhost:8080/"
        },
        "id": "CqVeBmjSL8Es",
        "outputId": "bcfd582b-09e9-4b7b-d429-a9052ef3a201"
      },
      "execution_count": null,
      "outputs": [
        {
          "output_type": "stream",
          "name": "stdout",
          "text": [
            "ADF Statistics: -5.094732341694918\n",
            "p- value: 1.4364969264526349e-05\n",
            "strong evidence against the null hypothesis, reject the null hypothesis. Data has no unit root and is stationary\n"
          ]
        }
      ]
    },
    {
      "cell_type": "code",
      "source": [
        "from statsmodels.graphics.tsaplots import plot_acf,plot_pacf"
      ],
      "metadata": {
        "id": "I0SgTvjPMiKi"
      },
      "execution_count": null,
      "outputs": []
    },
    {
      "cell_type": "code",
      "source": [
        "acf = plot_acf(data['Open_second_deference'].dropna())"
      ],
      "metadata": {
        "colab": {
          "base_uri": "https://localhost:8080/",
          "height": 607
        },
        "id": "5yuGZa0FMiNT",
        "outputId": "099ffc7f-1372-4778-d664-55c33a876293"
      },
      "execution_count": null,
      "outputs": [
        {
          "output_type": "display_data",
          "data": {
            "text/plain": [
              "<Figure size 1080x720 with 1 Axes>"
            ],
            "image/png": "[encoded data removed]"
          },
          "metadata": {
            "needs_background": "light"
          }
        }
      ]
    },
    {
      "cell_type": "code",
      "source": [
        "pacf = plot_pacf(data['Open_second_deference'].dropna())"
      ],
      "metadata": {
        "colab": {
          "base_uri": "https://localhost:8080/",
          "height": 607
        },
        "id": "z2inbF7zMiQG",
        "outputId": "4552f803-3ba7-41de-fe43-fc7bc6e2c90f"
      },
      "execution_count": null,
      "outputs": [
        {
          "output_type": "display_data",
          "data": {
            "text/plain": [
              "<Figure size 1080x720 with 1 Axes>"
            ],
            "image/png": "[encoded data removed]"
          },
          "metadata": {
            "needs_background": "light"
          }
        }
      ]
    },
    {
      "cell_type": "code",
      "source": [
        "acf12 = plot_acf(data['Open_twelve_deference'].dropna())\n",
        "pacf12 = plot_pacf(data['Open_twelve_deference'].dropna())"
      ],
      "metadata": {
        "colab": {
          "base_uri": "https://localhost:8080/",
          "height": 1000
        },
        "id": "ViMrnwzOMiTN",
        "outputId": "f04c581a-9241-4265-8c4a-2314b63dae68"
      },
      "execution_count": null,
      "outputs": [
        {
          "output_type": "display_data",
          "data": {
            "text/plain": [
              "<Figure size 1080x720 with 1 Axes>"
            ],
            "image/png": "[encoded data removed]"
          },
          "metadata": {
            "needs_background": "light"
          }
        },
        {
          "output_type": "display_data",
          "data": {
            "text/plain": [
              "<Figure size 1080x720 with 1 Axes>"
            ],
            "image/png": "[encoded data removed]"
          },
          "metadata": {
            "needs_background": "light"
          }
        }
      ]
    },
    {
      "cell_type": "code",
      "source": [
        " !pip install pmdarima"
      ],
      "metadata": {
        "colab": {
          "base_uri": "https://localhost:8080/"
        },
        "id": "-0gtiEPyUbL0",
        "outputId": "74aa3b06-8c5c-4b93-c602-a4baa359142a"
      },
      "execution_count": null,
      "outputs": [
        {
          "output_type": "stream",
          "name": "stdout",
          "text": [
            "Looking in indexes: https://pypi.org/simple, https://us-python.pkg.dev/colab-wheels/public/simple/\n",
            "Requirement already satisfied: pmdarima in /usr/local/lib/python3.8/dist-packages (2.0.2)\n",
            "Requirement already satisfied: scipy>=1.3.2 in /usr/local/lib/python3.8/dist-packages (from pmdarima) (1.7.3)\n",
            "Requirement already satisfied: Cython!=0.29.18,!=0.29.31,>=0.29 in /usr/local/lib/python3.8/dist-packages (from pmdarima) (0.29.32)\n",
            "Requirement already satisfied: scikit-learn>=0.22 in /usr/local/lib/python3.8/dist-packages (from pmdarima) (1.0.2)\n",
            "Requirement already satisfied: statsmodels>=0.13.2 in /usr/local/lib/python3.8/dist-packages (from pmdarima) (0.13.5)\n",
            "Requirement already satisfied: joblib>=0.11 in /usr/local/lib/python3.8/dist-packages (from pmdarima) (1.2.0)\n",
            "Requirement already satisfied: urllib3 in /usr/local/lib/python3.8/dist-packages (from pmdarima) (1.24.3)\n",
            "Requirement already satisfied: pandas>=0.19 in /usr/local/lib/python3.8/dist-packages (from pmdarima) (1.3.5)\n",
            "Requirement already satisfied: setuptools!=50.0.0,>=38.6.0 in /usr/local/lib/python3.8/dist-packages (from pmdarima) (57.4.0)\n",
            "Requirement already satisfied: numpy>=1.21.2 in /usr/local/lib/python3.8/dist-packages (from pmdarima) (1.21.6)\n",
            "Requirement already satisfied: python-dateutil>=2.7.3 in /usr/local/lib/python3.8/dist-packages (from pandas>=0.19->pmdarima) (2.8.2)\n",
            "Requirement already satisfied: pytz>=2017.3 in /usr/local/lib/python3.8/dist-packages (from pandas>=0.19->pmdarima) (2022.6)\n",
            "Requirement already satisfied: six>=1.5 in /usr/local/lib/python3.8/dist-packages (from python-dateutil>=2.7.3->pandas>=0.19->pmdarima) (1.15.0)\n",
            "Requirement already satisfied: threadpoolctl>=2.0.0 in /usr/local/lib/python3.8/dist-packages (from scikit-learn>=0.22->pmdarima) (3.1.0)\n",
            "Requirement already satisfied: patsy>=0.5.2 in /usr/local/lib/python3.8/dist-packages (from statsmodels>=0.13.2->pmdarima) (0.5.3)\n",
            "Requirement already satisfied: packaging>=21.3 in /usr/local/lib/python3.8/dist-packages (from statsmodels>=0.13.2->pmdarima) (21.3)\n",
            "Requirement already satisfied: pyparsing!=3.0.5,>=2.0.2 in /usr/local/lib/python3.8/dist-packages (from packaging>=21.3->statsmodels>=0.13.2->pmdarima) (3.0.9)\n"
          ]
        }
      ]
    },
    {
      "cell_type": "code",
      "source": [
        "from pmdarima import auto_arima\n",
        "#ignore harmless warnings\n",
        "import warnings\n",
        "warnings.filterwarnings('ignore')\n"
      ],
      "metadata": {
        "id": "MiisX_VgT6OM"
      },
      "execution_count": null,
      "outputs": []
    },
    {
      "cell_type": "code",
      "source": [
        "stepwise_fit = auto_arima(data['Open'], trace = True, suppress_warnings = True)\n",
        "stepwise_fit.summary()"
      ],
      "metadata": {
        "colab": {
          "base_uri": "https://localhost:8080/",
          "height": 963
        },
        "id": "3kv3jDsKUg7b",
        "outputId": "853b67d5-fabf-4814-b934-05a81b46bbe8"
      },
      "execution_count": null,
      "outputs": [
        {
          "output_type": "stream",
          "name": "stdout",
          "text": [
            "Performing stepwise search to minimize aic\n",
            " ARIMA(2,1,2)(0,0,0)[0] intercept   : AIC=18507.921, Time=4.18 sec\n",
            " ARIMA(0,1,0)(0,0,0)[0] intercept   : AIC=18532.958, Time=0.07 sec\n",
            " ARIMA(1,1,0)(0,0,0)[0] intercept   : AIC=18524.056, Time=0.11 sec\n",
            " ARIMA(0,1,1)(0,0,0)[0] intercept   : AIC=18524.386, Time=0.28 sec\n",
            " ARIMA(0,1,0)(0,0,0)[0]             : AIC=18531.725, Time=0.08 sec\n",
            " ARIMA(1,1,2)(0,0,0)[0] intercept   : AIC=18527.015, Time=1.70 sec\n",
            " ARIMA(2,1,1)(0,0,0)[0] intercept   : AIC=18527.771, Time=0.80 sec\n",
            " ARIMA(3,1,2)(0,0,0)[0] intercept   : AIC=18508.625, Time=7.19 sec\n",
            " ARIMA(2,1,3)(0,0,0)[0] intercept   : AIC=18488.555, Time=8.21 sec\n",
            " ARIMA(1,1,3)(0,0,0)[0] intercept   : AIC=18521.398, Time=5.14 sec\n",
            " ARIMA(3,1,3)(0,0,0)[0] intercept   : AIC=18499.454, Time=11.19 sec\n",
            " ARIMA(2,1,4)(0,0,0)[0] intercept   : AIC=18490.881, Time=5.47 sec\n",
            " ARIMA(1,1,4)(0,0,0)[0] intercept   : AIC=18509.747, Time=3.11 sec\n",
            " ARIMA(3,1,4)(0,0,0)[0] intercept   : AIC=18498.145, Time=5.41 sec\n",
            " ARIMA(2,1,3)(0,0,0)[0]             : AIC=18487.437, Time=1.49 sec\n",
            " ARIMA(1,1,3)(0,0,0)[0]             : AIC=18520.322, Time=0.75 sec\n",
            " ARIMA(2,1,2)(0,0,0)[0]             : AIC=18506.478, Time=1.85 sec\n",
            " ARIMA(3,1,3)(0,0,0)[0]             : AIC=18497.895, Time=2.23 sec\n",
            " ARIMA(2,1,4)(0,0,0)[0]             : AIC=18489.437, Time=2.03 sec\n",
            " ARIMA(1,1,2)(0,0,0)[0]             : AIC=18525.829, Time=0.51 sec\n",
            " ARIMA(1,1,4)(0,0,0)[0]             : AIC=18508.536, Time=0.92 sec\n",
            " ARIMA(3,1,2)(0,0,0)[0]             : AIC=18507.126, Time=1.87 sec\n",
            " ARIMA(3,1,4)(0,0,0)[0]             : AIC=18496.503, Time=2.62 sec\n",
            "\n",
            "Best model:  ARIMA(2,1,3)(0,0,0)[0]          \n",
            "Total fit time: 67.258 seconds\n"
          ]
        },
        {
          "output_type": "execute_result",
          "data": {
            "text/plain": [
              "<class 'statsmodels.iolib.summary.Summary'>\n",
              "\"\"\"\n",
              "                               SARIMAX Results                                \n",
              "==============================================================================\n",
              "Dep. Variable:                      y   No. Observations:                 1598\n",
              "Model:               SARIMAX(2, 1, 3)   Log Likelihood               -9237.719\n",
              "Date:                Fri, 16 Dec 2022   AIC                          18487.437\n",
              "Time:                        09:49:28   BIC                          18519.692\n",
              "Sample:                    11-09-2017   HQIC                         18499.416\n",
              "                         - 03-25-2022                                         \n",
              "Covariance Type:                  opg                                         \n",
              "==============================================================================\n",
              "                 coef    std err          z      P>|z|      [0.025      0.975]\n",
              "------------------------------------------------------------------------------\n",
              "ar.L1         -1.8147      0.017   -107.711      0.000      -1.848      -1.782\n",
              "ar.L2         -0.8968      0.016    -56.810      0.000      -0.928      -0.866\n",
              "ma.L1          1.7598      0.020     89.806      0.000       1.721       1.798\n",
              "ma.L2          0.7959      0.029     27.545      0.000       0.739       0.852\n",
              "ma.L3         -0.0734      0.014     -5.161      0.000      -0.101      -0.046\n",
              "sigma2      6190.0042     80.221     77.162      0.000    6032.773    6347.235\n",
              "===================================================================================\n",
              "Ljung-Box (L1) (Q):                   0.00   Jarque-Bera (JB):             21916.08\n",
              "Prob(Q):                              0.98   Prob(JB):                         0.00\n",
              "Heteroskedasticity (H):              16.41   Skew:                            -0.91\n",
              "Prob(H) (two-sided):                  0.00   Kurtosis:                        21.06\n",
              "===================================================================================\n",
              "\n",
              "Warnings:\n",
              "[1] Covariance matrix calculated using the outer product of gradients (complex-step).\n",
              "\"\"\""
            ],
            "text/html": [
              "<table class=\"simpletable\">\n",
              "<caption>SARIMAX Results</caption>\n",
              "<tr>\n",
              "  <th>Dep. Variable:</th>           <td>y</td>        <th>  No. Observations:  </th>   <td>1598</td>   \n",
              "</tr>\n",
              "<tr>\n",
              "  <th>Model:</th>           <td>SARIMAX(2, 1, 3)</td> <th>  Log Likelihood     </th> <td>-9237.719</td>\n",
              "</tr>\n",
              "<tr>\n",
              "  <th>Date:</th>            <td>Fri, 16 Dec 2022</td> <th>  AIC                </th> <td>18487.437</td>\n",
              "</tr>\n",
              "<tr>\n",
              "  <th>Time:</th>                <td>09:49:28</td>     <th>  BIC                </th> <td>18519.692</td>\n",
              "</tr>\n",
              "<tr>\n",
              "  <th>Sample:</th>             <td>11-09-2017</td>    <th>  HQIC               </th> <td>18499.416</td>\n",
              "</tr>\n",
              "<tr>\n",
              "  <th></th>                   <td>- 03-25-2022</td>   <th>                     </th>     <td> </td>    \n",
              "</tr>\n",
              "<tr>\n",
              "  <th>Covariance Type:</th>        <td>opg</td>       <th>                     </th>     <td> </td>    \n",
              "</tr>\n",
              "</table>\n",
              "<table class=\"simpletable\">\n",
              "<tr>\n",
              "     <td></td>       <th>coef</th>     <th>std err</th>      <th>z</th>      <th>P>|z|</th>  <th>[0.025</th>    <th>0.975]</th>  \n",
              "</tr>\n",
              "<tr>\n",
              "  <th>ar.L1</th>  <td>   -1.8147</td> <td>    0.017</td> <td> -107.711</td> <td> 0.000</td> <td>   -1.848</td> <td>   -1.782</td>\n",
              "</tr>\n",
              "<tr>\n",
              "  <th>ar.L2</th>  <td>   -0.8968</td> <td>    0.016</td> <td>  -56.810</td> <td> 0.000</td> <td>   -0.928</td> <td>   -0.866</td>\n",
              "</tr>\n",
              "<tr>\n",
              "  <th>ma.L1</th>  <td>    1.7598</td> <td>    0.020</td> <td>   89.806</td> <td> 0.000</td> <td>    1.721</td> <td>    1.798</td>\n",
              "</tr>\n",
              "<tr>\n",
              "  <th>ma.L2</th>  <td>    0.7959</td> <td>    0.029</td> <td>   27.545</td> <td> 0.000</td> <td>    0.739</td> <td>    0.852</td>\n",
              "</tr>\n",
              "<tr>\n",
              "  <th>ma.L3</th>  <td>   -0.0734</td> <td>    0.014</td> <td>   -5.161</td> <td> 0.000</td> <td>   -0.101</td> <td>   -0.046</td>\n",
              "</tr>\n",
              "<tr>\n",
              "  <th>sigma2</th> <td> 6190.0042</td> <td>   80.221</td> <td>   77.162</td> <td> 0.000</td> <td> 6032.773</td> <td> 6347.235</td>\n",
              "</tr>\n",
              "</table>\n",
              "<table class=\"simpletable\">\n",
              "<tr>\n",
              "  <th>Ljung-Box (L1) (Q):</th>     <td>0.00</td>  <th>  Jarque-Bera (JB):  </th> <td>21916.08</td>\n",
              "</tr>\n",
              "<tr>\n",
              "  <th>Prob(Q):</th>                <td>0.98</td>  <th>  Prob(JB):          </th>   <td>0.00</td>  \n",
              "</tr>\n",
              "<tr>\n",
              "  <th>Heteroskedasticity (H):</th> <td>16.41</td> <th>  Skew:              </th>   <td>-0.91</td> \n",
              "</tr>\n",
              "<tr>\n",
              "  <th>Prob(H) (two-sided):</th>    <td>0.00</td>  <th>  Kurtosis:          </th>   <td>21.06</td> \n",
              "</tr>\n",
              "</table><br/><br/>Warnings:<br/>[1] Covariance matrix calculated using the outer product of gradients (complex-step)."
            ]
          },
          "metadata": {},
          "execution_count": 123
        }
      ]
    },
    {
      "cell_type": "code",
      "source": [],
      "metadata": {
        "id": "BWkgDu56Ug9s"
      },
      "execution_count": null,
      "outputs": []
    },
    {
      "cell_type": "code",
      "source": [],
      "metadata": {
        "id": "AiXa_msMUhAX"
      },
      "execution_count": null,
      "outputs": []
    },
    {
      "cell_type": "code",
      "source": [
        "data"
      ],
      "metadata": {
        "colab": {
          "base_uri": "https://localhost:8080/",
          "height": 499
        },
        "id": "hdDYwt0oNmH4",
        "outputId": "36546595-11b2-4b7a-cf87-905318dd0193"
      },
      "execution_count": null,
      "outputs": [
        {
          "output_type": "execute_result",
          "data": {
            "text/plain": [
              "                   Open         High          Low        Close    Adj Close  \\\n",
              "Date                                                                          \n",
              "2017-11-09   308.644989   329.451996   307.056000   320.884003   320.884003   \n",
              "2017-11-10   320.670990   324.717987   294.541992   299.252991   299.252991   \n",
              "2017-11-11   298.585999   319.453003   298.191986   314.681000   314.681000   \n",
              "2017-11-12   314.690002   319.153015   298.513000   307.907990   307.907990   \n",
              "2017-11-13   307.024994   328.415009   307.024994   316.716003   316.716003   \n",
              "...                 ...          ...          ...          ...          ...   \n",
              "2022-03-21  2860.103271  2954.556641  2838.250488  2897.976563  2897.976563   \n",
              "2022-03-22  2897.774170  3040.382813  2892.544434  2973.131104  2973.131104   \n",
              "2022-03-23  2973.145020  3036.752197  2933.306641  3031.067139  3031.067139   \n",
              "2022-03-24  3031.060791  3118.387695  3012.326660  3108.062012  3108.062012   \n",
              "2022-03-25  3109.523438  3182.826660  3097.624268  3122.535889  3122.535889   \n",
              "\n",
              "                 Volume  Open_first_deference  Open_second_deference  \\\n",
              "Date                                                                   \n",
              "2017-11-09    893249984                   NaN                    NaN   \n",
              "2017-11-10    885985984             12.026001                    NaN   \n",
              "2017-11-11    842300992            -22.084991             -34.110992   \n",
              "2017-11-12   1613479936             16.104003              38.188994   \n",
              "2017-11-13   1041889984             -7.665008             -23.769011   \n",
              "...                 ...                   ...                    ...   \n",
              "2022-03-21  15206116098            -86.444336             -88.270263   \n",
              "2022-03-22  16830539230             37.670899             124.115235   \n",
              "2022-03-23  16008767658             75.370850              37.699951   \n",
              "2022-03-24  18070503166             57.915771             -17.455079   \n",
              "2022-03-25  16882068480             78.462647              20.546876   \n",
              "\n",
              "            Open_twelve_deference  \n",
              "Date                               \n",
              "2017-11-09                    NaN  \n",
              "2017-11-10                    NaN  \n",
              "2017-11-11                    NaN  \n",
              "2017-11-12                    NaN  \n",
              "2017-11-13                    NaN  \n",
              "...                           ...  \n",
              "2022-03-21             282.937988  \n",
              "2022-03-22             168.657715  \n",
              "2022-03-23             364.873780  \n",
              "2022-03-24             471.400146  \n",
              "2022-03-25             536.035401  \n",
              "\n",
              "[1598 rows x 9 columns]"
            ],
            "text/html": [
              "\n",
              "  <div id=\"df-01c4903b-3e35-4456-b919-00d27e5c07c4\">\n",
              "    <div class=\"colab-df-container\">\n",
              "      <div>\n",
              "<style scoped>\n",
              "    .dataframe tbody tr th:only-of-type {\n",
              "        vertical-align: middle;\n",
              "    }\n",
              "\n",
              "    .dataframe tbody tr th {\n",
              "        vertical-align: top;\n",
              "    }\n",
              "\n",
              "    .dataframe thead th {\n",
              "        text-align: right;\n",
              "    }\n",
              "</style>\n",
              "<table border=\"1\" class=\"dataframe\">\n",
              "  <thead>\n",
              "    <tr style=\"text-align: right;\">\n",
              "      <th></th>\n",
              "      <th>Open</th>\n",
              "      <th>High</th>\n",
              "      <th>Low</th>\n",
              "      <th>Close</th>\n",
              "      <th>Adj Close</th>\n",
              "      <th>Volume</th>\n",
              "      <th>Open_first_deference</th>\n",
              "      <th>Open_second_deference</th>\n",
              "      <th>Open_twelve_deference</th>\n",
              "    </tr>\n",
              "    <tr>\n",
              "      <th>Date</th>\n",
              "      <th></th>\n",
              "      <th></th>\n",
              "      <th></th>\n",
              "      <th></th>\n",
              "      <th></th>\n",
              "      <th></th>\n",
              "      <th></th>\n",
              "      <th></th>\n",
              "      <th></th>\n",
              "    </tr>\n",
              "  </thead>\n",
              "  <tbody>\n",
              "    <tr>\n",
              "      <th>2017-11-09</th>\n",
              "      <td>308.644989</td>\n",
              "      <td>329.451996</td>\n",
              "      <td>307.056000</td>\n",
              "      <td>320.884003</td>\n",
              "      <td>320.884003</td>\n",
              "      <td>893249984</td>\n",
              "      <td>NaN</td>\n",
              "      <td>NaN</td>\n",
              "      <td>NaN</td>\n",
              "    </tr>\n",
              "    <tr>\n",
              "      <th>2017-11-10</th>\n",
              "      <td>320.670990</td>\n",
              "      <td>324.717987</td>\n",
              "      <td>294.541992</td>\n",
              "      <td>299.252991</td>\n",
              "      <td>299.252991</td>\n",
              "      <td>885985984</td>\n",
              "      <td>12.026001</td>\n",
              "      <td>NaN</td>\n",
              "      <td>NaN</td>\n",
              "    </tr>\n",
              "    <tr>\n",
              "      <th>2017-11-11</th>\n",
              "      <td>298.585999</td>\n",
              "      <td>319.453003</td>\n",
              "      <td>298.191986</td>\n",
              "      <td>314.681000</td>\n",
              "      <td>314.681000</td>\n",
              "      <td>842300992</td>\n",
              "      <td>-22.084991</td>\n",
              "      <td>-34.110992</td>\n",
              "      <td>NaN</td>\n",
              "    </tr>\n",
              "    <tr>\n",
              "      <th>2017-11-12</th>\n",
              "      <td>314.690002</td>\n",
              "      <td>319.153015</td>\n",
              "      <td>298.513000</td>\n",
              "      <td>307.907990</td>\n",
              "      <td>307.907990</td>\n",
              "      <td>1613479936</td>\n",
              "      <td>16.104003</td>\n",
              "      <td>38.188994</td>\n",
              "      <td>NaN</td>\n",
              "    </tr>\n",
              "    <tr>\n",
              "      <th>2017-11-13</th>\n",
              "      <td>307.024994</td>\n",
              "      <td>328.415009</td>\n",
              "      <td>307.024994</td>\n",
              "      <td>316.716003</td>\n",
              "      <td>316.716003</td>\n",
              "      <td>1041889984</td>\n",
              "      <td>-7.665008</td>\n",
              "      <td>-23.769011</td>\n",
              "      <td>NaN</td>\n",
              "    </tr>\n",
              "    <tr>\n",
              "      <th>...</th>\n",
              "      <td>...</td>\n",
              "      <td>...</td>\n",
              "      <td>...</td>\n",
              "      <td>...</td>\n",
              "      <td>...</td>\n",
              "      <td>...</td>\n",
              "      <td>...</td>\n",
              "      <td>...</td>\n",
              "      <td>...</td>\n",
              "    </tr>\n",
              "    <tr>\n",
              "      <th>2022-03-21</th>\n",
              "      <td>2860.103271</td>\n",
              "      <td>2954.556641</td>\n",
              "      <td>2838.250488</td>\n",
              "      <td>2897.976563</td>\n",
              "      <td>2897.976563</td>\n",
              "      <td>15206116098</td>\n",
              "      <td>-86.444336</td>\n",
              "      <td>-88.270263</td>\n",
              "      <td>282.937988</td>\n",
              "    </tr>\n",
              "    <tr>\n",
              "      <th>2022-03-22</th>\n",
              "      <td>2897.774170</td>\n",
              "      <td>3040.382813</td>\n",
              "      <td>2892.544434</td>\n",
              "      <td>2973.131104</td>\n",
              "      <td>2973.131104</td>\n",
              "      <td>16830539230</td>\n",
              "      <td>37.670899</td>\n",
              "      <td>124.115235</td>\n",
              "      <td>168.657715</td>\n",
              "    </tr>\n",
              "    <tr>\n",
              "      <th>2022-03-23</th>\n",
              "      <td>2973.145020</td>\n",
              "      <td>3036.752197</td>\n",
              "      <td>2933.306641</td>\n",
              "      <td>3031.067139</td>\n",
              "      <td>3031.067139</td>\n",
              "      <td>16008767658</td>\n",
              "      <td>75.370850</td>\n",
              "      <td>37.699951</td>\n",
              "      <td>364.873780</td>\n",
              "    </tr>\n",
              "    <tr>\n",
              "      <th>2022-03-24</th>\n",
              "      <td>3031.060791</td>\n",
              "      <td>3118.387695</td>\n",
              "      <td>3012.326660</td>\n",
              "      <td>3108.062012</td>\n",
              "      <td>3108.062012</td>\n",
              "      <td>18070503166</td>\n",
              "      <td>57.915771</td>\n",
              "      <td>-17.455079</td>\n",
              "      <td>471.400146</td>\n",
              "    </tr>\n",
              "    <tr>\n",
              "      <th>2022-03-25</th>\n",
              "      <td>3109.523438</td>\n",
              "      <td>3182.826660</td>\n",
              "      <td>3097.624268</td>\n",
              "      <td>3122.535889</td>\n",
              "      <td>3122.535889</td>\n",
              "      <td>16882068480</td>\n",
              "      <td>78.462647</td>\n",
              "      <td>20.546876</td>\n",
              "      <td>536.035401</td>\n",
              "    </tr>\n",
              "  </tbody>\n",
              "</table>\n",
              "<p>1598 rows × 9 columns</p>\n",
              "</div>\n",
              "      <button class=\"colab-df-convert\" onclick=\"convertToInteractive('df-01c4903b-3e35-4456-b919-00d27e5c07c4')\"\n",
              "              title=\"Convert this dataframe to an interactive table.\"\n",
              "              style=\"display:none;\">\n",
              "        \n",
              "  <svg xmlns=\"http://www.w3.org/2000/svg\" height=\"24px\"viewBox=\"0 0 24 24\"\n",
              "       width=\"24px\">\n",
              "    <path d=\"M0 0h24v24H0V0z\" fill=\"none\"/>\n",
              "    <path d=\"M18.56 5.44l.94 2.06.94-2.06 2.06-.94-2.06-.94-.94-2.06-.94 2.06-2.06.94zm-11 1L8.5 8.5l.94-2.06 2.06-.94-2.06-.94L8.5 2.5l-.94 2.06-2.06.94zm10 10l.94 2.06.94-2.06 2.06-.94-2.06-.94-.94-2.06-.94 2.06-2.06.94z\"/><path d=\"M17.41 7.96l-1.37-1.37c-.4-.4-.92-.59-1.43-.59-.52 0-1.04.2-1.43.59L10.3 9.45l-7.72 7.72c-.78.78-.78 2.05 0 2.83L4 21.41c.39.39.9.59 1.41.59.51 0 1.02-.2 1.41-.59l7.78-7.78 2.81-2.81c.8-.78.8-2.07 0-2.86zM5.41 20L4 18.59l7.72-7.72 1.47 1.35L5.41 20z\"/>\n",
              "  </svg>\n",
              "      </button>\n",
              "      \n",
              "  <style>\n",
              "    .colab-df-container {\n",
              "      display:flex;\n",
              "      flex-wrap:wrap;\n",
              "      gap: 12px;\n",
              "    }\n",
              "\n",
              "    .colab-df-convert {\n",
              "      background-color: #E8F0FE;\n",
              "      border: none;\n",
              "      border-radius: 50%;\n",
              "      cursor: pointer;\n",
              "      display: none;\n",
              "      fill: #1967D2;\n",
              "      height: 32px;\n",
              "      padding: 0 0 0 0;\n",
              "      width: 32px;\n",
              "    }\n",
              "\n",
              "    .colab-df-convert:hover {\n",
              "      background-color: #E2EBFA;\n",
              "      box-shadow: 0px 1px 2px rgba(60, 64, 67, 0.3), 0px 1px 3px 1px rgba(60, 64, 67, 0.15);\n",
              "      fill: #174EA6;\n",
              "    }\n",
              "\n",
              "    [theme=dark] .colab-df-convert {\n",
              "      background-color: #3B4455;\n",
              "      fill: #D2E3FC;\n",
              "    }\n",
              "\n",
              "    [theme=dark] .colab-df-convert:hover {\n",
              "      background-color: #434B5C;\n",
              "      box-shadow: 0px 1px 3px 1px rgba(0, 0, 0, 0.15);\n",
              "      filter: drop-shadow(0px 1px 2px rgba(0, 0, 0, 0.3));\n",
              "      fill: #FFFFFF;\n",
              "    }\n",
              "  </style>\n",
              "\n",
              "      <script>\n",
              "        const buttonEl =\n",
              "          document.querySelector('#df-01c4903b-3e35-4456-b919-00d27e5c07c4 button.colab-df-convert');\n",
              "        buttonEl.style.display =\n",
              "          google.colab.kernel.accessAllowed ? 'block' : 'none';\n",
              "\n",
              "        async function convertToInteractive(key) {\n",
              "          const element = document.querySelector('#df-01c4903b-3e35-4456-b919-00d27e5c07c4');\n",
              "          const dataTable =\n",
              "            await google.colab.kernel.invokeFunction('convertToInteractive',\n",
              "                                                     [key], {});\n",
              "          if (!dataTable) return;\n",
              "\n",
              "          const docLinkHtml = 'Like what you see? Visit the ' +\n",
              "            '<a target=\"_blank\" href=https://colab.research.google.com/notebooks/data_table.ipynb>data table notebook</a>'\n",
              "            + ' to learn more about interactive tables.';\n",
              "          element.innerHTML = '';\n",
              "          dataTable['output_type'] = 'display_data';\n",
              "          await google.colab.output.renderOutput(dataTable, element);\n",
              "          const docLink = document.createElement('div');\n",
              "          docLink.innerHTML = docLinkHtml;\n",
              "          element.appendChild(docLink);\n",
              "        }\n",
              "      </script>\n",
              "    </div>\n",
              "  </div>\n",
              "  "
            ]
          },
          "metadata": {},
          "execution_count": 124
        }
      ]
    },
    {
      "cell_type": "code",
      "source": [
        "from datetime import datetime,timedelta\n",
        "train_dataset_end=datetime(2021,3,25)\n",
        "test_dataset_end=datetime(2022,3,25)"
      ],
      "metadata": {
        "id": "SEBNemdXNmMr"
      },
      "execution_count": null,
      "outputs": []
    },
    {
      "cell_type": "code",
      "source": [
        "train_data=data[:train_dataset_end]\n",
        "test_data=data[train_dataset_end+timedelta(days=1):test_dataset_end]"
      ],
      "metadata": {
        "id": "Tld0F72YNmPm"
      },
      "execution_count": null,
      "outputs": []
    },
    {
      "cell_type": "code",
      "source": [
        "##prediction\n",
        "pred_start_date=test_data.index[0]\n",
        "pred_end_date=test_data.index[-1]"
      ],
      "metadata": {
        "id": "KQKLlw0kNmSA"
      },
      "execution_count": null,
      "outputs": []
    },
    {
      "cell_type": "code",
      "source": [
        "test_data"
      ],
      "metadata": {
        "colab": {
          "base_uri": "https://localhost:8080/",
          "height": 499
        },
        "id": "ImqUKPA0NmUd",
        "outputId": "f1f35a7d-39ea-4ee7-8bb5-048960696d5d"
      },
      "execution_count": null,
      "outputs": [
        {
          "output_type": "execute_result",
          "data": {
            "text/plain": [
              "                   Open         High          Low        Close    Adj Close  \\\n",
              "Date                                                                          \n",
              "2021-03-26  1595.210083  1702.922852  1594.736694  1702.842041  1702.842041   \n",
              "2021-03-27  1703.036133  1732.824341  1674.319336  1716.494629  1716.494629   \n",
              "2021-03-28  1716.405640  1728.584106  1672.660400  1691.355957  1691.355957   \n",
              "2021-03-29  1691.263184  1837.187988  1683.716553  1819.684937  1819.684937   \n",
              "2021-03-30  1819.466309  1860.974731  1793.922363  1846.033691  1846.033691   \n",
              "...                 ...          ...          ...          ...          ...   \n",
              "2022-03-21  2860.103271  2954.556641  2838.250488  2897.976563  2897.976563   \n",
              "2022-03-22  2897.774170  3040.382813  2892.544434  2973.131104  2973.131104   \n",
              "2022-03-23  2973.145020  3036.752197  2933.306641  3031.067139  3031.067139   \n",
              "2022-03-24  3031.060791  3118.387695  3012.326660  3108.062012  3108.062012   \n",
              "2022-03-25  3109.523438  3182.826660  3097.624268  3122.535889  3122.535889   \n",
              "\n",
              "                 Volume  Open_first_deference  Open_second_deference  \\\n",
              "Date                                                                   \n",
              "2021-03-26  22548516548              2.086792              86.966064   \n",
              "2021-03-27  18102277710            107.826050             105.739258   \n",
              "2021-03-28  16599472938             13.369507             -94.456543   \n",
              "2021-03-29  22796570548            -25.142456             -38.511963   \n",
              "2021-03-30  22512781703            128.203125             153.345581   \n",
              "...                 ...                   ...                    ...   \n",
              "2022-03-21  15206116098            -86.444336             -88.270263   \n",
              "2022-03-22  16830539230             37.670899             124.115235   \n",
              "2022-03-23  16008767658             75.370850              37.699951   \n",
              "2022-03-24  18070503166             57.915771             -17.455079   \n",
              "2022-03-25  16882068480             78.462647              20.546876   \n",
              "\n",
              "            Open_twelve_deference  \n",
              "Date                               \n",
              "2021-03-26            -328.653687  \n",
              "2021-03-27            -151.050537  \n",
              "2021-03-28             -76.008178  \n",
              "2021-03-29            -115.792968  \n",
              "2021-03-30              -3.692138  \n",
              "...                           ...  \n",
              "2022-03-21             282.937988  \n",
              "2022-03-22             168.657715  \n",
              "2022-03-23             364.873780  \n",
              "2022-03-24             471.400146  \n",
              "2022-03-25             536.035401  \n",
              "\n",
              "[365 rows x 9 columns]"
            ],
            "text/html": [
              "\n",
              "  <div id=\"df-2f63eacf-d285-4316-b440-065a8d2aa607\">\n",
              "    <div class=\"colab-df-container\">\n",
              "      <div>\n",
              "<style scoped>\n",
              "    .dataframe tbody tr th:only-of-type {\n",
              "        vertical-align: middle;\n",
              "    }\n",
              "\n",
              "    .dataframe tbody tr th {\n",
              "        vertical-align: top;\n",
              "    }\n",
              "\n",
              "    .dataframe thead th {\n",
              "        text-align: right;\n",
              "    }\n",
              "</style>\n",
              "<table border=\"1\" class=\"dataframe\">\n",
              "  <thead>\n",
              "    <tr style=\"text-align: right;\">\n",
              "      <th></th>\n",
              "      <th>Open</th>\n",
              "      <th>High</th>\n",
              "      <th>Low</th>\n",
              "      <th>Close</th>\n",
              "      <th>Adj Close</th>\n",
              "      <th>Volume</th>\n",
              "      <th>Open_first_deference</th>\n",
              "      <th>Open_second_deference</th>\n",
              "      <th>Open_twelve_deference</th>\n",
              "    </tr>\n",
              "    <tr>\n",
              "      <th>Date</th>\n",
              "      <th></th>\n",
              "      <th></th>\n",
              "      <th></th>\n",
              "      <th></th>\n",
              "      <th></th>\n",
              "      <th></th>\n",
              "      <th></th>\n",
              "      <th></th>\n",
              "      <th></th>\n",
              "    </tr>\n",
              "  </thead>\n",
              "  <tbody>\n",
              "    <tr>\n",
              "      <th>2021-03-26</th>\n",
              "      <td>1595.210083</td>\n",
              "      <td>1702.922852</td>\n",
              "      <td>1594.736694</td>\n",
              "      <td>1702.842041</td>\n",
              "      <td>1702.842041</td>\n",
              "      <td>22548516548</td>\n",
              "      <td>2.086792</td>\n",
              "      <td>86.966064</td>\n",
              "      <td>-328.653687</td>\n",
              "    </tr>\n",
              "    <tr>\n",
              "      <th>2021-03-27</th>\n",
              "      <td>1703.036133</td>\n",
              "      <td>1732.824341</td>\n",
              "      <td>1674.319336</td>\n",
              "      <td>1716.494629</td>\n",
              "      <td>1716.494629</td>\n",
              "      <td>18102277710</td>\n",
              "      <td>107.826050</td>\n",
              "      <td>105.739258</td>\n",
              "      <td>-151.050537</td>\n",
              "    </tr>\n",
              "    <tr>\n",
              "      <th>2021-03-28</th>\n",
              "      <td>1716.405640</td>\n",
              "      <td>1728.584106</td>\n",
              "      <td>1672.660400</td>\n",
              "      <td>1691.355957</td>\n",
              "      <td>1691.355957</td>\n",
              "      <td>16599472938</td>\n",
              "      <td>13.369507</td>\n",
              "      <td>-94.456543</td>\n",
              "      <td>-76.008178</td>\n",
              "    </tr>\n",
              "    <tr>\n",
              "      <th>2021-03-29</th>\n",
              "      <td>1691.263184</td>\n",
              "      <td>1837.187988</td>\n",
              "      <td>1683.716553</td>\n",
              "      <td>1819.684937</td>\n",
              "      <td>1819.684937</td>\n",
              "      <td>22796570548</td>\n",
              "      <td>-25.142456</td>\n",
              "      <td>-38.511963</td>\n",
              "      <td>-115.792968</td>\n",
              "    </tr>\n",
              "    <tr>\n",
              "      <th>2021-03-30</th>\n",
              "      <td>1819.466309</td>\n",
              "      <td>1860.974731</td>\n",
              "      <td>1793.922363</td>\n",
              "      <td>1846.033691</td>\n",
              "      <td>1846.033691</td>\n",
              "      <td>22512781703</td>\n",
              "      <td>128.203125</td>\n",
              "      <td>153.345581</td>\n",
              "      <td>-3.692138</td>\n",
              "    </tr>\n",
              "    <tr>\n",
              "      <th>...</th>\n",
              "      <td>...</td>\n",
              "      <td>...</td>\n",
              "      <td>...</td>\n",
              "      <td>...</td>\n",
              "      <td>...</td>\n",
              "      <td>...</td>\n",
              "      <td>...</td>\n",
              "      <td>...</td>\n",
              "      <td>...</td>\n",
              "    </tr>\n",
              "    <tr>\n",
              "      <th>2022-03-21</th>\n",
              "      <td>2860.103271</td>\n",
              "      <td>2954.556641</td>\n",
              "      <td>2838.250488</td>\n",
              "      <td>2897.976563</td>\n",
              "      <td>2897.976563</td>\n",
              "      <td>15206116098</td>\n",
              "      <td>-86.444336</td>\n",
              "      <td>-88.270263</td>\n",
              "      <td>282.937988</td>\n",
              "    </tr>\n",
              "    <tr>\n",
              "      <th>2022-03-22</th>\n",
              "      <td>2897.774170</td>\n",
              "      <td>3040.382813</td>\n",
              "      <td>2892.544434</td>\n",
              "      <td>2973.131104</td>\n",
              "      <td>2973.131104</td>\n",
              "      <td>16830539230</td>\n",
              "      <td>37.670899</td>\n",
              "      <td>124.115235</td>\n",
              "      <td>168.657715</td>\n",
              "    </tr>\n",
              "    <tr>\n",
              "      <th>2022-03-23</th>\n",
              "      <td>2973.145020</td>\n",
              "      <td>3036.752197</td>\n",
              "      <td>2933.306641</td>\n",
              "      <td>3031.067139</td>\n",
              "      <td>3031.067139</td>\n",
              "      <td>16008767658</td>\n",
              "      <td>75.370850</td>\n",
              "      <td>37.699951</td>\n",
              "      <td>364.873780</td>\n",
              "    </tr>\n",
              "    <tr>\n",
              "      <th>2022-03-24</th>\n",
              "      <td>3031.060791</td>\n",
              "      <td>3118.387695</td>\n",
              "      <td>3012.326660</td>\n",
              "      <td>3108.062012</td>\n",
              "      <td>3108.062012</td>\n",
              "      <td>18070503166</td>\n",
              "      <td>57.915771</td>\n",
              "      <td>-17.455079</td>\n",
              "      <td>471.400146</td>\n",
              "    </tr>\n",
              "    <tr>\n",
              "      <th>2022-03-25</th>\n",
              "      <td>3109.523438</td>\n",
              "      <td>3182.826660</td>\n",
              "      <td>3097.624268</td>\n",
              "      <td>3122.535889</td>\n",
              "      <td>3122.535889</td>\n",
              "      <td>16882068480</td>\n",
              "      <td>78.462647</td>\n",
              "      <td>20.546876</td>\n",
              "      <td>536.035401</td>\n",
              "    </tr>\n",
              "  </tbody>\n",
              "</table>\n",
              "<p>365 rows × 9 columns</p>\n",
              "</div>\n",
              "      <button class=\"colab-df-convert\" onclick=\"convertToInteractive('df-2f63eacf-d285-4316-b440-065a8d2aa607')\"\n",
              "              title=\"Convert this dataframe to an interactive table.\"\n",
              "              style=\"display:none;\">\n",
              "        \n",
              "  <svg xmlns=\"http://www.w3.org/2000/svg\" height=\"24px\"viewBox=\"0 0 24 24\"\n",
              "       width=\"24px\">\n",
              "    <path d=\"M0 0h24v24H0V0z\" fill=\"none\"/>\n",
              "    <path d=\"M18.56 5.44l.94 2.06.94-2.06 2.06-.94-2.06-.94-.94-2.06-.94 2.06-2.06.94zm-11 1L8.5 8.5l.94-2.06 2.06-.94-2.06-.94L8.5 2.5l-.94 2.06-2.06.94zm10 10l.94 2.06.94-2.06 2.06-.94-2.06-.94-.94-2.06-.94 2.06-2.06.94z\"/><path d=\"M17.41 7.96l-1.37-1.37c-.4-.4-.92-.59-1.43-.59-.52 0-1.04.2-1.43.59L10.3 9.45l-7.72 7.72c-.78.78-.78 2.05 0 2.83L4 21.41c.39.39.9.59 1.41.59.51 0 1.02-.2 1.41-.59l7.78-7.78 2.81-2.81c.8-.78.8-2.07 0-2.86zM5.41 20L4 18.59l7.72-7.72 1.47 1.35L5.41 20z\"/>\n",
              "  </svg>\n",
              "      </button>\n",
              "      \n",
              "  <style>\n",
              "    .colab-df-container {\n",
              "      display:flex;\n",
              "      flex-wrap:wrap;\n",
              "      gap: 12px;\n",
              "    }\n",
              "\n",
              "    .colab-df-convert {\n",
              "      background-color: #E8F0FE;\n",
              "      border: none;\n",
              "      border-radius: 50%;\n",
              "      cursor: pointer;\n",
              "      display: none;\n",
              "      fill: #1967D2;\n",
              "      height: 32px;\n",
              "      padding: 0 0 0 0;\n",
              "      width: 32px;\n",
              "    }\n",
              "\n",
              "    .colab-df-convert:hover {\n",
              "      background-color: #E2EBFA;\n",
              "      box-shadow: 0px 1px 2px rgba(60, 64, 67, 0.3), 0px 1px 3px 1px rgba(60, 64, 67, 0.15);\n",
              "      fill: #174EA6;\n",
              "    }\n",
              "\n",
              "    [theme=dark] .colab-df-convert {\n",
              "      background-color: #3B4455;\n",
              "      fill: #D2E3FC;\n",
              "    }\n",
              "\n",
              "    [theme=dark] .colab-df-convert:hover {\n",
              "      background-color: #434B5C;\n",
              "      box-shadow: 0px 1px 3px 1px rgba(0, 0, 0, 0.15);\n",
              "      filter: drop-shadow(0px 1px 2px rgba(0, 0, 0, 0.3));\n",
              "      fill: #FFFFFF;\n",
              "    }\n",
              "  </style>\n",
              "\n",
              "      <script>\n",
              "        const buttonEl =\n",
              "          document.querySelector('#df-2f63eacf-d285-4316-b440-065a8d2aa607 button.colab-df-convert');\n",
              "        buttonEl.style.display =\n",
              "          google.colab.kernel.accessAllowed ? 'block' : 'none';\n",
              "\n",
              "        async function convertToInteractive(key) {\n",
              "          const element = document.querySelector('#df-2f63eacf-d285-4316-b440-065a8d2aa607');\n",
              "          const dataTable =\n",
              "            await google.colab.kernel.invokeFunction('convertToInteractive',\n",
              "                                                     [key], {});\n",
              "          if (!dataTable) return;\n",
              "\n",
              "          const docLinkHtml = 'Like what you see? Visit the ' +\n",
              "            '<a target=\"_blank\" href=https://colab.research.google.com/notebooks/data_table.ipynb>data table notebook</a>'\n",
              "            + ' to learn more about interactive tables.';\n",
              "          element.innerHTML = '';\n",
              "          dataTable['output_type'] = 'display_data';\n",
              "          await google.colab.output.renderOutput(dataTable, element);\n",
              "          const docLink = document.createElement('div');\n",
              "          docLink.innerHTML = docLinkHtml;\n",
              "          element.appendChild(docLink);\n",
              "        }\n",
              "      </script>\n",
              "    </div>\n",
              "  </div>\n",
              "  "
            ]
          },
          "metadata": {},
          "execution_count": 128
        }
      ]
    },
    {
      "cell_type": "code",
      "source": [
        "## create a ARIMA model\n",
        "from statsmodels.tsa.arima_model import ARIMA"
      ],
      "metadata": {
        "id": "dpq9NzXwNmXF"
      },
      "execution_count": null,
      "outputs": []
    },
    {
      "cell_type": "code",
      "source": [
        "train_data"
      ],
      "metadata": {
        "colab": {
          "base_uri": "https://localhost:8080/",
          "height": 499
        },
        "id": "btpuYzYINmZB",
        "outputId": "c066e608-aca8-4094-e496-6d1dcfd5aef6"
      },
      "execution_count": null,
      "outputs": [
        {
          "output_type": "execute_result",
          "data": {
            "text/plain": [
              "                   Open         High          Low        Close    Adj Close  \\\n",
              "Date                                                                          \n",
              "2017-11-09   308.644989   329.451996   307.056000   320.884003   320.884003   \n",
              "2017-11-10   320.670990   324.717987   294.541992   299.252991   299.252991   \n",
              "2017-11-11   298.585999   319.453003   298.191986   314.681000   314.681000   \n",
              "2017-11-12   314.690002   319.153015   298.513000   307.907990   307.907990   \n",
              "2017-11-13   307.024994   328.415009   307.024994   316.716003   316.716003   \n",
              "...                 ...          ...          ...          ...          ...   \n",
              "2021-03-21  1812.606567  1823.353027  1764.139282  1788.217041  1788.217041   \n",
              "2021-03-22  1788.362183  1811.968262  1674.299805  1691.333984  1691.333984   \n",
              "2021-03-23  1690.871826  1725.108765  1662.539917  1678.650146  1678.650146   \n",
              "2021-03-24  1678.002563  1740.428223  1570.787964  1593.413452  1593.413452   \n",
              "2021-03-25  1593.123291  1625.911499  1560.370483  1595.359253  1595.359253   \n",
              "\n",
              "                 Volume  Open_first_deference  Open_second_deference  \\\n",
              "Date                                                                   \n",
              "2017-11-09    893249984                   NaN                    NaN   \n",
              "2017-11-10    885985984             12.026001                    NaN   \n",
              "2017-11-11    842300992            -22.084991             -34.110992   \n",
              "2017-11-12   1613479936             16.104003              38.188994   \n",
              "2017-11-13   1041889984             -7.665008             -23.769011   \n",
              "...                 ...                   ...                    ...   \n",
              "2021-03-21  22977404620             -4.916138             -39.870117   \n",
              "2021-03-22  23599296129            -24.244384             -19.328246   \n",
              "2021-03-23  21998237965            -97.490357             -73.245973   \n",
              "2021-03-24  31228051473            -12.869263              84.621094   \n",
              "2021-03-25  29650328701            -84.879272             -72.010009   \n",
              "\n",
              "            Open_twelve_deference  \n",
              "Date                               \n",
              "2017-11-09                    NaN  \n",
              "2017-11-10                    NaN  \n",
              "2017-11-11                    NaN  \n",
              "2017-11-12                    NaN  \n",
              "2017-11-13                    NaN  \n",
              "...                           ...  \n",
              "2021-03-21             -22.541504  \n",
              "2021-03-22             -80.126831  \n",
              "2021-03-23            -107.162110  \n",
              "2021-03-24            -148.544190  \n",
              "2021-03-25            -179.043091  \n",
              "\n",
              "[1233 rows x 9 columns]"
            ],
            "text/html": [
              "\n",
              "  <div id=\"df-53f70be6-40b7-419d-b9c3-0d0f9b084845\">\n",
              "    <div class=\"colab-df-container\">\n",
              "      <div>\n",
              "<style scoped>\n",
              "    .dataframe tbody tr th:only-of-type {\n",
              "        vertical-align: middle;\n",
              "    }\n",
              "\n",
              "    .dataframe tbody tr th {\n",
              "        vertical-align: top;\n",
              "    }\n",
              "\n",
              "    .dataframe thead th {\n",
              "        text-align: right;\n",
              "    }\n",
              "</style>\n",
              "<table border=\"1\" class=\"dataframe\">\n",
              "  <thead>\n",
              "    <tr style=\"text-align: right;\">\n",
              "      <th></th>\n",
              "      <th>Open</th>\n",
              "      <th>High</th>\n",
              "      <th>Low</th>\n",
              "      <th>Close</th>\n",
              "      <th>Adj Close</th>\n",
              "      <th>Volume</th>\n",
              "      <th>Open_first_deference</th>\n",
              "      <th>Open_second_deference</th>\n",
              "      <th>Open_twelve_deference</th>\n",
              "    </tr>\n",
              "    <tr>\n",
              "      <th>Date</th>\n",
              "      <th></th>\n",
              "      <th></th>\n",
              "      <th></th>\n",
              "      <th></th>\n",
              "      <th></th>\n",
              "      <th></th>\n",
              "      <th></th>\n",
              "      <th></th>\n",
              "      <th></th>\n",
              "    </tr>\n",
              "  </thead>\n",
              "  <tbody>\n",
              "    <tr>\n",
              "      <th>2017-11-09</th>\n",
              "      <td>308.644989</td>\n",
              "      <td>329.451996</td>\n",
              "      <td>307.056000</td>\n",
              "      <td>320.884003</td>\n",
              "      <td>320.884003</td>\n",
              "      <td>893249984</td>\n",
              "      <td>NaN</td>\n",
              "      <td>NaN</td>\n",
              "      <td>NaN</td>\n",
              "    </tr>\n",
              "    <tr>\n",
              "      <th>2017-11-10</th>\n",
              "      <td>320.670990</td>\n",
              "      <td>324.717987</td>\n",
              "      <td>294.541992</td>\n",
              "      <td>299.252991</td>\n",
              "      <td>299.252991</td>\n",
              "      <td>885985984</td>\n",
              "      <td>12.026001</td>\n",
              "      <td>NaN</td>\n",
              "      <td>NaN</td>\n",
              "    </tr>\n",
              "    <tr>\n",
              "      <th>2017-11-11</th>\n",
              "      <td>298.585999</td>\n",
              "      <td>319.453003</td>\n",
              "      <td>298.191986</td>\n",
              "      <td>314.681000</td>\n",
              "      <td>314.681000</td>\n",
              "      <td>842300992</td>\n",
              "      <td>-22.084991</td>\n",
              "      <td>-34.110992</td>\n",
              "      <td>NaN</td>\n",
              "    </tr>\n",
              "    <tr>\n",
              "      <th>2017-11-12</th>\n",
              "      <td>314.690002</td>\n",
              "      <td>319.153015</td>\n",
              "      <td>298.513000</td>\n",
              "      <td>307.907990</td>\n",
              "      <td>307.907990</td>\n",
              "      <td>1613479936</td>\n",
              "      <td>16.104003</td>\n",
              "      <td>38.188994</td>\n",
              "      <td>NaN</td>\n",
              "    </tr>\n",
              "    <tr>\n",
              "      <th>2017-11-13</th>\n",
              "      <td>307.024994</td>\n",
              "      <td>328.415009</td>\n",
              "      <td>307.024994</td>\n",
              "      <td>316.716003</td>\n",
              "      <td>316.716003</td>\n",
              "      <td>1041889984</td>\n",
              "      <td>-7.665008</td>\n",
              "      <td>-23.769011</td>\n",
              "      <td>NaN</td>\n",
              "    </tr>\n",
              "    <tr>\n",
              "      <th>...</th>\n",
              "      <td>...</td>\n",
              "      <td>...</td>\n",
              "      <td>...</td>\n",
              "      <td>...</td>\n",
              "      <td>...</td>\n",
              "      <td>...</td>\n",
              "      <td>...</td>\n",
              "      <td>...</td>\n",
              "      <td>...</td>\n",
              "    </tr>\n",
              "    <tr>\n",
              "      <th>2021-03-21</th>\n",
              "      <td>1812.606567</td>\n",
              "      <td>1823.353027</td>\n",
              "      <td>1764.139282</td>\n",
              "      <td>1788.217041</td>\n",
              "      <td>1788.217041</td>\n",
              "      <td>22977404620</td>\n",
              "      <td>-4.916138</td>\n",
              "      <td>-39.870117</td>\n",
              "      <td>-22.541504</td>\n",
              "    </tr>\n",
              "    <tr>\n",
              "      <th>2021-03-22</th>\n",
              "      <td>1788.362183</td>\n",
              "      <td>1811.968262</td>\n",
              "      <td>1674.299805</td>\n",
              "      <td>1691.333984</td>\n",
              "      <td>1691.333984</td>\n",
              "      <td>23599296129</td>\n",
              "      <td>-24.244384</td>\n",
              "      <td>-19.328246</td>\n",
              "      <td>-80.126831</td>\n",
              "    </tr>\n",
              "    <tr>\n",
              "      <th>2021-03-23</th>\n",
              "      <td>1690.871826</td>\n",
              "      <td>1725.108765</td>\n",
              "      <td>1662.539917</td>\n",
              "      <td>1678.650146</td>\n",
              "      <td>1678.650146</td>\n",
              "      <td>21998237965</td>\n",
              "      <td>-97.490357</td>\n",
              "      <td>-73.245973</td>\n",
              "      <td>-107.162110</td>\n",
              "    </tr>\n",
              "    <tr>\n",
              "      <th>2021-03-24</th>\n",
              "      <td>1678.002563</td>\n",
              "      <td>1740.428223</td>\n",
              "      <td>1570.787964</td>\n",
              "      <td>1593.413452</td>\n",
              "      <td>1593.413452</td>\n",
              "      <td>31228051473</td>\n",
              "      <td>-12.869263</td>\n",
              "      <td>84.621094</td>\n",
              "      <td>-148.544190</td>\n",
              "    </tr>\n",
              "    <tr>\n",
              "      <th>2021-03-25</th>\n",
              "      <td>1593.123291</td>\n",
              "      <td>1625.911499</td>\n",
              "      <td>1560.370483</td>\n",
              "      <td>1595.359253</td>\n",
              "      <td>1595.359253</td>\n",
              "      <td>29650328701</td>\n",
              "      <td>-84.879272</td>\n",
              "      <td>-72.010009</td>\n",
              "      <td>-179.043091</td>\n",
              "    </tr>\n",
              "  </tbody>\n",
              "</table>\n",
              "<p>1233 rows × 9 columns</p>\n",
              "</div>\n",
              "      <button class=\"colab-df-convert\" onclick=\"convertToInteractive('df-53f70be6-40b7-419d-b9c3-0d0f9b084845')\"\n",
              "              title=\"Convert this dataframe to an interactive table.\"\n",
              "              style=\"display:none;\">\n",
              "        \n",
              "  <svg xmlns=\"http://www.w3.org/2000/svg\" height=\"24px\"viewBox=\"0 0 24 24\"\n",
              "       width=\"24px\">\n",
              "    <path d=\"M0 0h24v24H0V0z\" fill=\"none\"/>\n",
              "    <path d=\"M18.56 5.44l.94 2.06.94-2.06 2.06-.94-2.06-.94-.94-2.06-.94 2.06-2.06.94zm-11 1L8.5 8.5l.94-2.06 2.06-.94-2.06-.94L8.5 2.5l-.94 2.06-2.06.94zm10 10l.94 2.06.94-2.06 2.06-.94-2.06-.94-.94-2.06-.94 2.06-2.06.94z\"/><path d=\"M17.41 7.96l-1.37-1.37c-.4-.4-.92-.59-1.43-.59-.52 0-1.04.2-1.43.59L10.3 9.45l-7.72 7.72c-.78.78-.78 2.05 0 2.83L4 21.41c.39.39.9.59 1.41.59.51 0 1.02-.2 1.41-.59l7.78-7.78 2.81-2.81c.8-.78.8-2.07 0-2.86zM5.41 20L4 18.59l7.72-7.72 1.47 1.35L5.41 20z\"/>\n",
              "  </svg>\n",
              "      </button>\n",
              "      \n",
              "  <style>\n",
              "    .colab-df-container {\n",
              "      display:flex;\n",
              "      flex-wrap:wrap;\n",
              "      gap: 12px;\n",
              "    }\n",
              "\n",
              "    .colab-df-convert {\n",
              "      background-color: #E8F0FE;\n",
              "      border: none;\n",
              "      border-radius: 50%;\n",
              "      cursor: pointer;\n",
              "      display: none;\n",
              "      fill: #1967D2;\n",
              "      height: 32px;\n",
              "      padding: 0 0 0 0;\n",
              "      width: 32px;\n",
              "    }\n",
              "\n",
              "    .colab-df-convert:hover {\n",
              "      background-color: #E2EBFA;\n",
              "      box-shadow: 0px 1px 2px rgba(60, 64, 67, 0.3), 0px 1px 3px 1px rgba(60, 64, 67, 0.15);\n",
              "      fill: #174EA6;\n",
              "    }\n",
              "\n",
              "    [theme=dark] .colab-df-convert {\n",
              "      background-color: #3B4455;\n",
              "      fill: #D2E3FC;\n",
              "    }\n",
              "\n",
              "    [theme=dark] .colab-df-convert:hover {\n",
              "      background-color: #434B5C;\n",
              "      box-shadow: 0px 1px 3px 1px rgba(0, 0, 0, 0.15);\n",
              "      filter: drop-shadow(0px 1px 2px rgba(0, 0, 0, 0.3));\n",
              "      fill: #FFFFFF;\n",
              "    }\n",
              "  </style>\n",
              "\n",
              "      <script>\n",
              "        const buttonEl =\n",
              "          document.querySelector('#df-53f70be6-40b7-419d-b9c3-0d0f9b084845 button.colab-df-convert');\n",
              "        buttonEl.style.display =\n",
              "          google.colab.kernel.accessAllowed ? 'block' : 'none';\n",
              "\n",
              "        async function convertToInteractive(key) {\n",
              "          const element = document.querySelector('#df-53f70be6-40b7-419d-b9c3-0d0f9b084845');\n",
              "          const dataTable =\n",
              "            await google.colab.kernel.invokeFunction('convertToInteractive',\n",
              "                                                     [key], {});\n",
              "          if (!dataTable) return;\n",
              "\n",
              "          const docLinkHtml = 'Like what you see? Visit the ' +\n",
              "            '<a target=\"_blank\" href=https://colab.research.google.com/notebooks/data_table.ipynb>data table notebook</a>'\n",
              "            + ' to learn more about interactive tables.';\n",
              "          element.innerHTML = '';\n",
              "          dataTable['output_type'] = 'display_data';\n",
              "          await google.colab.output.renderOutput(dataTable, element);\n",
              "          const docLink = document.createElement('div');\n",
              "          docLink.innerHTML = docLinkHtml;\n",
              "          element.appendChild(docLink);\n",
              "        }\n",
              "      </script>\n",
              "    </div>\n",
              "  </div>\n",
              "  "
            ]
          },
          "metadata": {},
          "execution_count": 130
        }
      ]
    },
    {
      "cell_type": "code",
      "source": [
        "model_ARIMA=ARIMA(train_data['Open'],order=(2,1,3))"
      ],
      "metadata": {
        "id": "0dQEENtePXAp"
      },
      "execution_count": null,
      "outputs": []
    },
    {
      "cell_type": "code",
      "source": [
        "model_Arima_fit=model_ARIMA.fit()"
      ],
      "metadata": {
        "id": "db7MY-J2PXC9"
      },
      "execution_count": null,
      "outputs": []
    },
    {
      "cell_type": "code",
      "source": [
        "model_Arima_fit.summary()"
      ],
      "metadata": {
        "colab": {
          "base_uri": "https://localhost:8080/",
          "height": 485
        },
        "id": "rgL-0IbbPXFW",
        "outputId": "e58c7ff9-8976-4ad1-9a71-b717035f6585"
      },
      "execution_count": null,
      "outputs": [
        {
          "output_type": "execute_result",
          "data": {
            "text/plain": [
              "<class 'statsmodels.iolib.summary.Summary'>\n",
              "\"\"\"\n",
              "                             ARIMA Model Results                              \n",
              "==============================================================================\n",
              "Dep. Variable:                 D.Open   No. Observations:                 1232\n",
              "Model:                 ARIMA(2, 1, 3)   Log Likelihood               -5996.845\n",
              "Method:                       css-mle   S.D. of innovations             31.450\n",
              "Date:                Fri, 16 Dec 2022   AIC                          12007.689\n",
              "Time:                        09:49:29   BIC                          12043.504\n",
              "Sample:                    11-10-2017   HQIC                         12021.163\n",
              "                         - 03-25-2021                                         \n",
              "================================================================================\n",
              "                   coef    std err          z      P>|z|      [0.025      0.975]\n",
              "--------------------------------------------------------------------------------\n",
              "const            1.0443      0.895      1.167      0.243      -0.710       2.799\n",
              "ar.L1.D.Open     0.4065      0.030     13.372      0.000       0.347       0.466\n",
              "ar.L2.D.Open    -0.8713      0.034    -25.778      0.000      -0.938      -0.805\n",
              "ma.L1.D.Open    -0.4066      0.041     -9.979      0.000      -0.486      -0.327\n",
              "ma.L2.D.Open     0.9509      0.024     39.302      0.000       0.903       0.998\n",
              "ma.L3.D.Open    -0.0809      0.031     -2.579      0.010      -0.142      -0.019\n",
              "                                    Roots                                    \n",
              "=============================================================================\n",
              "                  Real          Imaginary           Modulus         Frequency\n",
              "-----------------------------------------------------------------------------\n",
              "AR.1            0.2333           -1.0456j            1.0713           -0.2151\n",
              "AR.2            0.2333           +1.0456j            1.0713            0.2151\n",
              "MA.1            0.1728           -1.0265j            1.0409           -0.2235\n",
              "MA.2            0.1728           +1.0265j            1.0409            0.2235\n",
              "MA.3           11.4096           -0.0000j           11.4096           -0.0000\n",
              "-----------------------------------------------------------------------------\n",
              "\"\"\""
            ],
            "text/html": [
              "<table class=\"simpletable\">\n",
              "<caption>ARIMA Model Results</caption>\n",
              "<tr>\n",
              "  <th>Dep. Variable:</th>      <td>D.Open</td>      <th>  No. Observations:  </th>   <td>1232</td>   \n",
              "</tr>\n",
              "<tr>\n",
              "  <th>Model:</th>          <td>ARIMA(2, 1, 3)</td>  <th>  Log Likelihood     </th> <td>-5996.845</td>\n",
              "</tr>\n",
              "<tr>\n",
              "  <th>Method:</th>             <td>css-mle</td>     <th>  S.D. of innovations</th>  <td>31.450</td>  \n",
              "</tr>\n",
              "<tr>\n",
              "  <th>Date:</th>          <td>Fri, 16 Dec 2022</td> <th>  AIC                </th> <td>12007.689</td>\n",
              "</tr>\n",
              "<tr>\n",
              "  <th>Time:</th>              <td>09:49:29</td>     <th>  BIC                </th> <td>12043.504</td>\n",
              "</tr>\n",
              "<tr>\n",
              "  <th>Sample:</th>           <td>11-10-2017</td>    <th>  HQIC               </th> <td>12021.163</td>\n",
              "</tr>\n",
              "<tr>\n",
              "  <th></th>                 <td>- 03-25-2021</td>   <th>                     </th>     <td> </td>    \n",
              "</tr>\n",
              "</table>\n",
              "<table class=\"simpletable\">\n",
              "<tr>\n",
              "        <td></td>          <th>coef</th>     <th>std err</th>      <th>z</th>      <th>P>|z|</th>  <th>[0.025</th>    <th>0.975]</th>  \n",
              "</tr>\n",
              "<tr>\n",
              "  <th>const</th>        <td>    1.0443</td> <td>    0.895</td> <td>    1.167</td> <td> 0.243</td> <td>   -0.710</td> <td>    2.799</td>\n",
              "</tr>\n",
              "<tr>\n",
              "  <th>ar.L1.D.Open</th> <td>    0.4065</td> <td>    0.030</td> <td>   13.372</td> <td> 0.000</td> <td>    0.347</td> <td>    0.466</td>\n",
              "</tr>\n",
              "<tr>\n",
              "  <th>ar.L2.D.Open</th> <td>   -0.8713</td> <td>    0.034</td> <td>  -25.778</td> <td> 0.000</td> <td>   -0.938</td> <td>   -0.805</td>\n",
              "</tr>\n",
              "<tr>\n",
              "  <th>ma.L1.D.Open</th> <td>   -0.4066</td> <td>    0.041</td> <td>   -9.979</td> <td> 0.000</td> <td>   -0.486</td> <td>   -0.327</td>\n",
              "</tr>\n",
              "<tr>\n",
              "  <th>ma.L2.D.Open</th> <td>    0.9509</td> <td>    0.024</td> <td>   39.302</td> <td> 0.000</td> <td>    0.903</td> <td>    0.998</td>\n",
              "</tr>\n",
              "<tr>\n",
              "  <th>ma.L3.D.Open</th> <td>   -0.0809</td> <td>    0.031</td> <td>   -2.579</td> <td> 0.010</td> <td>   -0.142</td> <td>   -0.019</td>\n",
              "</tr>\n",
              "</table>\n",
              "<table class=\"simpletable\">\n",
              "<caption>Roots</caption>\n",
              "<tr>\n",
              "    <td></td>   <th>            Real</th>  <th>         Imaginary</th> <th>         Modulus</th>  <th>        Frequency</th>\n",
              "</tr>\n",
              "<tr>\n",
              "  <th>AR.1</th> <td>           0.2333</td> <td>          -1.0456j</td> <td>           1.0713</td> <td>          -0.2151</td>\n",
              "</tr>\n",
              "<tr>\n",
              "  <th>AR.2</th> <td>           0.2333</td> <td>          +1.0456j</td> <td>           1.0713</td> <td>           0.2151</td>\n",
              "</tr>\n",
              "<tr>\n",
              "  <th>MA.1</th> <td>           0.1728</td> <td>          -1.0265j</td> <td>           1.0409</td> <td>          -0.2235</td>\n",
              "</tr>\n",
              "<tr>\n",
              "  <th>MA.2</th> <td>           0.1728</td> <td>          +1.0265j</td> <td>           1.0409</td> <td>           0.2235</td>\n",
              "</tr>\n",
              "<tr>\n",
              "  <th>MA.3</th> <td>          11.4096</td> <td>          -0.0000j</td> <td>          11.4096</td> <td>          -0.0000</td>\n",
              "</tr>\n",
              "</table>"
            ]
          },
          "metadata": {},
          "execution_count": 133
        }
      ]
    },
    {
      "cell_type": "code",
      "source": [
        "##prediction\n",
        "pred_start_date=test_data.index[0]\n",
        "pred_end_date=test_data.index[-1]\n",
        "print(pred_start_date)\n",
        "print(pred_end_date)"
      ],
      "metadata": {
        "colab": {
          "base_uri": "https://localhost:8080/"
        },
        "id": "aEOo387cPXHc",
        "outputId": "f5493937-7fa4-430c-a5de-be05ef8cb70b"
      },
      "execution_count": null,
      "outputs": [
        {
          "output_type": "stream",
          "name": "stdout",
          "text": [
            "2021-03-26 00:00:00\n",
            "2022-03-25 00:00:00\n"
          ]
        }
      ]
    },
    {
      "cell_type": "code",
      "source": [
        "pred=model_Arima_fit.predict(start=pred_start_date,end=pred_end_date)\n",
        "residuals=test_data['Open']-pred"
      ],
      "metadata": {
        "id": "5s--zYOrQpYM"
      },
      "execution_count": null,
      "outputs": []
    },
    {
      "cell_type": "code",
      "source": [
        "pred"
      ],
      "metadata": {
        "colab": {
          "base_uri": "https://localhost:8080/"
        },
        "id": "OOaEeSCXQpa_",
        "outputId": "07cce115-134b-45cd-9eb9-6b615dc2fc8a"
      },
      "execution_count": null,
      "outputs": [
        {
          "output_type": "execute_result",
          "data": {
            "text/plain": [
              "2021-03-26   -1.842566\n",
              "2021-03-27   -0.286402\n",
              "2021-03-28    9.553399\n",
              "2021-03-29    5.662985\n",
              "2021-03-30   -4.492268\n",
              "                ...   \n",
              "2022-03-21    1.044316\n",
              "2022-03-22    1.044316\n",
              "2022-03-23    1.044316\n",
              "2022-03-24    1.044316\n",
              "2022-03-25    1.044316\n",
              "Freq: D, Length: 365, dtype: float64"
            ]
          },
          "metadata": {},
          "execution_count": 136
        }
      ]
    },
    {
      "cell_type": "code",
      "source": [
        "residuals"
      ],
      "metadata": {
        "colab": {
          "base_uri": "https://localhost:8080/"
        },
        "id": "puWiMibHQpeQ",
        "outputId": "b08f7ef5-4923-4728-d9ac-20d6463ef5f7"
      },
      "execution_count": null,
      "outputs": [
        {
          "output_type": "execute_result",
          "data": {
            "text/plain": [
              "Date\n",
              "2021-03-26    1597.052649\n",
              "2021-03-27    1703.322535\n",
              "2021-03-28    1706.852241\n",
              "2021-03-29    1685.600199\n",
              "2021-03-30    1823.958577\n",
              "                 ...     \n",
              "2022-03-21    2859.058955\n",
              "2022-03-22    2896.729854\n",
              "2022-03-23    2972.100704\n",
              "2022-03-24    3030.016475\n",
              "2022-03-25    3108.479122\n",
              "Length: 365, dtype: float64"
            ]
          },
          "metadata": {},
          "execution_count": 137
        }
      ]
    },
    {
      "cell_type": "code",
      "source": [
        "model_Arima_fit.resid.plot(kind='kde')"
      ],
      "metadata": {
        "colab": {
          "base_uri": "https://localhost:8080/",
          "height": 611
        },
        "id": "vfcpKsjOQpha",
        "outputId": "4040a6da-46e0-47b2-c1c1-82aacd963d5c"
      },
      "execution_count": null,
      "outputs": [
        {
          "output_type": "execute_result",
          "data": {
            "text/plain": [
              "<matplotlib.axes._subplots.AxesSubplot at 0x7fb3cac3fb80>"
            ]
          },
          "metadata": {},
          "execution_count": 138
        },
        {
          "output_type": "display_data",
          "data": {
            "text/plain": [
              "<Figure size 1080x720 with 1 Axes>"
            ],
            "image/png": "[encoded data removed]"
          },
          "metadata": {
            "needs_background": "light"
          }
        }
      ]
    },
    {
      "cell_type": "code",
      "source": [
        "test_data['Predicted_ARIMA']=pred"
      ],
      "metadata": {
        "id": "NurZsEYiQzX8"
      },
      "execution_count": null,
      "outputs": []
    },
    {
      "cell_type": "code",
      "source": [
        "test_data[['Open','Predicted_ARIMA']].plot()"
      ],
      "metadata": {
        "colab": {
          "base_uri": "https://localhost:8080/",
          "height": 634
        },
        "id": "E9CqHE6WQzak",
        "outputId": "d0e31142-1b94-4bed-d2c1-4f8492aac7f5"
      },
      "execution_count": null,
      "outputs": [
        {
          "output_type": "execute_result",
          "data": {
            "text/plain": [
              "<matplotlib.axes._subplots.AxesSubplot at 0x7fb3cac9ad60>"
            ]
          },
          "metadata": {},
          "execution_count": 140
        },
        {
          "output_type": "display_data",
          "data": {
            "text/plain": [
              "<Figure size 1080x720 with 1 Axes>"
            ],
            "image/png": "[encoded data removed]"
          },
          "metadata": {
            "needs_background": "light"
          }
        }
      ]
    },
    {
      "cell_type": "code",
      "source": [
        "## create a SARIMA model\n",
        "from statsmodels.tsa.statespace.sarimax import SARIMAX"
      ],
      "metadata": {
        "id": "XtMk1TOtQzdJ"
      },
      "execution_count": null,
      "outputs": []
    },
    {
      "cell_type": "code",
      "source": [
        "model_SARIMA=SARIMAX(train_data['Open'],order=(2,1,3),seasonal_order=(1,1,1,12))"
      ],
      "metadata": {
        "id": "I0GFHRtnQ64R"
      },
      "execution_count": null,
      "outputs": []
    },
    {
      "cell_type": "code",
      "source": [
        "\n",
        "model_SARIMA_fit=model_SARIMA.fit()"
      ],
      "metadata": {
        "id": "LfJ2akH_Q67k"
      },
      "execution_count": null,
      "outputs": []
    },
    {
      "cell_type": "code",
      "source": [
        "model_SARIMA_fit.summary()"
      ],
      "metadata": {
        "colab": {
          "base_uri": "https://localhost:8080/",
          "height": 537
        },
        "id": "tVjNlTgfQ7Cd",
        "outputId": "dc791aaa-5678-4a66-844d-b9829a9c307b"
      },
      "execution_count": null,
      "outputs": [
        {
          "output_type": "execute_result",
          "data": {
            "text/plain": [
              "<class 'statsmodels.iolib.summary.Summary'>\n",
              "\"\"\"\n",
              "                                      SARIMAX Results                                       \n",
              "============================================================================================\n",
              "Dep. Variable:                                 Open   No. Observations:                 1233\n",
              "Model:             SARIMAX(2, 1, 3)x(1, 1, [1], 12)   Log Likelihood               -5991.368\n",
              "Date:                              Fri, 16 Dec 2022   AIC                          11998.736\n",
              "Time:                                      09:56:55   BIC                          12039.589\n",
              "Sample:                                  11-09-2017   HQIC                         12014.113\n",
              "                                       - 03-25-2021                                         \n",
              "Covariance Type:                                opg                                         \n",
              "==============================================================================\n",
              "                 coef    std err          z      P>|z|      [0.025      0.975]\n",
              "------------------------------------------------------------------------------\n",
              "ar.L1          0.0095      3.185      0.003      0.998      -6.233       6.252\n",
              "ar.L2          0.1851      0.991      0.187      0.852      -1.758       2.128\n",
              "ma.L1         -0.0056      3.184     -0.002      0.999      -6.247       6.236\n",
              "ma.L2         -0.1471      0.978     -0.150      0.880      -2.064       1.770\n",
              "ma.L3          0.0091      0.117      0.078      0.938      -0.220       0.239\n",
              "ar.S.L12      -0.0539      0.016     -3.455      0.001      -0.084      -0.023\n",
              "ma.S.L12      -0.9993      0.170     -5.883      0.000      -1.332      -0.666\n",
              "sigma2      1030.8968    166.012      6.210      0.000     705.519    1356.275\n",
              "===================================================================================\n",
              "Ljung-Box (L1) (Q):                   0.00   Jarque-Bera (JB):             10424.60\n",
              "Prob(Q):                              0.99   Prob(JB):                         0.00\n",
              "Heteroskedasticity (H):               1.30   Skew:                            -0.54\n",
              "Prob(H) (two-sided):                  0.01   Kurtosis:                        17.28\n",
              "===================================================================================\n",
              "\n",
              "Warnings:\n",
              "[1] Covariance matrix calculated using the outer product of gradients (complex-step).\n",
              "\"\"\""
            ],
            "text/html": [
              "<table class=\"simpletable\">\n",
              "<caption>SARIMAX Results</caption>\n",
              "<tr>\n",
              "  <th>Dep. Variable:</th>                 <td>Open</td>               <th>  No. Observations:  </th>   <td>1233</td>   \n",
              "</tr>\n",
              "<tr>\n",
              "  <th>Model:</th>           <td>SARIMAX(2, 1, 3)x(1, 1, [1], 12)</td> <th>  Log Likelihood     </th> <td>-5991.368</td>\n",
              "</tr>\n",
              "<tr>\n",
              "  <th>Date:</th>                    <td>Fri, 16 Dec 2022</td>         <th>  AIC                </th> <td>11998.736</td>\n",
              "</tr>\n",
              "<tr>\n",
              "  <th>Time:</th>                        <td>09:56:55</td>             <th>  BIC                </th> <td>12039.589</td>\n",
              "</tr>\n",
              "<tr>\n",
              "  <th>Sample:</th>                     <td>11-09-2017</td>            <th>  HQIC               </th> <td>12014.113</td>\n",
              "</tr>\n",
              "<tr>\n",
              "  <th></th>                           <td>- 03-25-2021</td>           <th>                     </th>     <td> </td>    \n",
              "</tr>\n",
              "<tr>\n",
              "  <th>Covariance Type:</th>                <td>opg</td>               <th>                     </th>     <td> </td>    \n",
              "</tr>\n",
              "</table>\n",
              "<table class=\"simpletable\">\n",
              "<tr>\n",
              "      <td></td>        <th>coef</th>     <th>std err</th>      <th>z</th>      <th>P>|z|</th>  <th>[0.025</th>    <th>0.975]</th>  \n",
              "</tr>\n",
              "<tr>\n",
              "  <th>ar.L1</th>    <td>    0.0095</td> <td>    3.185</td> <td>    0.003</td> <td> 0.998</td> <td>   -6.233</td> <td>    6.252</td>\n",
              "</tr>\n",
              "<tr>\n",
              "  <th>ar.L2</th>    <td>    0.1851</td> <td>    0.991</td> <td>    0.187</td> <td> 0.852</td> <td>   -1.758</td> <td>    2.128</td>\n",
              "</tr>\n",
              "<tr>\n",
              "  <th>ma.L1</th>    <td>   -0.0056</td> <td>    3.184</td> <td>   -0.002</td> <td> 0.999</td> <td>   -6.247</td> <td>    6.236</td>\n",
              "</tr>\n",
              "<tr>\n",
              "  <th>ma.L2</th>    <td>   -0.1471</td> <td>    0.978</td> <td>   -0.150</td> <td> 0.880</td> <td>   -2.064</td> <td>    1.770</td>\n",
              "</tr>\n",
              "<tr>\n",
              "  <th>ma.L3</th>    <td>    0.0091</td> <td>    0.117</td> <td>    0.078</td> <td> 0.938</td> <td>   -0.220</td> <td>    0.239</td>\n",
              "</tr>\n",
              "<tr>\n",
              "  <th>ar.S.L12</th> <td>   -0.0539</td> <td>    0.016</td> <td>   -3.455</td> <td> 0.001</td> <td>   -0.084</td> <td>   -0.023</td>\n",
              "</tr>\n",
              "<tr>\n",
              "  <th>ma.S.L12</th> <td>   -0.9993</td> <td>    0.170</td> <td>   -5.883</td> <td> 0.000</td> <td>   -1.332</td> <td>   -0.666</td>\n",
              "</tr>\n",
              "<tr>\n",
              "  <th>sigma2</th>   <td> 1030.8968</td> <td>  166.012</td> <td>    6.210</td> <td> 0.000</td> <td>  705.519</td> <td> 1356.275</td>\n",
              "</tr>\n",
              "</table>\n",
              "<table class=\"simpletable\">\n",
              "<tr>\n",
              "  <th>Ljung-Box (L1) (Q):</th>     <td>0.00</td> <th>  Jarque-Bera (JB):  </th> <td>10424.60</td>\n",
              "</tr>\n",
              "<tr>\n",
              "  <th>Prob(Q):</th>                <td>0.99</td> <th>  Prob(JB):          </th>   <td>0.00</td>  \n",
              "</tr>\n",
              "<tr>\n",
              "  <th>Heteroskedasticity (H):</th> <td>1.30</td> <th>  Skew:              </th>   <td>-0.54</td> \n",
              "</tr>\n",
              "<tr>\n",
              "  <th>Prob(H) (two-sided):</th>    <td>0.01</td> <th>  Kurtosis:          </th>   <td>17.28</td> \n",
              "</tr>\n",
              "</table><br/><br/>Warnings:<br/>[1] Covariance matrix calculated using the outer product of gradients (complex-step)."
            ]
          },
          "metadata": {},
          "execution_count": 189
        }
      ]
    },
    {
      "cell_type": "code",
      "source": [
        "test_data.tail()"
      ],
      "metadata": {
        "colab": {
          "base_uri": "https://localhost:8080/",
          "height": 388
        },
        "id": "Dsq3zsTZQ7Fk",
        "outputId": "8da562f2-27a2-48da-c62f-5898669e1e4b"
      },
      "execution_count": null,
      "outputs": [
        {
          "output_type": "execute_result",
          "data": {
            "text/plain": [
              "                   Open         High          Low        Close    Adj Close  \\\n",
              "Date                                                                          \n",
              "2022-03-21  2860.103271  2954.556641  2838.250488  2897.976563  2897.976563   \n",
              "2022-03-22  2897.774170  3040.382813  2892.544434  2973.131104  2973.131104   \n",
              "2022-03-23  2973.145020  3036.752197  2933.306641  3031.067139  3031.067139   \n",
              "2022-03-24  3031.060791  3118.387695  3012.326660  3108.062012  3108.062012   \n",
              "2022-03-25  3109.523438  3182.826660  3097.624268  3122.535889  3122.535889   \n",
              "\n",
              "                 Volume  Open_first_deference  Open_second_deference  \\\n",
              "Date                                                                   \n",
              "2022-03-21  15206116098            -86.444336             -88.270263   \n",
              "2022-03-22  16830539230             37.670899             124.115235   \n",
              "2022-03-23  16008767658             75.370850              37.699951   \n",
              "2022-03-24  18070503166             57.915771             -17.455079   \n",
              "2022-03-25  16882068480             78.462647              20.546876   \n",
              "\n",
              "            Open_twelve_deference  Predicted_ARIMA  Predicted_SARIMA  \n",
              "Date                                                                  \n",
              "2022-03-21             282.937988         1.044316       1920.166336  \n",
              "2022-03-22             168.657715         1.044316       1914.551959  \n",
              "2022-03-23             364.873780         1.044316       1919.773401  \n",
              "2022-03-24             471.400146         1.044316       1919.167803  \n",
              "2022-03-25             536.035401         1.044316       1924.002807  "
            ],
            "text/html": [
              "\n",
              "  <div id=\"df-b3c0999a-42a2-4c6e-810d-2aca06018568\">\n",
              "    <div class=\"colab-df-container\">\n",
              "      <div>\n",
              "<style scoped>\n",
              "    .dataframe tbody tr th:only-of-type {\n",
              "        vertical-align: middle;\n",
              "    }\n",
              "\n",
              "    .dataframe tbody tr th {\n",
              "        vertical-align: top;\n",
              "    }\n",
              "\n",
              "    .dataframe thead th {\n",
              "        text-align: right;\n",
              "    }\n",
              "</style>\n",
              "<table border=\"1\" class=\"dataframe\">\n",
              "  <thead>\n",
              "    <tr style=\"text-align: right;\">\n",
              "      <th></th>\n",
              "      <th>Open</th>\n",
              "      <th>High</th>\n",
              "      <th>Low</th>\n",
              "      <th>Close</th>\n",
              "      <th>Adj Close</th>\n",
              "      <th>Volume</th>\n",
              "      <th>Open_first_deference</th>\n",
              "      <th>Open_second_deference</th>\n",
              "      <th>Open_twelve_deference</th>\n",
              "      <th>Predicted_ARIMA</th>\n",
              "      <th>Predicted_SARIMA</th>\n",
              "    </tr>\n",
              "    <tr>\n",
              "      <th>Date</th>\n",
              "      <th></th>\n",
              "      <th></th>\n",
              "      <th></th>\n",
              "      <th></th>\n",
              "      <th></th>\n",
              "      <th></th>\n",
              "      <th></th>\n",
              "      <th></th>\n",
              "      <th></th>\n",
              "      <th></th>\n",
              "      <th></th>\n",
              "    </tr>\n",
              "  </thead>\n",
              "  <tbody>\n",
              "    <tr>\n",
              "      <th>2022-03-21</th>\n",
              "      <td>2860.103271</td>\n",
              "      <td>2954.556641</td>\n",
              "      <td>2838.250488</td>\n",
              "      <td>2897.976563</td>\n",
              "      <td>2897.976563</td>\n",
              "      <td>15206116098</td>\n",
              "      <td>-86.444336</td>\n",
              "      <td>-88.270263</td>\n",
              "      <td>282.937988</td>\n",
              "      <td>1.044316</td>\n",
              "      <td>1920.166336</td>\n",
              "    </tr>\n",
              "    <tr>\n",
              "      <th>2022-03-22</th>\n",
              "      <td>2897.774170</td>\n",
              "      <td>3040.382813</td>\n",
              "      <td>2892.544434</td>\n",
              "      <td>2973.131104</td>\n",
              "      <td>2973.131104</td>\n",
              "      <td>16830539230</td>\n",
              "      <td>37.670899</td>\n",
              "      <td>124.115235</td>\n",
              "      <td>168.657715</td>\n",
              "      <td>1.044316</td>\n",
              "      <td>1914.551959</td>\n",
              "    </tr>\n",
              "    <tr>\n",
              "      <th>2022-03-23</th>\n",
              "      <td>2973.145020</td>\n",
              "      <td>3036.752197</td>\n",
              "      <td>2933.306641</td>\n",
              "      <td>3031.067139</td>\n",
              "      <td>3031.067139</td>\n",
              "      <td>16008767658</td>\n",
              "      <td>75.370850</td>\n",
              "      <td>37.699951</td>\n",
              "      <td>364.873780</td>\n",
              "      <td>1.044316</td>\n",
              "      <td>1919.773401</td>\n",
              "    </tr>\n",
              "    <tr>\n",
              "      <th>2022-03-24</th>\n",
              "      <td>3031.060791</td>\n",
              "      <td>3118.387695</td>\n",
              "      <td>3012.326660</td>\n",
              "      <td>3108.062012</td>\n",
              "      <td>3108.062012</td>\n",
              "      <td>18070503166</td>\n",
              "      <td>57.915771</td>\n",
              "      <td>-17.455079</td>\n",
              "      <td>471.400146</td>\n",
              "      <td>1.044316</td>\n",
              "      <td>1919.167803</td>\n",
              "    </tr>\n",
              "    <tr>\n",
              "      <th>2022-03-25</th>\n",
              "      <td>3109.523438</td>\n",
              "      <td>3182.826660</td>\n",
              "      <td>3097.624268</td>\n",
              "      <td>3122.535889</td>\n",
              "      <td>3122.535889</td>\n",
              "      <td>16882068480</td>\n",
              "      <td>78.462647</td>\n",
              "      <td>20.546876</td>\n",
              "      <td>536.035401</td>\n",
              "      <td>1.044316</td>\n",
              "      <td>1924.002807</td>\n",
              "    </tr>\n",
              "  </tbody>\n",
              "</table>\n",
              "</div>\n",
              "      <button class=\"colab-df-convert\" onclick=\"convertToInteractive('df-b3c0999a-42a2-4c6e-810d-2aca06018568')\"\n",
              "              title=\"Convert this dataframe to an interactive table.\"\n",
              "              style=\"display:none;\">\n",
              "        \n",
              "  <svg xmlns=\"http://www.w3.org/2000/svg\" height=\"24px\"viewBox=\"0 0 24 24\"\n",
              "       width=\"24px\">\n",
              "    <path d=\"M0 0h24v24H0V0z\" fill=\"none\"/>\n",
              "    <path d=\"M18.56 5.44l.94 2.06.94-2.06 2.06-.94-2.06-.94-.94-2.06-.94 2.06-2.06.94zm-11 1L8.5 8.5l.94-2.06 2.06-.94-2.06-.94L8.5 2.5l-.94 2.06-2.06.94zm10 10l.94 2.06.94-2.06 2.06-.94-2.06-.94-.94-2.06-.94 2.06-2.06.94z\"/><path d=\"M17.41 7.96l-1.37-1.37c-.4-.4-.92-.59-1.43-.59-.52 0-1.04.2-1.43.59L10.3 9.45l-7.72 7.72c-.78.78-.78 2.05 0 2.83L4 21.41c.39.39.9.59 1.41.59.51 0 1.02-.2 1.41-.59l7.78-7.78 2.81-2.81c.8-.78.8-2.07 0-2.86zM5.41 20L4 18.59l7.72-7.72 1.47 1.35L5.41 20z\"/>\n",
              "  </svg>\n",
              "      </button>\n",
              "      \n",
              "  <style>\n",
              "    .colab-df-container {\n",
              "      display:flex;\n",
              "      flex-wrap:wrap;\n",
              "      gap: 12px;\n",
              "    }\n",
              "\n",
              "    .colab-df-convert {\n",
              "      background-color: #E8F0FE;\n",
              "      border: none;\n",
              "      border-radius: 50%;\n",
              "      cursor: pointer;\n",
              "      display: none;\n",
              "      fill: #1967D2;\n",
              "      height: 32px;\n",
              "      padding: 0 0 0 0;\n",
              "      width: 32px;\n",
              "    }\n",
              "\n",
              "    .colab-df-convert:hover {\n",
              "      background-color: #E2EBFA;\n",
              "      box-shadow: 0px 1px 2px rgba(60, 64, 67, 0.3), 0px 1px 3px 1px rgba(60, 64, 67, 0.15);\n",
              "      fill: #174EA6;\n",
              "    }\n",
              "\n",
              "    [theme=dark] .colab-df-convert {\n",
              "      background-color: #3B4455;\n",
              "      fill: #D2E3FC;\n",
              "    }\n",
              "\n",
              "    [theme=dark] .colab-df-convert:hover {\n",
              "      background-color: #434B5C;\n",
              "      box-shadow: 0px 1px 3px 1px rgba(0, 0, 0, 0.15);\n",
              "      filter: drop-shadow(0px 1px 2px rgba(0, 0, 0, 0.3));\n",
              "      fill: #FFFFFF;\n",
              "    }\n",
              "  </style>\n",
              "\n",
              "      <script>\n",
              "        const buttonEl =\n",
              "          document.querySelector('#df-b3c0999a-42a2-4c6e-810d-2aca06018568 button.colab-df-convert');\n",
              "        buttonEl.style.display =\n",
              "          google.colab.kernel.accessAllowed ? 'block' : 'none';\n",
              "\n",
              "        async function convertToInteractive(key) {\n",
              "          const element = document.querySelector('#df-b3c0999a-42a2-4c6e-810d-2aca06018568');\n",
              "          const dataTable =\n",
              "            await google.colab.kernel.invokeFunction('convertToInteractive',\n",
              "                                                     [key], {});\n",
              "          if (!dataTable) return;\n",
              "\n",
              "          const docLinkHtml = 'Like what you see? Visit the ' +\n",
              "            '<a target=\"_blank\" href=https://colab.research.google.com/notebooks/data_table.ipynb>data table notebook</a>'\n",
              "            + ' to learn more about interactive tables.';\n",
              "          element.innerHTML = '';\n",
              "          dataTable['output_type'] = 'display_data';\n",
              "          await google.colab.output.renderOutput(dataTable, element);\n",
              "          const docLink = document.createElement('div');\n",
              "          docLink.innerHTML = docLinkHtml;\n",
              "          element.appendChild(docLink);\n",
              "        }\n",
              "      </script>\n",
              "    </div>\n",
              "  </div>\n",
              "  "
            ]
          },
          "metadata": {},
          "execution_count": 190
        }
      ]
    },
    {
      "cell_type": "code",
      "source": [
        "##prediction\n",
        "pred_start_date=test_data.index[0]\n",
        "pred_end_date=test_data.index[-1]\n",
        "print(pred_start_date)\n",
        "print(pred_end_date)"
      ],
      "metadata": {
        "colab": {
          "base_uri": "https://localhost:8080/"
        },
        "id": "yeFZAGDZR6bw",
        "outputId": "6c4b9567-71dc-4bae-e1ab-a62781878f13"
      },
      "execution_count": null,
      "outputs": [
        {
          "output_type": "stream",
          "name": "stdout",
          "text": [
            "2021-03-26 00:00:00\n",
            "2022-03-25 00:00:00\n"
          ]
        }
      ]
    },
    {
      "cell_type": "code",
      "source": [
        "pred_Sarima=model_SARIMA_fit.predict(start=datetime(2018,3,25),end=datetime(2022,3,25))\n",
        "residuals=test_data['Open']-pred_Sarima"
      ],
      "metadata": {
        "id": "KhmmJUdKR6eK"
      },
      "execution_count": null,
      "outputs": []
    },
    {
      "cell_type": "code",
      "source": [
        "model_SARIMA_fit.resid.plot()"
      ],
      "metadata": {
        "colab": {
          "base_uri": "https://localhost:8080/",
          "height": 634
        },
        "id": "LsUQEsXrR6to",
        "outputId": "17f3fc6d-e1ad-4703-9ab1-fe380c4436de"
      },
      "execution_count": null,
      "outputs": [
        {
          "output_type": "execute_result",
          "data": {
            "text/plain": [
              "<matplotlib.axes._subplots.AxesSubplot at 0x7fb3ca5915b0>"
            ]
          },
          "metadata": {},
          "execution_count": 193
        },
        {
          "output_type": "display_data",
          "data": {
            "text/plain": [
              "<Figure size 1080x720 with 1 Axes>"
            ],
            "image/png": "[encoded data removed]"
          },
          "metadata": {
            "needs_background": "light"
          }
        }
      ]
    },
    {
      "cell_type": "code",
      "source": [
        "model_SARIMA_fit.resid.plot(kind='kde')"
      ],
      "metadata": {
        "colab": {
          "base_uri": "https://localhost:8080/",
          "height": 609
        },
        "id": "DwloZPrOR6wp",
        "outputId": "6c611c11-84db-40f8-dc60-4b99c8b6e663"
      },
      "execution_count": null,
      "outputs": [
        {
          "output_type": "execute_result",
          "data": {
            "text/plain": [
              "<matplotlib.axes._subplots.AxesSubplot at 0x7fb3caeb85e0>"
            ]
          },
          "metadata": {},
          "execution_count": 194
        },
        {
          "output_type": "display_data",
          "data": {
            "text/plain": [
              "<Figure size 1080x720 with 1 Axes>"
            ],
            "image/png": "[encoded data removed]"
          },
          "metadata": {
            "needs_background": "light"
          }
        }
      ]
    },
    {
      "cell_type": "code",
      "source": [
        "test_data['Predicted_SARIMA']=pred_Sarima"
      ],
      "metadata": {
        "id": "Nfv5C9OiSMfy"
      },
      "execution_count": null,
      "outputs": []
    },
    {
      "cell_type": "code",
      "source": [
        "test_data"
      ],
      "metadata": {
        "colab": {
          "base_uri": "https://localhost:8080/",
          "height": 693
        },
        "id": "51ncGA9DSMiV",
        "outputId": "1835f309-5a09-45a9-f335-7c7440183bf8"
      },
      "execution_count": null,
      "outputs": [
        {
          "output_type": "execute_result",
          "data": {
            "text/plain": [
              "                   Open         High          Low        Close    Adj Close  \\\n",
              "Date                                                                          \n",
              "2021-03-26  1595.210083  1702.922852  1594.736694  1702.842041  1702.842041   \n",
              "2021-03-27  1703.036133  1732.824341  1674.319336  1716.494629  1716.494629   \n",
              "2021-03-28  1716.405640  1728.584106  1672.660400  1691.355957  1691.355957   \n",
              "2021-03-29  1691.263184  1837.187988  1683.716553  1819.684937  1819.684937   \n",
              "2021-03-30  1819.466309  1860.974731  1793.922363  1846.033691  1846.033691   \n",
              "...                 ...          ...          ...          ...          ...   \n",
              "2022-03-21  2860.103271  2954.556641  2838.250488  2897.976563  2897.976563   \n",
              "2022-03-22  2897.774170  3040.382813  2892.544434  2973.131104  2973.131104   \n",
              "2022-03-23  2973.145020  3036.752197  2933.306641  3031.067139  3031.067139   \n",
              "2022-03-24  3031.060791  3118.387695  3012.326660  3108.062012  3108.062012   \n",
              "2022-03-25  3109.523438  3182.826660  3097.624268  3122.535889  3122.535889   \n",
              "\n",
              "                 Volume  Open_first_deference  Open_second_deference  \\\n",
              "Date                                                                   \n",
              "2021-03-26  22548516548              2.086792              86.966064   \n",
              "2021-03-27  18102277710            107.826050             105.739258   \n",
              "2021-03-28  16599472938             13.369507             -94.456543   \n",
              "2021-03-29  22796570548            -25.142456             -38.511963   \n",
              "2021-03-30  22512781703            128.203125             153.345581   \n",
              "...                 ...                   ...                    ...   \n",
              "2022-03-21  15206116098            -86.444336             -88.270263   \n",
              "2022-03-22  16830539230             37.670899             124.115235   \n",
              "2022-03-23  16008767658             75.370850              37.699951   \n",
              "2022-03-24  18070503166             57.915771             -17.455079   \n",
              "2022-03-25  16882068480             78.462647              20.546876   \n",
              "\n",
              "            Open_twelve_deference  Predicted_ARIMA  Predicted_SARIMA  \n",
              "Date                                                                  \n",
              "2021-03-26            -328.653687        -1.842566       1587.423941  \n",
              "2021-03-27            -151.050537        -0.286402       1584.390389  \n",
              "2021-03-28             -76.008178         9.553399       1589.431591  \n",
              "2021-03-29            -115.792968         5.662985       1590.269148  \n",
              "2021-03-30              -3.692138        -4.492268       1591.697924  \n",
              "...                           ...              ...               ...  \n",
              "2022-03-21             282.937988         1.044316       1975.846845  \n",
              "2022-03-22             168.657715         1.044316       1973.105586  \n",
              "2022-03-23             364.873780         1.044316       1975.811782  \n",
              "2022-03-24             471.400146         1.044316       1978.051692  \n",
              "2022-03-25             536.035401         1.044316       1980.437089  \n",
              "\n",
              "[365 rows x 11 columns]"
            ],
            "text/html": [
              "\n",
              "  <div id=\"df-c2362b33-23ee-4dd9-93d9-442d8dd96d0d\">\n",
              "    <div class=\"colab-df-container\">\n",
              "      <div>\n",
              "<style scoped>\n",
              "    .dataframe tbody tr th:only-of-type {\n",
              "        vertical-align: middle;\n",
              "    }\n",
              "\n",
              "    .dataframe tbody tr th {\n",
              "        vertical-align: top;\n",
              "    }\n",
              "\n",
              "    .dataframe thead th {\n",
              "        text-align: right;\n",
              "    }\n",
              "</style>\n",
              "<table border=\"1\" class=\"dataframe\">\n",
              "  <thead>\n",
              "    <tr style=\"text-align: right;\">\n",
              "      <th></th>\n",
              "      <th>Open</th>\n",
              "      <th>High</th>\n",
              "      <th>Low</th>\n",
              "      <th>Close</th>\n",
              "      <th>Adj Close</th>\n",
              "      <th>Volume</th>\n",
              "      <th>Open_first_deference</th>\n",
              "      <th>Open_second_deference</th>\n",
              "      <th>Open_twelve_deference</th>\n",
              "      <th>Predicted_ARIMA</th>\n",
              "      <th>Predicted_SARIMA</th>\n",
              "    </tr>\n",
              "    <tr>\n",
              "      <th>Date</th>\n",
              "      <th></th>\n",
              "      <th></th>\n",
              "      <th></th>\n",
              "      <th></th>\n",
              "      <th></th>\n",
              "      <th></th>\n",
              "      <th></th>\n",
              "      <th></th>\n",
              "      <th></th>\n",
              "      <th></th>\n",
              "      <th></th>\n",
              "    </tr>\n",
              "  </thead>\n",
              "  <tbody>\n",
              "    <tr>\n",
              "      <th>2021-03-26</th>\n",
              "      <td>1595.210083</td>\n",
              "      <td>1702.922852</td>\n",
              "      <td>1594.736694</td>\n",
              "      <td>1702.842041</td>\n",
              "      <td>1702.842041</td>\n",
              "      <td>22548516548</td>\n",
              "      <td>2.086792</td>\n",
              "      <td>86.966064</td>\n",
              "      <td>-328.653687</td>\n",
              "      <td>-1.842566</td>\n",
              "      <td>1587.423941</td>\n",
              "    </tr>\n",
              "    <tr>\n",
              "      <th>2021-03-27</th>\n",
              "      <td>1703.036133</td>\n",
              "      <td>1732.824341</td>\n",
              "      <td>1674.319336</td>\n",
              "      <td>1716.494629</td>\n",
              "      <td>1716.494629</td>\n",
              "      <td>18102277710</td>\n",
              "      <td>107.826050</td>\n",
              "      <td>105.739258</td>\n",
              "      <td>-151.050537</td>\n",
              "      <td>-0.286402</td>\n",
              "      <td>1584.390389</td>\n",
              "    </tr>\n",
              "    <tr>\n",
              "      <th>2021-03-28</th>\n",
              "      <td>1716.405640</td>\n",
              "      <td>1728.584106</td>\n",
              "      <td>1672.660400</td>\n",
              "      <td>1691.355957</td>\n",
              "      <td>1691.355957</td>\n",
              "      <td>16599472938</td>\n",
              "      <td>13.369507</td>\n",
              "      <td>-94.456543</td>\n",
              "      <td>-76.008178</td>\n",
              "      <td>9.553399</td>\n",
              "      <td>1589.431591</td>\n",
              "    </tr>\n",
              "    <tr>\n",
              "      <th>2021-03-29</th>\n",
              "      <td>1691.263184</td>\n",
              "      <td>1837.187988</td>\n",
              "      <td>1683.716553</td>\n",
              "      <td>1819.684937</td>\n",
              "      <td>1819.684937</td>\n",
              "      <td>22796570548</td>\n",
              "      <td>-25.142456</td>\n",
              "      <td>-38.511963</td>\n",
              "      <td>-115.792968</td>\n",
              "      <td>5.662985</td>\n",
              "      <td>1590.269148</td>\n",
              "    </tr>\n",
              "    <tr>\n",
              "      <th>2021-03-30</th>\n",
              "      <td>1819.466309</td>\n",
              "      <td>1860.974731</td>\n",
              "      <td>1793.922363</td>\n",
              "      <td>1846.033691</td>\n",
              "      <td>1846.033691</td>\n",
              "      <td>22512781703</td>\n",
              "      <td>128.203125</td>\n",
              "      <td>153.345581</td>\n",
              "      <td>-3.692138</td>\n",
              "      <td>-4.492268</td>\n",
              "      <td>1591.697924</td>\n",
              "    </tr>\n",
              "    <tr>\n",
              "      <th>...</th>\n",
              "      <td>...</td>\n",
              "      <td>...</td>\n",
              "      <td>...</td>\n",
              "      <td>...</td>\n",
              "      <td>...</td>\n",
              "      <td>...</td>\n",
              "      <td>...</td>\n",
              "      <td>...</td>\n",
              "      <td>...</td>\n",
              "      <td>...</td>\n",
              "      <td>...</td>\n",
              "    </tr>\n",
              "    <tr>\n",
              "      <th>2022-03-21</th>\n",
              "      <td>2860.103271</td>\n",
              "      <td>2954.556641</td>\n",
              "      <td>2838.250488</td>\n",
              "      <td>2897.976563</td>\n",
              "      <td>2897.976563</td>\n",
              "      <td>15206116098</td>\n",
              "      <td>-86.444336</td>\n",
              "      <td>-88.270263</td>\n",
              "      <td>282.937988</td>\n",
              "      <td>1.044316</td>\n",
              "      <td>1975.846845</td>\n",
              "    </tr>\n",
              "    <tr>\n",
              "      <th>2022-03-22</th>\n",
              "      <td>2897.774170</td>\n",
              "      <td>3040.382813</td>\n",
              "      <td>2892.544434</td>\n",
              "      <td>2973.131104</td>\n",
              "      <td>2973.131104</td>\n",
              "      <td>16830539230</td>\n",
              "      <td>37.670899</td>\n",
              "      <td>124.115235</td>\n",
              "      <td>168.657715</td>\n",
              "      <td>1.044316</td>\n",
              "      <td>1973.105586</td>\n",
              "    </tr>\n",
              "    <tr>\n",
              "      <th>2022-03-23</th>\n",
              "      <td>2973.145020</td>\n",
              "      <td>3036.752197</td>\n",
              "      <td>2933.306641</td>\n",
              "      <td>3031.067139</td>\n",
              "      <td>3031.067139</td>\n",
              "      <td>16008767658</td>\n",
              "      <td>75.370850</td>\n",
              "      <td>37.699951</td>\n",
              "      <td>364.873780</td>\n",
              "      <td>1.044316</td>\n",
              "      <td>1975.811782</td>\n",
              "    </tr>\n",
              "    <tr>\n",
              "      <th>2022-03-24</th>\n",
              "      <td>3031.060791</td>\n",
              "      <td>3118.387695</td>\n",
              "      <td>3012.326660</td>\n",
              "      <td>3108.062012</td>\n",
              "      <td>3108.062012</td>\n",
              "      <td>18070503166</td>\n",
              "      <td>57.915771</td>\n",
              "      <td>-17.455079</td>\n",
              "      <td>471.400146</td>\n",
              "      <td>1.044316</td>\n",
              "      <td>1978.051692</td>\n",
              "    </tr>\n",
              "    <tr>\n",
              "      <th>2022-03-25</th>\n",
              "      <td>3109.523438</td>\n",
              "      <td>3182.826660</td>\n",
              "      <td>3097.624268</td>\n",
              "      <td>3122.535889</td>\n",
              "      <td>3122.535889</td>\n",
              "      <td>16882068480</td>\n",
              "      <td>78.462647</td>\n",
              "      <td>20.546876</td>\n",
              "      <td>536.035401</td>\n",
              "      <td>1.044316</td>\n",
              "      <td>1980.437089</td>\n",
              "    </tr>\n",
              "  </tbody>\n",
              "</table>\n",
              "<p>365 rows × 11 columns</p>\n",
              "</div>\n",
              "      <button class=\"colab-df-convert\" onclick=\"convertToInteractive('df-c2362b33-23ee-4dd9-93d9-442d8dd96d0d')\"\n",
              "              title=\"Convert this dataframe to an interactive table.\"\n",
              "              style=\"display:none;\">\n",
              "        \n",
              "  <svg xmlns=\"http://www.w3.org/2000/svg\" height=\"24px\"viewBox=\"0 0 24 24\"\n",
              "       width=\"24px\">\n",
              "    <path d=\"M0 0h24v24H0V0z\" fill=\"none\"/>\n",
              "    <path d=\"M18.56 5.44l.94 2.06.94-2.06 2.06-.94-2.06-.94-.94-2.06-.94 2.06-2.06.94zm-11 1L8.5 8.5l.94-2.06 2.06-.94-2.06-.94L8.5 2.5l-.94 2.06-2.06.94zm10 10l.94 2.06.94-2.06 2.06-.94-2.06-.94-.94-2.06-.94 2.06-2.06.94z\"/><path d=\"M17.41 7.96l-1.37-1.37c-.4-.4-.92-.59-1.43-.59-.52 0-1.04.2-1.43.59L10.3 9.45l-7.72 7.72c-.78.78-.78 2.05 0 2.83L4 21.41c.39.39.9.59 1.41.59.51 0 1.02-.2 1.41-.59l7.78-7.78 2.81-2.81c.8-.78.8-2.07 0-2.86zM5.41 20L4 18.59l7.72-7.72 1.47 1.35L5.41 20z\"/>\n",
              "  </svg>\n",
              "      </button>\n",
              "      \n",
              "  <style>\n",
              "    .colab-df-container {\n",
              "      display:flex;\n",
              "      flex-wrap:wrap;\n",
              "      gap: 12px;\n",
              "    }\n",
              "\n",
              "    .colab-df-convert {\n",
              "      background-color: #E8F0FE;\n",
              "      border: none;\n",
              "      border-radius: 50%;\n",
              "      cursor: pointer;\n",
              "      display: none;\n",
              "      fill: #1967D2;\n",
              "      height: 32px;\n",
              "      padding: 0 0 0 0;\n",
              "      width: 32px;\n",
              "    }\n",
              "\n",
              "    .colab-df-convert:hover {\n",
              "      background-color: #E2EBFA;\n",
              "      box-shadow: 0px 1px 2px rgba(60, 64, 67, 0.3), 0px 1px 3px 1px rgba(60, 64, 67, 0.15);\n",
              "      fill: #174EA6;\n",
              "    }\n",
              "\n",
              "    [theme=dark] .colab-df-convert {\n",
              "      background-color: #3B4455;\n",
              "      fill: #D2E3FC;\n",
              "    }\n",
              "\n",
              "    [theme=dark] .colab-df-convert:hover {\n",
              "      background-color: #434B5C;\n",
              "      box-shadow: 0px 1px 3px 1px rgba(0, 0, 0, 0.15);\n",
              "      filter: drop-shadow(0px 1px 2px rgba(0, 0, 0, 0.3));\n",
              "      fill: #FFFFFF;\n",
              "    }\n",
              "  </style>\n",
              "\n",
              "      <script>\n",
              "        const buttonEl =\n",
              "          document.querySelector('#df-c2362b33-23ee-4dd9-93d9-442d8dd96d0d button.colab-df-convert');\n",
              "        buttonEl.style.display =\n",
              "          google.colab.kernel.accessAllowed ? 'block' : 'none';\n",
              "\n",
              "        async function convertToInteractive(key) {\n",
              "          const element = document.querySelector('#df-c2362b33-23ee-4dd9-93d9-442d8dd96d0d');\n",
              "          const dataTable =\n",
              "            await google.colab.kernel.invokeFunction('convertToInteractive',\n",
              "                                                     [key], {});\n",
              "          if (!dataTable) return;\n",
              "\n",
              "          const docLinkHtml = 'Like what you see? Visit the ' +\n",
              "            '<a target=\"_blank\" href=https://colab.research.google.com/notebooks/data_table.ipynb>data table notebook</a>'\n",
              "            + ' to learn more about interactive tables.';\n",
              "          element.innerHTML = '';\n",
              "          dataTable['output_type'] = 'display_data';\n",
              "          await google.colab.output.renderOutput(dataTable, element);\n",
              "          const docLink = document.createElement('div');\n",
              "          docLink.innerHTML = docLinkHtml;\n",
              "          element.appendChild(docLink);\n",
              "        }\n",
              "      </script>\n",
              "    </div>\n",
              "  </div>\n",
              "  "
            ]
          },
          "metadata": {},
          "execution_count": 196
        }
      ]
    },
    {
      "cell_type": "code",
      "source": [
        "test_data[['Open','Predicted_SARIMA','Predicted_ARIMA']].plot()"
      ],
      "metadata": {
        "colab": {
          "base_uri": "https://localhost:8080/",
          "height": 634
        },
        "id": "lSs_9iz2SMkt",
        "outputId": "c19119dd-a46e-4e8a-f7df-65eb90666f9d"
      },
      "execution_count": null,
      "outputs": [
        {
          "output_type": "execute_result",
          "data": {
            "text/plain": [
              "<matplotlib.axes._subplots.AxesSubplot at 0x7fb3caaab160>"
            ]
          },
          "metadata": {},
          "execution_count": 197
        },
        {
          "output_type": "display_data",
          "data": {
            "text/plain": [
              "<Figure size 1080x720 with 1 Axes>"
            ],
            "image/png": "[encoded data removed]"
          },
          "metadata": {
            "needs_background": "light"
          }
        }
      ]
    },
    {
      "cell_type": "code",
      "source": [],
      "metadata": {
        "id": "YIMt0mhhSMm0"
      },
      "execution_count": null,
      "outputs": []
    }
  ]
}