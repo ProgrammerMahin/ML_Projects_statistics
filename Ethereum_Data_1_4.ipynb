{
  "nbformat": 4,
  "nbformat_minor": 0,
  "metadata": {
    "colab": {
      "provenance": []
    },
    "kernelspec": {
      "name": "python3",
      "display_name": "Python 3"
    },
    "language_info": {
      "name": "python"
    }
  },
  "cells": [
    {
      "cell_type": "code",
      "execution_count": null,
      "metadata": {
        "id": "BG15Dmh_ab-z"
      },
      "outputs": [],
      "source": [
        "### Data Collection\n",
        "import pandas as pd\n",
        "import numpy as np"
      ]
    },
    {
      "cell_type": "code",
      "source": [
        "df = pd.read_csv('/content/drive/MyDrive/Colab_datasets/ETH-USD.csv')"
      ],
      "metadata": {
        "id": "En6xcJ62anBD"
      },
      "execution_count": null,
      "outputs": []
    },
    {
      "cell_type": "code",
      "source": [
        "df.head()"
      ],
      "metadata": {
        "colab": {
          "base_uri": "https://localhost:8080/",
          "height": 206
        },
        "id": "BMjpHaG8anDo",
        "outputId": "6e785fdb-25cf-4df2-ee61-f6e75144a4b4"
      },
      "execution_count": null,
      "outputs": [
        {
          "output_type": "execute_result",
          "data": {
            "text/plain": [
              "         Date        Open        High         Low       Close   Adj Close  \\\n",
              "0  2017-11-09  308.644989  329.451996  307.056000  320.884003  320.884003   \n",
              "1  2017-11-10  320.670990  324.717987  294.541992  299.252991  299.252991   \n",
              "2  2017-11-11  298.585999  319.453003  298.191986  314.681000  314.681000   \n",
              "3  2017-11-12  314.690002  319.153015  298.513000  307.907990  307.907990   \n",
              "4  2017-11-13  307.024994  328.415009  307.024994  316.716003  316.716003   \n",
              "\n",
              "       Volume  \n",
              "0   893249984  \n",
              "1   885985984  \n",
              "2   842300992  \n",
              "3  1613479936  \n",
              "4  1041889984  "
            ],
            "text/html": [
              "\n",
              "  <div id=\"df-a99e5c25-00af-4269-a523-3be0407368ea\">\n",
              "    <div class=\"colab-df-container\">\n",
              "      <div>\n",
              "<style scoped>\n",
              "    .dataframe tbody tr th:only-of-type {\n",
              "        vertical-align: middle;\n",
              "    }\n",
              "\n",
              "    .dataframe tbody tr th {\n",
              "        vertical-align: top;\n",
              "    }\n",
              "\n",
              "    .dataframe thead th {\n",
              "        text-align: right;\n",
              "    }\n",
              "</style>\n",
              "<table border=\"1\" class=\"dataframe\">\n",
              "  <thead>\n",
              "    <tr style=\"text-align: right;\">\n",
              "      <th></th>\n",
              "      <th>Date</th>\n",
              "      <th>Open</th>\n",
              "      <th>High</th>\n",
              "      <th>Low</th>\n",
              "      <th>Close</th>\n",
              "      <th>Adj Close</th>\n",
              "      <th>Volume</th>\n",
              "    </tr>\n",
              "  </thead>\n",
              "  <tbody>\n",
              "    <tr>\n",
              "      <th>0</th>\n",
              "      <td>2017-11-09</td>\n",
              "      <td>308.644989</td>\n",
              "      <td>329.451996</td>\n",
              "      <td>307.056000</td>\n",
              "      <td>320.884003</td>\n",
              "      <td>320.884003</td>\n",
              "      <td>893249984</td>\n",
              "    </tr>\n",
              "    <tr>\n",
              "      <th>1</th>\n",
              "      <td>2017-11-10</td>\n",
              "      <td>320.670990</td>\n",
              "      <td>324.717987</td>\n",
              "      <td>294.541992</td>\n",
              "      <td>299.252991</td>\n",
              "      <td>299.252991</td>\n",
              "      <td>885985984</td>\n",
              "    </tr>\n",
              "    <tr>\n",
              "      <th>2</th>\n",
              "      <td>2017-11-11</td>\n",
              "      <td>298.585999</td>\n",
              "      <td>319.453003</td>\n",
              "      <td>298.191986</td>\n",
              "      <td>314.681000</td>\n",
              "      <td>314.681000</td>\n",
              "      <td>842300992</td>\n",
              "    </tr>\n",
              "    <tr>\n",
              "      <th>3</th>\n",
              "      <td>2017-11-12</td>\n",
              "      <td>314.690002</td>\n",
              "      <td>319.153015</td>\n",
              "      <td>298.513000</td>\n",
              "      <td>307.907990</td>\n",
              "      <td>307.907990</td>\n",
              "      <td>1613479936</td>\n",
              "    </tr>\n",
              "    <tr>\n",
              "      <th>4</th>\n",
              "      <td>2017-11-13</td>\n",
              "      <td>307.024994</td>\n",
              "      <td>328.415009</td>\n",
              "      <td>307.024994</td>\n",
              "      <td>316.716003</td>\n",
              "      <td>316.716003</td>\n",
              "      <td>1041889984</td>\n",
              "    </tr>\n",
              "  </tbody>\n",
              "</table>\n",
              "</div>\n",
              "      <button class=\"colab-df-convert\" onclick=\"convertToInteractive('df-a99e5c25-00af-4269-a523-3be0407368ea')\"\n",
              "              title=\"Convert this dataframe to an interactive table.\"\n",
              "              style=\"display:none;\">\n",
              "        \n",
              "  <svg xmlns=\"http://www.w3.org/2000/svg\" height=\"24px\"viewBox=\"0 0 24 24\"\n",
              "       width=\"24px\">\n",
              "    <path d=\"M0 0h24v24H0V0z\" fill=\"none\"/>\n",
              "    <path d=\"M18.56 5.44l.94 2.06.94-2.06 2.06-.94-2.06-.94-.94-2.06-.94 2.06-2.06.94zm-11 1L8.5 8.5l.94-2.06 2.06-.94-2.06-.94L8.5 2.5l-.94 2.06-2.06.94zm10 10l.94 2.06.94-2.06 2.06-.94-2.06-.94-.94-2.06-.94 2.06-2.06.94z\"/><path d=\"M17.41 7.96l-1.37-1.37c-.4-.4-.92-.59-1.43-.59-.52 0-1.04.2-1.43.59L10.3 9.45l-7.72 7.72c-.78.78-.78 2.05 0 2.83L4 21.41c.39.39.9.59 1.41.59.51 0 1.02-.2 1.41-.59l7.78-7.78 2.81-2.81c.8-.78.8-2.07 0-2.86zM5.41 20L4 18.59l7.72-7.72 1.47 1.35L5.41 20z\"/>\n",
              "  </svg>\n",
              "      </button>\n",
              "      \n",
              "  <style>\n",
              "    .colab-df-container {\n",
              "      display:flex;\n",
              "      flex-wrap:wrap;\n",
              "      gap: 12px;\n",
              "    }\n",
              "\n",
              "    .colab-df-convert {\n",
              "      background-color: #E8F0FE;\n",
              "      border: none;\n",
              "      border-radius: 50%;\n",
              "      cursor: pointer;\n",
              "      display: none;\n",
              "      fill: #1967D2;\n",
              "      height: 32px;\n",
              "      padding: 0 0 0 0;\n",
              "      width: 32px;\n",
              "    }\n",
              "\n",
              "    .colab-df-convert:hover {\n",
              "      background-color: #E2EBFA;\n",
              "      box-shadow: 0px 1px 2px rgba(60, 64, 67, 0.3), 0px 1px 3px 1px rgba(60, 64, 67, 0.15);\n",
              "      fill: #174EA6;\n",
              "    }\n",
              "\n",
              "    [theme=dark] .colab-df-convert {\n",
              "      background-color: #3B4455;\n",
              "      fill: #D2E3FC;\n",
              "    }\n",
              "\n",
              "    [theme=dark] .colab-df-convert:hover {\n",
              "      background-color: #434B5C;\n",
              "      box-shadow: 0px 1px 3px 1px rgba(0, 0, 0, 0.15);\n",
              "      filter: drop-shadow(0px 1px 2px rgba(0, 0, 0, 0.3));\n",
              "      fill: #FFFFFF;\n",
              "    }\n",
              "  </style>\n",
              "\n",
              "      <script>\n",
              "        const buttonEl =\n",
              "          document.querySelector('#df-a99e5c25-00af-4269-a523-3be0407368ea button.colab-df-convert');\n",
              "        buttonEl.style.display =\n",
              "          google.colab.kernel.accessAllowed ? 'block' : 'none';\n",
              "\n",
              "        async function convertToInteractive(key) {\n",
              "          const element = document.querySelector('#df-a99e5c25-00af-4269-a523-3be0407368ea');\n",
              "          const dataTable =\n",
              "            await google.colab.kernel.invokeFunction('convertToInteractive',\n",
              "                                                     [key], {});\n",
              "          if (!dataTable) return;\n",
              "\n",
              "          const docLinkHtml = 'Like what you see? Visit the ' +\n",
              "            '<a target=\"_blank\" href=https://colab.research.google.com/notebooks/data_table.ipynb>data table notebook</a>'\n",
              "            + ' to learn more about interactive tables.';\n",
              "          element.innerHTML = '';\n",
              "          dataTable['output_type'] = 'display_data';\n",
              "          await google.colab.output.renderOutput(dataTable, element);\n",
              "          const docLink = document.createElement('div');\n",
              "          docLink.innerHTML = docLinkHtml;\n",
              "          element.appendChild(docLink);\n",
              "        }\n",
              "      </script>\n",
              "    </div>\n",
              "  </div>\n",
              "  "
            ]
          },
          "metadata": {},
          "execution_count": 174
        }
      ]
    },
    {
      "cell_type": "code",
      "source": [
        "df1=df.drop(columns=['High','Low' ,'Close', 'Adj Close', 'Volume'], axis = 1)"
      ],
      "metadata": {
        "id": "0RA7zlXaanF9"
      },
      "execution_count": null,
      "outputs": []
    },
    {
      "cell_type": "code",
      "source": [
        "df1.head()"
      ],
      "metadata": {
        "colab": {
          "base_uri": "https://localhost:8080/",
          "height": 206
        },
        "id": "1h7cEG4ranIV",
        "outputId": "dc68149c-f862-4600-b936-cbc7f36cff34"
      },
      "execution_count": null,
      "outputs": [
        {
          "output_type": "execute_result",
          "data": {
            "text/plain": [
              "         Date        Open\n",
              "0  2017-11-09  308.644989\n",
              "1  2017-11-10  320.670990\n",
              "2  2017-11-11  298.585999\n",
              "3  2017-11-12  314.690002\n",
              "4  2017-11-13  307.024994"
            ],
            "text/html": [
              "\n",
              "  <div id=\"df-0111af5b-93c0-42e4-a8c4-074d9951b2d5\">\n",
              "    <div class=\"colab-df-container\">\n",
              "      <div>\n",
              "<style scoped>\n",
              "    .dataframe tbody tr th:only-of-type {\n",
              "        vertical-align: middle;\n",
              "    }\n",
              "\n",
              "    .dataframe tbody tr th {\n",
              "        vertical-align: top;\n",
              "    }\n",
              "\n",
              "    .dataframe thead th {\n",
              "        text-align: right;\n",
              "    }\n",
              "</style>\n",
              "<table border=\"1\" class=\"dataframe\">\n",
              "  <thead>\n",
              "    <tr style=\"text-align: right;\">\n",
              "      <th></th>\n",
              "      <th>Date</th>\n",
              "      <th>Open</th>\n",
              "    </tr>\n",
              "  </thead>\n",
              "  <tbody>\n",
              "    <tr>\n",
              "      <th>0</th>\n",
              "      <td>2017-11-09</td>\n",
              "      <td>308.644989</td>\n",
              "    </tr>\n",
              "    <tr>\n",
              "      <th>1</th>\n",
              "      <td>2017-11-10</td>\n",
              "      <td>320.670990</td>\n",
              "    </tr>\n",
              "    <tr>\n",
              "      <th>2</th>\n",
              "      <td>2017-11-11</td>\n",
              "      <td>298.585999</td>\n",
              "    </tr>\n",
              "    <tr>\n",
              "      <th>3</th>\n",
              "      <td>2017-11-12</td>\n",
              "      <td>314.690002</td>\n",
              "    </tr>\n",
              "    <tr>\n",
              "      <th>4</th>\n",
              "      <td>2017-11-13</td>\n",
              "      <td>307.024994</td>\n",
              "    </tr>\n",
              "  </tbody>\n",
              "</table>\n",
              "</div>\n",
              "      <button class=\"colab-df-convert\" onclick=\"convertToInteractive('df-0111af5b-93c0-42e4-a8c4-074d9951b2d5')\"\n",
              "              title=\"Convert this dataframe to an interactive table.\"\n",
              "              style=\"display:none;\">\n",
              "        \n",
              "  <svg xmlns=\"http://www.w3.org/2000/svg\" height=\"24px\"viewBox=\"0 0 24 24\"\n",
              "       width=\"24px\">\n",
              "    <path d=\"M0 0h24v24H0V0z\" fill=\"none\"/>\n",
              "    <path d=\"M18.56 5.44l.94 2.06.94-2.06 2.06-.94-2.06-.94-.94-2.06-.94 2.06-2.06.94zm-11 1L8.5 8.5l.94-2.06 2.06-.94-2.06-.94L8.5 2.5l-.94 2.06-2.06.94zm10 10l.94 2.06.94-2.06 2.06-.94-2.06-.94-.94-2.06-.94 2.06-2.06.94z\"/><path d=\"M17.41 7.96l-1.37-1.37c-.4-.4-.92-.59-1.43-.59-.52 0-1.04.2-1.43.59L10.3 9.45l-7.72 7.72c-.78.78-.78 2.05 0 2.83L4 21.41c.39.39.9.59 1.41.59.51 0 1.02-.2 1.41-.59l7.78-7.78 2.81-2.81c.8-.78.8-2.07 0-2.86zM5.41 20L4 18.59l7.72-7.72 1.47 1.35L5.41 20z\"/>\n",
              "  </svg>\n",
              "      </button>\n",
              "      \n",
              "  <style>\n",
              "    .colab-df-container {\n",
              "      display:flex;\n",
              "      flex-wrap:wrap;\n",
              "      gap: 12px;\n",
              "    }\n",
              "\n",
              "    .colab-df-convert {\n",
              "      background-color: #E8F0FE;\n",
              "      border: none;\n",
              "      border-radius: 50%;\n",
              "      cursor: pointer;\n",
              "      display: none;\n",
              "      fill: #1967D2;\n",
              "      height: 32px;\n",
              "      padding: 0 0 0 0;\n",
              "      width: 32px;\n",
              "    }\n",
              "\n",
              "    .colab-df-convert:hover {\n",
              "      background-color: #E2EBFA;\n",
              "      box-shadow: 0px 1px 2px rgba(60, 64, 67, 0.3), 0px 1px 3px 1px rgba(60, 64, 67, 0.15);\n",
              "      fill: #174EA6;\n",
              "    }\n",
              "\n",
              "    [theme=dark] .colab-df-convert {\n",
              "      background-color: #3B4455;\n",
              "      fill: #D2E3FC;\n",
              "    }\n",
              "\n",
              "    [theme=dark] .colab-df-convert:hover {\n",
              "      background-color: #434B5C;\n",
              "      box-shadow: 0px 1px 3px 1px rgba(0, 0, 0, 0.15);\n",
              "      filter: drop-shadow(0px 1px 2px rgba(0, 0, 0, 0.3));\n",
              "      fill: #FFFFFF;\n",
              "    }\n",
              "  </style>\n",
              "\n",
              "      <script>\n",
              "        const buttonEl =\n",
              "          document.querySelector('#df-0111af5b-93c0-42e4-a8c4-074d9951b2d5 button.colab-df-convert');\n",
              "        buttonEl.style.display =\n",
              "          google.colab.kernel.accessAllowed ? 'block' : 'none';\n",
              "\n",
              "        async function convertToInteractive(key) {\n",
              "          const element = document.querySelector('#df-0111af5b-93c0-42e4-a8c4-074d9951b2d5');\n",
              "          const dataTable =\n",
              "            await google.colab.kernel.invokeFunction('convertToInteractive',\n",
              "                                                     [key], {});\n",
              "          if (!dataTable) return;\n",
              "\n",
              "          const docLinkHtml = 'Like what you see? Visit the ' +\n",
              "            '<a target=\"_blank\" href=https://colab.research.google.com/notebooks/data_table.ipynb>data table notebook</a>'\n",
              "            + ' to learn more about interactive tables.';\n",
              "          element.innerHTML = '';\n",
              "          dataTable['output_type'] = 'display_data';\n",
              "          await google.colab.output.renderOutput(dataTable, element);\n",
              "          const docLink = document.createElement('div');\n",
              "          docLink.innerHTML = docLinkHtml;\n",
              "          element.appendChild(docLink);\n",
              "        }\n",
              "      </script>\n",
              "    </div>\n",
              "  </div>\n",
              "  "
            ]
          },
          "metadata": {},
          "execution_count": 176
        }
      ]
    },
    {
      "cell_type": "code",
      "source": [
        "df1=df1.set_index('Date')"
      ],
      "metadata": {
        "id": "62soegZKanK8"
      },
      "execution_count": null,
      "outputs": []
    },
    {
      "cell_type": "code",
      "source": [
        "df1"
      ],
      "metadata": {
        "colab": {
          "base_uri": "https://localhost:8080/",
          "height": 455
        },
        "id": "VXpbwBZDd7uR",
        "outputId": "20466472-721e-47fb-8226-68c0fcbd665b"
      },
      "execution_count": null,
      "outputs": [
        {
          "output_type": "execute_result",
          "data": {
            "text/plain": [
              "                   Open\n",
              "Date                   \n",
              "2017-11-09   308.644989\n",
              "2017-11-10   320.670990\n",
              "2017-11-11   298.585999\n",
              "2017-11-12   314.690002\n",
              "2017-11-13   307.024994\n",
              "...                 ...\n",
              "2022-03-21  2860.103271\n",
              "2022-03-22  2897.774170\n",
              "2022-03-23  2973.145020\n",
              "2022-03-24  3031.060791\n",
              "2022-03-25  3109.523438\n",
              "\n",
              "[1598 rows x 1 columns]"
            ],
            "text/html": [
              "\n",
              "  <div id=\"df-0629b27b-ae5b-4ce8-99de-a8ea310d17bb\">\n",
              "    <div class=\"colab-df-container\">\n",
              "      <div>\n",
              "<style scoped>\n",
              "    .dataframe tbody tr th:only-of-type {\n",
              "        vertical-align: middle;\n",
              "    }\n",
              "\n",
              "    .dataframe tbody tr th {\n",
              "        vertical-align: top;\n",
              "    }\n",
              "\n",
              "    .dataframe thead th {\n",
              "        text-align: right;\n",
              "    }\n",
              "</style>\n",
              "<table border=\"1\" class=\"dataframe\">\n",
              "  <thead>\n",
              "    <tr style=\"text-align: right;\">\n",
              "      <th></th>\n",
              "      <th>Open</th>\n",
              "    </tr>\n",
              "    <tr>\n",
              "      <th>Date</th>\n",
              "      <th></th>\n",
              "    </tr>\n",
              "  </thead>\n",
              "  <tbody>\n",
              "    <tr>\n",
              "      <th>2017-11-09</th>\n",
              "      <td>308.644989</td>\n",
              "    </tr>\n",
              "    <tr>\n",
              "      <th>2017-11-10</th>\n",
              "      <td>320.670990</td>\n",
              "    </tr>\n",
              "    <tr>\n",
              "      <th>2017-11-11</th>\n",
              "      <td>298.585999</td>\n",
              "    </tr>\n",
              "    <tr>\n",
              "      <th>2017-11-12</th>\n",
              "      <td>314.690002</td>\n",
              "    </tr>\n",
              "    <tr>\n",
              "      <th>2017-11-13</th>\n",
              "      <td>307.024994</td>\n",
              "    </tr>\n",
              "    <tr>\n",
              "      <th>...</th>\n",
              "      <td>...</td>\n",
              "    </tr>\n",
              "    <tr>\n",
              "      <th>2022-03-21</th>\n",
              "      <td>2860.103271</td>\n",
              "    </tr>\n",
              "    <tr>\n",
              "      <th>2022-03-22</th>\n",
              "      <td>2897.774170</td>\n",
              "    </tr>\n",
              "    <tr>\n",
              "      <th>2022-03-23</th>\n",
              "      <td>2973.145020</td>\n",
              "    </tr>\n",
              "    <tr>\n",
              "      <th>2022-03-24</th>\n",
              "      <td>3031.060791</td>\n",
              "    </tr>\n",
              "    <tr>\n",
              "      <th>2022-03-25</th>\n",
              "      <td>3109.523438</td>\n",
              "    </tr>\n",
              "  </tbody>\n",
              "</table>\n",
              "<p>1598 rows × 1 columns</p>\n",
              "</div>\n",
              "      <button class=\"colab-df-convert\" onclick=\"convertToInteractive('df-0629b27b-ae5b-4ce8-99de-a8ea310d17bb')\"\n",
              "              title=\"Convert this dataframe to an interactive table.\"\n",
              "              style=\"display:none;\">\n",
              "        \n",
              "  <svg xmlns=\"http://www.w3.org/2000/svg\" height=\"24px\"viewBox=\"0 0 24 24\"\n",
              "       width=\"24px\">\n",
              "    <path d=\"M0 0h24v24H0V0z\" fill=\"none\"/>\n",
              "    <path d=\"M18.56 5.44l.94 2.06.94-2.06 2.06-.94-2.06-.94-.94-2.06-.94 2.06-2.06.94zm-11 1L8.5 8.5l.94-2.06 2.06-.94-2.06-.94L8.5 2.5l-.94 2.06-2.06.94zm10 10l.94 2.06.94-2.06 2.06-.94-2.06-.94-.94-2.06-.94 2.06-2.06.94z\"/><path d=\"M17.41 7.96l-1.37-1.37c-.4-.4-.92-.59-1.43-.59-.52 0-1.04.2-1.43.59L10.3 9.45l-7.72 7.72c-.78.78-.78 2.05 0 2.83L4 21.41c.39.39.9.59 1.41.59.51 0 1.02-.2 1.41-.59l7.78-7.78 2.81-2.81c.8-.78.8-2.07 0-2.86zM5.41 20L4 18.59l7.72-7.72 1.47 1.35L5.41 20z\"/>\n",
              "  </svg>\n",
              "      </button>\n",
              "      \n",
              "  <style>\n",
              "    .colab-df-container {\n",
              "      display:flex;\n",
              "      flex-wrap:wrap;\n",
              "      gap: 12px;\n",
              "    }\n",
              "\n",
              "    .colab-df-convert {\n",
              "      background-color: #E8F0FE;\n",
              "      border: none;\n",
              "      border-radius: 50%;\n",
              "      cursor: pointer;\n",
              "      display: none;\n",
              "      fill: #1967D2;\n",
              "      height: 32px;\n",
              "      padding: 0 0 0 0;\n",
              "      width: 32px;\n",
              "    }\n",
              "\n",
              "    .colab-df-convert:hover {\n",
              "      background-color: #E2EBFA;\n",
              "      box-shadow: 0px 1px 2px rgba(60, 64, 67, 0.3), 0px 1px 3px 1px rgba(60, 64, 67, 0.15);\n",
              "      fill: #174EA6;\n",
              "    }\n",
              "\n",
              "    [theme=dark] .colab-df-convert {\n",
              "      background-color: #3B4455;\n",
              "      fill: #D2E3FC;\n",
              "    }\n",
              "\n",
              "    [theme=dark] .colab-df-convert:hover {\n",
              "      background-color: #434B5C;\n",
              "      box-shadow: 0px 1px 3px 1px rgba(0, 0, 0, 0.15);\n",
              "      filter: drop-shadow(0px 1px 2px rgba(0, 0, 0, 0.3));\n",
              "      fill: #FFFFFF;\n",
              "    }\n",
              "  </style>\n",
              "\n",
              "      <script>\n",
              "        const buttonEl =\n",
              "          document.querySelector('#df-0629b27b-ae5b-4ce8-99de-a8ea310d17bb button.colab-df-convert');\n",
              "        buttonEl.style.display =\n",
              "          google.colab.kernel.accessAllowed ? 'block' : 'none';\n",
              "\n",
              "        async function convertToInteractive(key) {\n",
              "          const element = document.querySelector('#df-0629b27b-ae5b-4ce8-99de-a8ea310d17bb');\n",
              "          const dataTable =\n",
              "            await google.colab.kernel.invokeFunction('convertToInteractive',\n",
              "                                                     [key], {});\n",
              "          if (!dataTable) return;\n",
              "\n",
              "          const docLinkHtml = 'Like what you see? Visit the ' +\n",
              "            '<a target=\"_blank\" href=https://colab.research.google.com/notebooks/data_table.ipynb>data table notebook</a>'\n",
              "            + ' to learn more about interactive tables.';\n",
              "          element.innerHTML = '';\n",
              "          dataTable['output_type'] = 'display_data';\n",
              "          await google.colab.output.renderOutput(dataTable, element);\n",
              "          const docLink = document.createElement('div');\n",
              "          docLink.innerHTML = docLinkHtml;\n",
              "          element.appendChild(docLink);\n",
              "        }\n",
              "      </script>\n",
              "    </div>\n",
              "  </div>\n",
              "  "
            ]
          },
          "metadata": {},
          "execution_count": 178
        }
      ]
    },
    {
      "cell_type": "code",
      "source": [
        "df1.plot()"
      ],
      "metadata": {
        "colab": {
          "base_uri": "https://localhost:8080/",
          "height": 298
        },
        "id": "Q8H4eIW3anNo",
        "outputId": "64cf5781-6c77-4f0a-f451-46621c457462"
      },
      "execution_count": null,
      "outputs": [
        {
          "output_type": "execute_result",
          "data": {
            "text/plain": [
              "<matplotlib.axes._subplots.AxesSubplot at 0x7f70cbae3610>"
            ]
          },
          "metadata": {},
          "execution_count": 179
        },
        {
          "output_type": "display_data",
          "data": {
            "text/plain": [
              "<Figure size 432x288 with 1 Axes>"
            ],
            "image/png": "[encoded data removed]"
          },
          "metadata": {
            "needs_background": "light"
          }
        }
      ]
    },
    {
      "cell_type": "markdown",
      "source": [
        "# Feature Creation"
      ],
      "metadata": {
        "id": "Jg8gLr3_dMdF"
      }
    },
    {
      "cell_type": "code",
      "source": [
        "df1.index = pd.to_datetime(df1.index)"
      ],
      "metadata": {
        "id": "xv1OK1N5eY68"
      },
      "execution_count": null,
      "outputs": []
    },
    {
      "cell_type": "code",
      "source": [
        "def create_features(df1):\n",
        "\n",
        "  df1['month'] = df1.index.month\n",
        "  df1['year'] = df1.index.year\n",
        "  df1['dayofyear'] = df1.index.dayofyear\n",
        "  return df1\n",
        "\n"
      ],
      "metadata": {
        "id": "tVBDcIAldPi7"
      },
      "execution_count": null,
      "outputs": []
    },
    {
      "cell_type": "code",
      "source": [
        "df1 = create_features(df1)"
      ],
      "metadata": {
        "id": "cjATrCcPgsFb"
      },
      "execution_count": null,
      "outputs": []
    },
    {
      "cell_type": "code",
      "source": [
        "df1"
      ],
      "metadata": {
        "colab": {
          "base_uri": "https://localhost:8080/",
          "height": 455
        },
        "id": "MlPyyBQ1e8ur",
        "outputId": "88035698-2517-4db5-dfc1-38021ecaec59"
      },
      "execution_count": null,
      "outputs": [
        {
          "output_type": "execute_result",
          "data": {
            "text/plain": [
              "                   Open  month  year  dayofyear\n",
              "Date                                           \n",
              "2017-11-09   308.644989     11  2017        313\n",
              "2017-11-10   320.670990     11  2017        314\n",
              "2017-11-11   298.585999     11  2017        315\n",
              "2017-11-12   314.690002     11  2017        316\n",
              "2017-11-13   307.024994     11  2017        317\n",
              "...                 ...    ...   ...        ...\n",
              "2022-03-21  2860.103271      3  2022         80\n",
              "2022-03-22  2897.774170      3  2022         81\n",
              "2022-03-23  2973.145020      3  2022         82\n",
              "2022-03-24  3031.060791      3  2022         83\n",
              "2022-03-25  3109.523438      3  2022         84\n",
              "\n",
              "[1598 rows x 4 columns]"
            ],
            "text/html": [
              "\n",
              "  <div id=\"df-553240ee-8b6e-4d0a-897f-8199aea0d2ff\">\n",
              "    <div class=\"colab-df-container\">\n",
              "      <div>\n",
              "<style scoped>\n",
              "    .dataframe tbody tr th:only-of-type {\n",
              "        vertical-align: middle;\n",
              "    }\n",
              "\n",
              "    .dataframe tbody tr th {\n",
              "        vertical-align: top;\n",
              "    }\n",
              "\n",
              "    .dataframe thead th {\n",
              "        text-align: right;\n",
              "    }\n",
              "</style>\n",
              "<table border=\"1\" class=\"dataframe\">\n",
              "  <thead>\n",
              "    <tr style=\"text-align: right;\">\n",
              "      <th></th>\n",
              "      <th>Open</th>\n",
              "      <th>month</th>\n",
              "      <th>year</th>\n",
              "      <th>dayofyear</th>\n",
              "    </tr>\n",
              "    <tr>\n",
              "      <th>Date</th>\n",
              "      <th></th>\n",
              "      <th></th>\n",
              "      <th></th>\n",
              "      <th></th>\n",
              "    </tr>\n",
              "  </thead>\n",
              "  <tbody>\n",
              "    <tr>\n",
              "      <th>2017-11-09</th>\n",
              "      <td>308.644989</td>\n",
              "      <td>11</td>\n",
              "      <td>2017</td>\n",
              "      <td>313</td>\n",
              "    </tr>\n",
              "    <tr>\n",
              "      <th>2017-11-10</th>\n",
              "      <td>320.670990</td>\n",
              "      <td>11</td>\n",
              "      <td>2017</td>\n",
              "      <td>314</td>\n",
              "    </tr>\n",
              "    <tr>\n",
              "      <th>2017-11-11</th>\n",
              "      <td>298.585999</td>\n",
              "      <td>11</td>\n",
              "      <td>2017</td>\n",
              "      <td>315</td>\n",
              "    </tr>\n",
              "    <tr>\n",
              "      <th>2017-11-12</th>\n",
              "      <td>314.690002</td>\n",
              "      <td>11</td>\n",
              "      <td>2017</td>\n",
              "      <td>316</td>\n",
              "    </tr>\n",
              "    <tr>\n",
              "      <th>2017-11-13</th>\n",
              "      <td>307.024994</td>\n",
              "      <td>11</td>\n",
              "      <td>2017</td>\n",
              "      <td>317</td>\n",
              "    </tr>\n",
              "    <tr>\n",
              "      <th>...</th>\n",
              "      <td>...</td>\n",
              "      <td>...</td>\n",
              "      <td>...</td>\n",
              "      <td>...</td>\n",
              "    </tr>\n",
              "    <tr>\n",
              "      <th>2022-03-21</th>\n",
              "      <td>2860.103271</td>\n",
              "      <td>3</td>\n",
              "      <td>2022</td>\n",
              "      <td>80</td>\n",
              "    </tr>\n",
              "    <tr>\n",
              "      <th>2022-03-22</th>\n",
              "      <td>2897.774170</td>\n",
              "      <td>3</td>\n",
              "      <td>2022</td>\n",
              "      <td>81</td>\n",
              "    </tr>\n",
              "    <tr>\n",
              "      <th>2022-03-23</th>\n",
              "      <td>2973.145020</td>\n",
              "      <td>3</td>\n",
              "      <td>2022</td>\n",
              "      <td>82</td>\n",
              "    </tr>\n",
              "    <tr>\n",
              "      <th>2022-03-24</th>\n",
              "      <td>3031.060791</td>\n",
              "      <td>3</td>\n",
              "      <td>2022</td>\n",
              "      <td>83</td>\n",
              "    </tr>\n",
              "    <tr>\n",
              "      <th>2022-03-25</th>\n",
              "      <td>3109.523438</td>\n",
              "      <td>3</td>\n",
              "      <td>2022</td>\n",
              "      <td>84</td>\n",
              "    </tr>\n",
              "  </tbody>\n",
              "</table>\n",
              "<p>1598 rows × 4 columns</p>\n",
              "</div>\n",
              "      <button class=\"colab-df-convert\" onclick=\"convertToInteractive('df-553240ee-8b6e-4d0a-897f-8199aea0d2ff')\"\n",
              "              title=\"Convert this dataframe to an interactive table.\"\n",
              "              style=\"display:none;\">\n",
              "        \n",
              "  <svg xmlns=\"http://www.w3.org/2000/svg\" height=\"24px\"viewBox=\"0 0 24 24\"\n",
              "       width=\"24px\">\n",
              "    <path d=\"M0 0h24v24H0V0z\" fill=\"none\"/>\n",
              "    <path d=\"M18.56 5.44l.94 2.06.94-2.06 2.06-.94-2.06-.94-.94-2.06-.94 2.06-2.06.94zm-11 1L8.5 8.5l.94-2.06 2.06-.94-2.06-.94L8.5 2.5l-.94 2.06-2.06.94zm10 10l.94 2.06.94-2.06 2.06-.94-2.06-.94-.94-2.06-.94 2.06-2.06.94z\"/><path d=\"M17.41 7.96l-1.37-1.37c-.4-.4-.92-.59-1.43-.59-.52 0-1.04.2-1.43.59L10.3 9.45l-7.72 7.72c-.78.78-.78 2.05 0 2.83L4 21.41c.39.39.9.59 1.41.59.51 0 1.02-.2 1.41-.59l7.78-7.78 2.81-2.81c.8-.78.8-2.07 0-2.86zM5.41 20L4 18.59l7.72-7.72 1.47 1.35L5.41 20z\"/>\n",
              "  </svg>\n",
              "      </button>\n",
              "      \n",
              "  <style>\n",
              "    .colab-df-container {\n",
              "      display:flex;\n",
              "      flex-wrap:wrap;\n",
              "      gap: 12px;\n",
              "    }\n",
              "\n",
              "    .colab-df-convert {\n",
              "      background-color: #E8F0FE;\n",
              "      border: none;\n",
              "      border-radius: 50%;\n",
              "      cursor: pointer;\n",
              "      display: none;\n",
              "      fill: #1967D2;\n",
              "      height: 32px;\n",
              "      padding: 0 0 0 0;\n",
              "      width: 32px;\n",
              "    }\n",
              "\n",
              "    .colab-df-convert:hover {\n",
              "      background-color: #E2EBFA;\n",
              "      box-shadow: 0px 1px 2px rgba(60, 64, 67, 0.3), 0px 1px 3px 1px rgba(60, 64, 67, 0.15);\n",
              "      fill: #174EA6;\n",
              "    }\n",
              "\n",
              "    [theme=dark] .colab-df-convert {\n",
              "      background-color: #3B4455;\n",
              "      fill: #D2E3FC;\n",
              "    }\n",
              "\n",
              "    [theme=dark] .colab-df-convert:hover {\n",
              "      background-color: #434B5C;\n",
              "      box-shadow: 0px 1px 3px 1px rgba(0, 0, 0, 0.15);\n",
              "      filter: drop-shadow(0px 1px 2px rgba(0, 0, 0, 0.3));\n",
              "      fill: #FFFFFF;\n",
              "    }\n",
              "  </style>\n",
              "\n",
              "      <script>\n",
              "        const buttonEl =\n",
              "          document.querySelector('#df-553240ee-8b6e-4d0a-897f-8199aea0d2ff button.colab-df-convert');\n",
              "        buttonEl.style.display =\n",
              "          google.colab.kernel.accessAllowed ? 'block' : 'none';\n",
              "\n",
              "        async function convertToInteractive(key) {\n",
              "          const element = document.querySelector('#df-553240ee-8b6e-4d0a-897f-8199aea0d2ff');\n",
              "          const dataTable =\n",
              "            await google.colab.kernel.invokeFunction('convertToInteractive',\n",
              "                                                     [key], {});\n",
              "          if (!dataTable) return;\n",
              "\n",
              "          const docLinkHtml = 'Like what you see? Visit the ' +\n",
              "            '<a target=\"_blank\" href=https://colab.research.google.com/notebooks/data_table.ipynb>data table notebook</a>'\n",
              "            + ' to learn more about interactive tables.';\n",
              "          element.innerHTML = '';\n",
              "          dataTable['output_type'] = 'display_data';\n",
              "          await google.colab.output.renderOutput(dataTable, element);\n",
              "          const docLink = document.createElement('div');\n",
              "          docLink.innerHTML = docLinkHtml;\n",
              "          element.appendChild(docLink);\n",
              "        }\n",
              "      </script>\n",
              "    </div>\n",
              "  </div>\n",
              "  "
            ]
          },
          "metadata": {},
          "execution_count": 183
        }
      ]
    },
    {
      "cell_type": "code",
      "source": [
        "import xgboost as xgb\n",
        "from sklearn.metrics import mean_squared_error"
      ],
      "metadata": {
        "id": "Wdd84E7sffJu"
      },
      "execution_count": null,
      "outputs": []
    },
    {
      "cell_type": "markdown",
      "source": [
        "# train_test"
      ],
      "metadata": {
        "id": "jswe3irmftlR"
      }
    },
    {
      "cell_type": "code",
      "source": [
        "df1 = df1.reset_index('Date')"
      ],
      "metadata": {
        "id": "iKMdD_Xrj0KT"
      },
      "execution_count": null,
      "outputs": []
    },
    {
      "cell_type": "code",
      "source": [
        "train = df1.iloc[:-200]\n",
        "test = df1.iloc[-200:]"
      ],
      "metadata": {
        "id": "pUHOzeOVgIRx"
      },
      "execution_count": null,
      "outputs": []
    },
    {
      "cell_type": "code",
      "source": [
        "train.shape"
      ],
      "metadata": {
        "colab": {
          "base_uri": "https://localhost:8080/"
        },
        "id": "mEnO41-rhk2y",
        "outputId": "5ede7c14-ee86-4472-d7ed-eb874e1596ea"
      },
      "execution_count": null,
      "outputs": [
        {
          "output_type": "execute_result",
          "data": {
            "text/plain": [
              "(1398, 5)"
            ]
          },
          "metadata": {},
          "execution_count": 187
        }
      ]
    },
    {
      "cell_type": "code",
      "source": [
        "test.shape"
      ],
      "metadata": {
        "colab": {
          "base_uri": "https://localhost:8080/"
        },
        "id": "tuNkHchOhn9P",
        "outputId": "ee53858b-60e2-4e30-9e7c-9813bac6a163"
      },
      "execution_count": null,
      "outputs": [
        {
          "output_type": "execute_result",
          "data": {
            "text/plain": [
              "(200, 5)"
            ]
          },
          "metadata": {},
          "execution_count": 188
        }
      ]
    },
    {
      "cell_type": "code",
      "source": [
        "train"
      ],
      "metadata": {
        "colab": {
          "base_uri": "https://localhost:8080/",
          "height": 424
        },
        "id": "h-jaJ_OJh0u6",
        "outputId": "563a84e7-e1e9-4989-fdd4-4f17bd1bd2ef"
      },
      "execution_count": null,
      "outputs": [
        {
          "output_type": "execute_result",
          "data": {
            "text/plain": [
              "           Date         Open  month  year  dayofyear\n",
              "0    2017-11-09   308.644989     11  2017        313\n",
              "1    2017-11-10   320.670990     11  2017        314\n",
              "2    2017-11-11   298.585999     11  2017        315\n",
              "3    2017-11-12   314.690002     11  2017        316\n",
              "4    2017-11-13   307.024994     11  2017        317\n",
              "...         ...          ...    ...   ...        ...\n",
              "1393 2021-09-02  3825.027832      9  2021        245\n",
              "1394 2021-09-03  3787.486572      9  2021        246\n",
              "1395 2021-09-04  3937.910156      9  2021        247\n",
              "1396 2021-09-05  3886.331055      9  2021        248\n",
              "1397 2021-09-06  3951.520752      9  2021        249\n",
              "\n",
              "[1398 rows x 5 columns]"
            ],
            "text/html": [
              "\n",
              "  <div id=\"df-6b5af500-3b62-4edd-9ef4-cbfee0d17242\">\n",
              "    <div class=\"colab-df-container\">\n",
              "      <div>\n",
              "<style scoped>\n",
              "    .dataframe tbody tr th:only-of-type {\n",
              "        vertical-align: middle;\n",
              "    }\n",
              "\n",
              "    .dataframe tbody tr th {\n",
              "        vertical-align: top;\n",
              "    }\n",
              "\n",
              "    .dataframe thead th {\n",
              "        text-align: right;\n",
              "    }\n",
              "</style>\n",
              "<table border=\"1\" class=\"dataframe\">\n",
              "  <thead>\n",
              "    <tr style=\"text-align: right;\">\n",
              "      <th></th>\n",
              "      <th>Date</th>\n",
              "      <th>Open</th>\n",
              "      <th>month</th>\n",
              "      <th>year</th>\n",
              "      <th>dayofyear</th>\n",
              "    </tr>\n",
              "  </thead>\n",
              "  <tbody>\n",
              "    <tr>\n",
              "      <th>0</th>\n",
              "      <td>2017-11-09</td>\n",
              "      <td>308.644989</td>\n",
              "      <td>11</td>\n",
              "      <td>2017</td>\n",
              "      <td>313</td>\n",
              "    </tr>\n",
              "    <tr>\n",
              "      <th>1</th>\n",
              "      <td>2017-11-10</td>\n",
              "      <td>320.670990</td>\n",
              "      <td>11</td>\n",
              "      <td>2017</td>\n",
              "      <td>314</td>\n",
              "    </tr>\n",
              "    <tr>\n",
              "      <th>2</th>\n",
              "      <td>2017-11-11</td>\n",
              "      <td>298.585999</td>\n",
              "      <td>11</td>\n",
              "      <td>2017</td>\n",
              "      <td>315</td>\n",
              "    </tr>\n",
              "    <tr>\n",
              "      <th>3</th>\n",
              "      <td>2017-11-12</td>\n",
              "      <td>314.690002</td>\n",
              "      <td>11</td>\n",
              "      <td>2017</td>\n",
              "      <td>316</td>\n",
              "    </tr>\n",
              "    <tr>\n",
              "      <th>4</th>\n",
              "      <td>2017-11-13</td>\n",
              "      <td>307.024994</td>\n",
              "      <td>11</td>\n",
              "      <td>2017</td>\n",
              "      <td>317</td>\n",
              "    </tr>\n",
              "    <tr>\n",
              "      <th>...</th>\n",
              "      <td>...</td>\n",
              "      <td>...</td>\n",
              "      <td>...</td>\n",
              "      <td>...</td>\n",
              "      <td>...</td>\n",
              "    </tr>\n",
              "    <tr>\n",
              "      <th>1393</th>\n",
              "      <td>2021-09-02</td>\n",
              "      <td>3825.027832</td>\n",
              "      <td>9</td>\n",
              "      <td>2021</td>\n",
              "      <td>245</td>\n",
              "    </tr>\n",
              "    <tr>\n",
              "      <th>1394</th>\n",
              "      <td>2021-09-03</td>\n",
              "      <td>3787.486572</td>\n",
              "      <td>9</td>\n",
              "      <td>2021</td>\n",
              "      <td>246</td>\n",
              "    </tr>\n",
              "    <tr>\n",
              "      <th>1395</th>\n",
              "      <td>2021-09-04</td>\n",
              "      <td>3937.910156</td>\n",
              "      <td>9</td>\n",
              "      <td>2021</td>\n",
              "      <td>247</td>\n",
              "    </tr>\n",
              "    <tr>\n",
              "      <th>1396</th>\n",
              "      <td>2021-09-05</td>\n",
              "      <td>3886.331055</td>\n",
              "      <td>9</td>\n",
              "      <td>2021</td>\n",
              "      <td>248</td>\n",
              "    </tr>\n",
              "    <tr>\n",
              "      <th>1397</th>\n",
              "      <td>2021-09-06</td>\n",
              "      <td>3951.520752</td>\n",
              "      <td>9</td>\n",
              "      <td>2021</td>\n",
              "      <td>249</td>\n",
              "    </tr>\n",
              "  </tbody>\n",
              "</table>\n",
              "<p>1398 rows × 5 columns</p>\n",
              "</div>\n",
              "      <button class=\"colab-df-convert\" onclick=\"convertToInteractive('df-6b5af500-3b62-4edd-9ef4-cbfee0d17242')\"\n",
              "              title=\"Convert this dataframe to an interactive table.\"\n",
              "              style=\"display:none;\">\n",
              "        \n",
              "  <svg xmlns=\"http://www.w3.org/2000/svg\" height=\"24px\"viewBox=\"0 0 24 24\"\n",
              "       width=\"24px\">\n",
              "    <path d=\"M0 0h24v24H0V0z\" fill=\"none\"/>\n",
              "    <path d=\"M18.56 5.44l.94 2.06.94-2.06 2.06-.94-2.06-.94-.94-2.06-.94 2.06-2.06.94zm-11 1L8.5 8.5l.94-2.06 2.06-.94-2.06-.94L8.5 2.5l-.94 2.06-2.06.94zm10 10l.94 2.06.94-2.06 2.06-.94-2.06-.94-.94-2.06-.94 2.06-2.06.94z\"/><path d=\"M17.41 7.96l-1.37-1.37c-.4-.4-.92-.59-1.43-.59-.52 0-1.04.2-1.43.59L10.3 9.45l-7.72 7.72c-.78.78-.78 2.05 0 2.83L4 21.41c.39.39.9.59 1.41.59.51 0 1.02-.2 1.41-.59l7.78-7.78 2.81-2.81c.8-.78.8-2.07 0-2.86zM5.41 20L4 18.59l7.72-7.72 1.47 1.35L5.41 20z\"/>\n",
              "  </svg>\n",
              "      </button>\n",
              "      \n",
              "  <style>\n",
              "    .colab-df-container {\n",
              "      display:flex;\n",
              "      flex-wrap:wrap;\n",
              "      gap: 12px;\n",
              "    }\n",
              "\n",
              "    .colab-df-convert {\n",
              "      background-color: #E8F0FE;\n",
              "      border: none;\n",
              "      border-radius: 50%;\n",
              "      cursor: pointer;\n",
              "      display: none;\n",
              "      fill: #1967D2;\n",
              "      height: 32px;\n",
              "      padding: 0 0 0 0;\n",
              "      width: 32px;\n",
              "    }\n",
              "\n",
              "    .colab-df-convert:hover {\n",
              "      background-color: #E2EBFA;\n",
              "      box-shadow: 0px 1px 2px rgba(60, 64, 67, 0.3), 0px 1px 3px 1px rgba(60, 64, 67, 0.15);\n",
              "      fill: #174EA6;\n",
              "    }\n",
              "\n",
              "    [theme=dark] .colab-df-convert {\n",
              "      background-color: #3B4455;\n",
              "      fill: #D2E3FC;\n",
              "    }\n",
              "\n",
              "    [theme=dark] .colab-df-convert:hover {\n",
              "      background-color: #434B5C;\n",
              "      box-shadow: 0px 1px 3px 1px rgba(0, 0, 0, 0.15);\n",
              "      filter: drop-shadow(0px 1px 2px rgba(0, 0, 0, 0.3));\n",
              "      fill: #FFFFFF;\n",
              "    }\n",
              "  </style>\n",
              "\n",
              "      <script>\n",
              "        const buttonEl =\n",
              "          document.querySelector('#df-6b5af500-3b62-4edd-9ef4-cbfee0d17242 button.colab-df-convert');\n",
              "        buttonEl.style.display =\n",
              "          google.colab.kernel.accessAllowed ? 'block' : 'none';\n",
              "\n",
              "        async function convertToInteractive(key) {\n",
              "          const element = document.querySelector('#df-6b5af500-3b62-4edd-9ef4-cbfee0d17242');\n",
              "          const dataTable =\n",
              "            await google.colab.kernel.invokeFunction('convertToInteractive',\n",
              "                                                     [key], {});\n",
              "          if (!dataTable) return;\n",
              "\n",
              "          const docLinkHtml = 'Like what you see? Visit the ' +\n",
              "            '<a target=\"_blank\" href=https://colab.research.google.com/notebooks/data_table.ipynb>data table notebook</a>'\n",
              "            + ' to learn more about interactive tables.';\n",
              "          element.innerHTML = '';\n",
              "          dataTable['output_type'] = 'display_data';\n",
              "          await google.colab.output.renderOutput(dataTable, element);\n",
              "          const docLink = document.createElement('div');\n",
              "          docLink.innerHTML = docLinkHtml;\n",
              "          element.appendChild(docLink);\n",
              "        }\n",
              "      </script>\n",
              "    </div>\n",
              "  </div>\n",
              "  "
            ]
          },
          "metadata": {},
          "execution_count": 189
        }
      ]
    },
    {
      "cell_type": "code",
      "source": [
        "Features =['month', 'year', 'dayofyear']\n",
        "Target = ['Open']"
      ],
      "metadata": {
        "id": "tO4RvpIEiBSq"
      },
      "execution_count": null,
      "outputs": []
    },
    {
      "cell_type": "code",
      "source": [
        "X_train = train[Features]\n",
        "Y_train = train[Target]\n",
        "X_test = test[Features]\n",
        "Y_test = test[Target]"
      ],
      "metadata": {
        "id": "8WJAmt1Sh7ck"
      },
      "execution_count": null,
      "outputs": []
    },
    {
      "cell_type": "code",
      "source": [
        "model = xgb.XGBRegressor(n_estimators=1000)\n",
        "model.fit(X_train, Y_train, eval_set=[(X_train, Y_train),(X_test, Y_test)], verbose = 100)"
      ],
      "metadata": {
        "colab": {
          "base_uri": "https://localhost:8080/"
        },
        "id": "hOpEyGmMfvif",
        "outputId": "8c857bda-ad14-4ebc-fb82-4d7533e02977"
      },
      "execution_count": null,
      "outputs": [
        {
          "output_type": "stream",
          "name": "stdout",
          "text": [
            "[15:59:26] WARNING: /workspace/src/objective/regression_obj.cu:152: reg:linear is now deprecated in favor of reg:squarederror.\n",
            "[0]\tvalidation_0-rmse:959.736\tvalidation_1-rmse:3302.22\n",
            "[100]\tvalidation_0-rmse:70.1357\tvalidation_1-rmse:1047.28\n",
            "[200]\tvalidation_0-rmse:51.794\tvalidation_1-rmse:1042.29\n",
            "[300]\tvalidation_0-rmse:42.8403\tvalidation_1-rmse:1043.36\n",
            "[400]\tvalidation_0-rmse:37.3072\tvalidation_1-rmse:1044.24\n",
            "[500]\tvalidation_0-rmse:33.2117\tvalidation_1-rmse:1044.02\n",
            "[600]\tvalidation_0-rmse:29.1269\tvalidation_1-rmse:1043.46\n",
            "[700]\tvalidation_0-rmse:26.6928\tvalidation_1-rmse:1043.56\n",
            "[800]\tvalidation_0-rmse:24.8946\tvalidation_1-rmse:1043.54\n",
            "[900]\tvalidation_0-rmse:23.4977\tvalidation_1-rmse:1043.97\n",
            "[999]\tvalidation_0-rmse:21.7981\tvalidation_1-rmse:1043.8\n"
          ]
        },
        {
          "output_type": "execute_result",
          "data": {
            "text/plain": [
              "XGBRegressor(n_estimators=1000)"
            ]
          },
          "metadata": {},
          "execution_count": 192
        }
      ]
    },
    {
      "cell_type": "code",
      "source": [
        "pred = model.predict(X_test)"
      ],
      "metadata": {
        "id": "tA5Y2k_4iNUi"
      },
      "execution_count": null,
      "outputs": []
    },
    {
      "cell_type": "code",
      "source": [
        "pred"
      ],
      "metadata": {
        "colab": {
          "base_uri": "https://localhost:8080/"
        },
        "id": "yI9msBhWiNW4",
        "outputId": "e8b7e1c7-8b42-4800-84f0-69fc9ee3aee8"
      },
      "execution_count": null,
      "outputs": [
        {
          "output_type": "execute_result",
          "data": {
            "text/plain": [
              "array([3900.7415, 3900.7415, 3900.3145, 3900.3145, 3900.3145, 3900.3145,\n",
              "       3900.3145, 3908.145 , 3908.145 , 3910.2905, 3910.2905, 3910.2905,\n",
              "       3918.2244, 3915.404 , 3915.1614, 3915.1614, 3902.8916, 3902.8184,\n",
              "       3890.8435, 3895.9246, 3895.9246, 3901.0903, 3901.0903, 3901.0903,\n",
              "       3901.0903, 3901.0903, 3901.0903, 3900.8694, 3900.8694, 3900.8694,\n",
              "       3900.8694, 3900.8694, 3900.8694, 3902.9778, 3909.5356, 3912.9543,\n",
              "       3913.6577, 3913.6577, 3913.6577, 3913.6577, 3913.6577, 3912.777 ,\n",
              "       3912.777 , 3912.777 , 3912.777 , 3912.777 , 3925.7642, 3937.9006,\n",
              "       3937.9006, 3940.3262, 3940.3262, 3940.3262, 3940.3262, 3937.5757,\n",
              "       3937.1292, 3938.1045, 3938.1045, 3938.1045, 3938.1045, 3940.08  ,\n",
              "       3949.5095, 3951.26  , 3959.7793, 3959.7793, 3959.7793, 3959.7793,\n",
              "       3959.7793, 3959.7793, 3959.7793, 3958.793 , 3971.281 , 3971.4585,\n",
              "       3972.7036, 3972.835 , 3979.5427, 4011.949 , 4024.0667, 4063.5916,\n",
              "       4063.5916, 4064.8914, 4064.8914, 4074.327 , 4048.764 , 4048.764 ,\n",
              "       4048.3853, 4066.365 , 4102.0063, 4097.113 , 4097.113 , 4097.113 ,\n",
              "       4088.434 , 4090.6692, 4090.6692, 4090.6692, 4082.063 , 4076.7612,\n",
              "       4076.3335, 4076.3335, 4081.026 , 4083.6545, 4083.6545, 4083.6545,\n",
              "       4112.2783, 4142.322 , 4151.512 , 4151.312 , 4139.5464, 4123.0415,\n",
              "       4123.6636, 4099.2925, 4104.0693, 4122.228 , 4121.897 , 4179.783 ,\n",
              "       4204.552 , 4204.552 ,  734.8934,  734.0285,  806.465 ,  969.2776,\n",
              "       1041.5913, 1105.659 , 1192.9126, 1210.9413, 1210.9413, 1259.4883,\n",
              "       1235.5708, 1101.2985, 1085.2543, 1155.8641, 1199.0522, 1186.6785,\n",
              "       1239.488 , 1240.0756, 1268.0851, 1320.4932, 1352.6385, 1182.2521,\n",
              "       1250.1505, 1250.1505, 1339.6704, 1326.8394, 1327.4008, 1308.0256,\n",
              "       1364.947 , 1364.0011, 1361.4036, 1358.6621, 1361.4873, 1510.3153,\n",
              "       1640.4766, 1631.248 , 1682.4935, 1682.7773, 1641.684 , 1726.1027,\n",
              "       1760.9353, 1756.5753, 1756.5753, 1808.7722, 1806.6414, 1819.1368,\n",
              "       1817.1401, 1817.1401, 1876.1218, 1918.9622, 1918.9622, 1889.9557,\n",
              "       1870.3693, 1739.5039, 1623.4252, 1623.4252, 1508.983 , 1489.9578,\n",
              "       1489.9578, 1455.385 , 1549.5575, 1543.7705, 1556.4193, 1556.4193,\n",
              "       1556.4193, 1648.087 , 1723.4241, 1818.602 , 1818.602 , 1814.6823,\n",
              "       1815.5745, 1815.5745, 1845.7251, 1836.5371, 1799.2906, 1799.2906,\n",
              "       1788.1564, 1781.9193, 1781.3173, 1781.3173, 1777.7849, 1726.6366,\n",
              "       1722.1615, 1637.0612], dtype=float32)"
            ]
          },
          "metadata": {},
          "execution_count": 194
        }
      ]
    },
    {
      "cell_type": "code",
      "source": [
        "x = pd.to_datetime(df['Date'])\n",
        "x=x.iloc[-200:]\n",
        "x = x.transpose()"
      ],
      "metadata": {
        "id": "ditndkphivXN"
      },
      "execution_count": null,
      "outputs": []
    },
    {
      "cell_type": "code",
      "source": [
        "pred"
      ],
      "metadata": {
        "colab": {
          "base_uri": "https://localhost:8080/"
        },
        "id": "hONkCOKEjPlI",
        "outputId": "8bb96bfa-6e63-462d-e0ea-9aafc69bcd5f"
      },
      "execution_count": null,
      "outputs": [
        {
          "output_type": "execute_result",
          "data": {
            "text/plain": [
              "array([3900.7415, 3900.7415, 3900.3145, 3900.3145, 3900.3145, 3900.3145,\n",
              "       3900.3145, 3908.145 , 3908.145 , 3910.2905, 3910.2905, 3910.2905,\n",
              "       3918.2244, 3915.404 , 3915.1614, 3915.1614, 3902.8916, 3902.8184,\n",
              "       3890.8435, 3895.9246, 3895.9246, 3901.0903, 3901.0903, 3901.0903,\n",
              "       3901.0903, 3901.0903, 3901.0903, 3900.8694, 3900.8694, 3900.8694,\n",
              "       3900.8694, 3900.8694, 3900.8694, 3902.9778, 3909.5356, 3912.9543,\n",
              "       3913.6577, 3913.6577, 3913.6577, 3913.6577, 3913.6577, 3912.777 ,\n",
              "       3912.777 , 3912.777 , 3912.777 , 3912.777 , 3925.7642, 3937.9006,\n",
              "       3937.9006, 3940.3262, 3940.3262, 3940.3262, 3940.3262, 3937.5757,\n",
              "       3937.1292, 3938.1045, 3938.1045, 3938.1045, 3938.1045, 3940.08  ,\n",
              "       3949.5095, 3951.26  , 3959.7793, 3959.7793, 3959.7793, 3959.7793,\n",
              "       3959.7793, 3959.7793, 3959.7793, 3958.793 , 3971.281 , 3971.4585,\n",
              "       3972.7036, 3972.835 , 3979.5427, 4011.949 , 4024.0667, 4063.5916,\n",
              "       4063.5916, 4064.8914, 4064.8914, 4074.327 , 4048.764 , 4048.764 ,\n",
              "       4048.3853, 4066.365 , 4102.0063, 4097.113 , 4097.113 , 4097.113 ,\n",
              "       4088.434 , 4090.6692, 4090.6692, 4090.6692, 4082.063 , 4076.7612,\n",
              "       4076.3335, 4076.3335, 4081.026 , 4083.6545, 4083.6545, 4083.6545,\n",
              "       4112.2783, 4142.322 , 4151.512 , 4151.312 , 4139.5464, 4123.0415,\n",
              "       4123.6636, 4099.2925, 4104.0693, 4122.228 , 4121.897 , 4179.783 ,\n",
              "       4204.552 , 4204.552 ,  734.8934,  734.0285,  806.465 ,  969.2776,\n",
              "       1041.5913, 1105.659 , 1192.9126, 1210.9413, 1210.9413, 1259.4883,\n",
              "       1235.5708, 1101.2985, 1085.2543, 1155.8641, 1199.0522, 1186.6785,\n",
              "       1239.488 , 1240.0756, 1268.0851, 1320.4932, 1352.6385, 1182.2521,\n",
              "       1250.1505, 1250.1505, 1339.6704, 1326.8394, 1327.4008, 1308.0256,\n",
              "       1364.947 , 1364.0011, 1361.4036, 1358.6621, 1361.4873, 1510.3153,\n",
              "       1640.4766, 1631.248 , 1682.4935, 1682.7773, 1641.684 , 1726.1027,\n",
              "       1760.9353, 1756.5753, 1756.5753, 1808.7722, 1806.6414, 1819.1368,\n",
              "       1817.1401, 1817.1401, 1876.1218, 1918.9622, 1918.9622, 1889.9557,\n",
              "       1870.3693, 1739.5039, 1623.4252, 1623.4252, 1508.983 , 1489.9578,\n",
              "       1489.9578, 1455.385 , 1549.5575, 1543.7705, 1556.4193, 1556.4193,\n",
              "       1556.4193, 1648.087 , 1723.4241, 1818.602 , 1818.602 , 1814.6823,\n",
              "       1815.5745, 1815.5745, 1845.7251, 1836.5371, 1799.2906, 1799.2906,\n",
              "       1788.1564, 1781.9193, 1781.3173, 1781.3173, 1777.7849, 1726.6366,\n",
              "       1722.1615, 1637.0612], dtype=float32)"
            ]
          },
          "metadata": {},
          "execution_count": 196
        }
      ]
    },
    {
      "cell_type": "code",
      "source": [
        "(np.array(Y_test)).transpose()"
      ],
      "metadata": {
        "colab": {
          "base_uri": "https://localhost:8080/"
        },
        "id": "Vmh7kTH-jfZ-",
        "outputId": "f2855c7b-b86f-4cf1-e1fb-8c25dc34cbeb"
      },
      "execution_count": null,
      "outputs": [
        {
          "output_type": "execute_result",
          "data": {
            "text/plain": [
              "array([[3926.527588, 3428.378174, 3452.54834 , 3425.564941, 3209.030518,\n",
              "        3270.291748, 3407.471924, 3286.316406, 3431.217285, 3613.07373 ,\n",
              "        3569.568115, 3397.422852, 3433.287842, 3329.670654, 2977.310547,\n",
              "        2763.209229, 3077.974365, 3154.562012, 2930.884766, 2926.343018,\n",
              "        3065.837891, 2928.963379, 2809.297607, 2852.558838, 3001.129395,\n",
              "        3308.870361, 3390.767578, 3418.776367, 3381.784424, 3516.570313,\n",
              "        3576.814453, 3587.832764, 3559.997803, 3575.020508, 3419.726807,\n",
              "        3546.477783, 3492.753662, 3604.958984, 3790.154297, 3865.666504,\n",
              "        3829.858887, 3847.72998 , 3747.162842, 3877.730957, 4161.713379,\n",
              "        4055.686523, 3971.356445, 4171.855957, 4084.425781, 4217.337891,\n",
              "        4132.17334 , 3924.81543 , 4288.686523, 4414.243652, 4322.744141,\n",
              "        4288.217285, 4322.500977, 4589.68457 , 4604.678711, 4537.42334 ,\n",
              "        4482.647949, 4523.981934, 4619.649414, 4810.071289, 4733.362793,\n",
              "        4635.453613, 4724.306641, 4666.719238, 4648.632813, 4627.09082 ,\n",
              "        4570.478027, 4213.910645, 4287.802246, 3995.729492, 4298.350586,\n",
              "        4412.195313, 4266.509277, 4089.68042 , 4340.036133, 4271.394531,\n",
              "        4522.208984, 4042.999023, 4101.648926, 4296.946777, 4447.768066,\n",
              "        4623.679688, 4586.333008, 4514.355957, 4227.762207, 4119.628906,\n",
              "        4199.      , 4358.586914, 4311.674316, 4433.024902, 4113.588379,\n",
              "        3909.667725, 4084.811279, 4136.359863, 3782.822754, 3862.251465,\n",
              "        4020.415039, 3959.012451, 3880.291504, 3960.872314, 3923.695801,\n",
              "        3938.463867, 4018.695801, 3981.96167 , 4111.345215, 4049.781982,\n",
              "        4094.151611, 4064.746338, 4037.538086, 3797.436279, 3632.219727,\n",
              "        3713.430176, 3683.047119, 3769.29834 , 3829.535645, 3761.361572,\n",
              "        3794.269043, 3549.708984, 3417.837891, 3193.502441, 3091.696289,\n",
              "        3157.570557, 3082.990967, 3238.449951, 3372.10498 , 3248.648682,\n",
              "        3309.844238, 3330.387207, 3350.947266, 3212.287598, 3163.850342,\n",
              "        3095.271729, 3002.956787, 2561.145264, 2406.924316, 2535.891113,\n",
              "        2440.393555, 2455.579102, 2467.188477, 2421.646973, 2546.590576,\n",
              "        2598.564941, 2603.263428, 2687.898926, 2791.958984, 2682.226074,\n",
              "        2681.057617, 2984.446045, 3014.959717, 3057.422119, 3143.008545,\n",
              "        3121.182617, 3240.113037, 3077.413086, 2927.386475, 2916.789551,\n",
              "        2880.187744, 2933.729004, 3180.446777, 3126.858398, 2884.340576,\n",
              "        2784.872803, 2763.756592, 2627.665527, 2572.898682, 2639.447021,\n",
              "        2588.16626 , 2598.436279, 2764.989502, 2780.504395, 2621.172119,\n",
              "        2919.775879, 2972.471924, 2950.156738, 2834.987305, 2618.473633,\n",
              "        2664.943604, 2555.297607, 2497.721436, 2577.165283, 2729.116455,\n",
              "        2608.27124 , 2559.660645, 2573.488037, 2518.486328, 2590.668945,\n",
              "        2620.028564, 2771.964111, 2814.43457 , 2944.72168 , 2946.547607,\n",
              "        2860.103271, 2897.77417 , 2973.14502 , 3031.060791, 3109.523438]])"
            ]
          },
          "metadata": {},
          "execution_count": 201
        }
      ]
    },
    {
      "cell_type": "code",
      "source": [
        "Y_test.shape"
      ],
      "metadata": {
        "id": "PzPrzToukzjD",
        "outputId": "5a190983-669d-4185-d1ce-3a683cf8caf0",
        "colab": {
          "base_uri": "https://localhost:8080/"
        }
      },
      "execution_count": null,
      "outputs": [
        {
          "output_type": "execute_result",
          "data": {
            "text/plain": [
              "(200, 1)"
            ]
          },
          "metadata": {},
          "execution_count": 204
        }
      ]
    },
    {
      "cell_type": "code",
      "source": [
        "pred.shape"
      ],
      "metadata": {
        "id": "_xXp2jlUk2O2",
        "outputId": "e51f404d-6d57-4802-b5d4-2d115f8662d0",
        "colab": {
          "base_uri": "https://localhost:8080/"
        }
      },
      "execution_count": null,
      "outputs": [
        {
          "output_type": "execute_result",
          "data": {
            "text/plain": [
              "(200,)"
            ]
          },
          "metadata": {},
          "execution_count": 205
        }
      ]
    },
    {
      "cell_type": "code",
      "source": [
        "import plotly.graph_objects as go\n",
        "\n",
        "fig = go.Figure()\n",
        "fig.add_trace(\n",
        "    go.Scatter(x=x, y= [3926.527588, 3428.378174, 3452.54834 , 3425.564941, 3209.030518,\n",
        "        3270.291748, 3407.471924, 3286.316406, 3431.217285, 3613.07373 ,\n",
        "        3569.568115, 3397.422852, 3433.287842, 3329.670654, 2977.310547,\n",
        "        2763.209229, 3077.974365, 3154.562012, 2930.884766, 2926.343018,\n",
        "        3065.837891, 2928.963379, 2809.297607, 2852.558838, 3001.129395,\n",
        "        3308.870361, 3390.767578, 3418.776367, 3381.784424, 3516.570313,\n",
        "        3576.814453, 3587.832764, 3559.997803, 3575.020508, 3419.726807,\n",
        "        3546.477783, 3492.753662, 3604.958984, 3790.154297, 3865.666504,\n",
        "        3829.858887, 3847.72998 , 3747.162842, 3877.730957, 4161.713379,\n",
        "        4055.686523, 3971.356445, 4171.855957, 4084.425781, 4217.337891,\n",
        "        4132.17334 , 3924.81543 , 4288.686523, 4414.243652, 4322.744141,\n",
        "        4288.217285, 4322.500977, 4589.68457 , 4604.678711, 4537.42334 ,\n",
        "        4482.647949, 4523.981934, 4619.649414, 4810.071289, 4733.362793,\n",
        "        4635.453613, 4724.306641, 4666.719238, 4648.632813, 4627.09082 ,\n",
        "        4570.478027, 4213.910645, 4287.802246, 3995.729492, 4298.350586,\n",
        "        4412.195313, 4266.509277, 4089.68042 , 4340.036133, 4271.394531,\n",
        "        4522.208984, 4042.999023, 4101.648926, 4296.946777, 4447.768066,\n",
        "        4623.679688, 4586.333008, 4514.355957, 4227.762207, 4119.628906,\n",
        "        4199.      , 4358.586914, 4311.674316, 4433.024902, 4113.588379,\n",
        "        3909.667725, 4084.811279, 4136.359863, 3782.822754, 3862.251465,\n",
        "        4020.415039, 3959.012451, 3880.291504, 3960.872314, 3923.695801,\n",
        "        3938.463867, 4018.695801, 3981.96167 , 4111.345215, 4049.781982,\n",
        "        4094.151611, 4064.746338, 4037.538086, 3797.436279, 3632.219727,\n",
        "        3713.430176, 3683.047119, 3769.29834 , 3829.535645, 3761.361572,\n",
        "        3794.269043, 3549.708984, 3417.837891, 3193.502441, 3091.696289,\n",
        "        3157.570557, 3082.990967, 3238.449951, 3372.10498 , 3248.648682,\n",
        "        3309.844238, 3330.387207, 3350.947266, 3212.287598, 3163.850342,\n",
        "        3095.271729, 3002.956787, 2561.145264, 2406.924316, 2535.891113,\n",
        "        2440.393555, 2455.579102, 2467.188477, 2421.646973, 2546.590576,\n",
        "        2598.564941, 2603.263428, 2687.898926, 2791.958984, 2682.226074,\n",
        "        2681.057617, 2984.446045, 3014.959717, 3057.422119, 3143.008545,\n",
        "        3121.182617, 3240.113037, 3077.413086, 2927.386475, 2916.789551,\n",
        "        2880.187744, 2933.729004, 3180.446777, 3126.858398, 2884.340576,\n",
        "        2784.872803, 2763.756592, 2627.665527, 2572.898682, 2639.447021,\n",
        "        2588.16626 , 2598.436279, 2764.989502, 2780.504395, 2621.172119,\n",
        "        2919.775879, 2972.471924, 2950.156738, 2834.987305, 2618.473633,\n",
        "        2664.943604, 2555.297607, 2497.721436, 2577.165283, 2729.116455,\n",
        "        2608.27124 , 2559.660645, 2573.488037, 2518.486328, 2590.668945,\n",
        "        2620.028564, 2771.964111, 2814.43457 , 2944.72168 , 2946.547607,\n",
        "        2860.103271, 2897.77417 , 2973.14502 , 3031.060791, 3109.523438], name ='Open'))\n",
        "\n",
        "fig.add_trace(\n",
        "    go.Scatter(x=x, y=[3900.7415, 3900.7415, 3900.3145, 3900.3145, 3900.3145, 3900.3145,\n",
        "       3900.3145, 3908.145 , 3908.145 , 3910.2905, 3910.2905, 3910.2905,\n",
        "       3918.2244, 3915.404 , 3915.1614, 3915.1614, 3902.8916, 3902.8184,\n",
        "       3890.8435, 3895.9246, 3895.9246, 3901.0903, 3901.0903, 3901.0903,\n",
        "       3901.0903, 3901.0903, 3901.0903, 3900.8694, 3900.8694, 3900.8694,\n",
        "       3900.8694, 3900.8694, 3900.8694, 3902.9778, 3909.5356, 3912.9543,\n",
        "       3913.6577, 3913.6577, 3913.6577, 3913.6577, 3913.6577, 3912.777 ,\n",
        "       3912.777 , 3912.777 , 3912.777 , 3912.777 , 3925.7642, 3937.9006,\n",
        "       3937.9006, 3940.3262, 3940.3262, 3940.3262, 3940.3262, 3937.5757,\n",
        "       3937.1292, 3938.1045, 3938.1045, 3938.1045, 3938.1045, 3940.08  ,\n",
        "       3949.5095, 3951.26  , 3959.7793, 3959.7793, 3959.7793, 3959.7793,\n",
        "       3959.7793, 3959.7793, 3959.7793, 3958.793 , 3971.281 , 3971.4585,\n",
        "       3972.7036, 3972.835 , 3979.5427, 4011.949 , 4024.0667, 4063.5916,\n",
        "       4063.5916, 4064.8914, 4064.8914, 4074.327 , 4048.764 , 4048.764 ,\n",
        "       4048.3853, 4066.365 , 4102.0063, 4097.113 , 4097.113 , 4097.113 ,\n",
        "       4088.434 , 4090.6692, 4090.6692, 4090.6692, 4082.063 , 4076.7612,\n",
        "       4076.3335, 4076.3335, 4081.026 , 4083.6545, 4083.6545, 4083.6545,\n",
        "       4112.2783, 4142.322 , 4151.512 , 4151.312 , 4139.5464, 4123.0415,\n",
        "       4123.6636, 4099.2925, 4104.0693, 4122.228 , 4121.897 , 4179.783 ,\n",
        "       4204.552 , 4204.552 ,  734.8934,  734.0285,  806.465 ,  969.2776,\n",
        "       1041.5913, 1105.659 , 1192.9126, 1210.9413, 1210.9413, 1259.4883,\n",
        "       1235.5708, 1101.2985, 1085.2543, 1155.8641, 1199.0522, 1186.6785,\n",
        "       1239.488 , 1240.0756, 1268.0851, 1320.4932, 1352.6385, 1182.2521,\n",
        "       1250.1505, 1250.1505, 1339.6704, 1326.8394, 1327.4008, 1308.0256,\n",
        "       1364.947 , 1364.0011, 1361.4036, 1358.6621, 1361.4873, 1510.3153,\n",
        "       1640.4766, 1631.248 , 1682.4935, 1682.7773, 1641.684 , 1726.1027,\n",
        "       1760.9353, 1756.5753, 1756.5753, 1808.7722, 1806.6414, 1819.1368,\n",
        "       1817.1401, 1817.1401, 1876.1218, 1918.9622, 1918.9622, 1889.9557,\n",
        "       1870.3693, 1739.5039, 1623.4252, 1623.4252, 1508.983 , 1489.9578,\n",
        "       1489.9578, 1455.385 , 1549.5575, 1543.7705, 1556.4193, 1556.4193,\n",
        "       1556.4193, 1648.087 , 1723.4241, 1818.602 , 1818.602 , 1814.6823,\n",
        "       1815.5745, 1815.5745, 1845.7251, 1836.5371, 1799.2906, 1799.2906,\n",
        "       1788.1564, 1781.9193, 1781.3173, 1781.3173, 1777.7849, 1726.6366,\n",
        "       1722.1615, 1637.0612], name ='Predicted_XGB(Open)'))\n",
        "\n",
        "fig.show()"
      ],
      "metadata": {
        "colab": {
          "base_uri": "https://localhost:8080/",
          "height": 542
        },
        "id": "eED1RIjLiNZN",
        "outputId": "aa38227c-57a7-456e-86f0-db4ead7258ce"
      },
      "execution_count": null,
      "outputs": [
        {
          "output_type": "display_data",
          "data": {
            "text/html": [
              "<html>\n",
              "<head><meta charset=\"utf-8\" /></head>\n",
              "<body>\n",
              "    <div>            <script src=\"https://cdnjs.cloudflare.com/ajax/libs/mathjax/2.7.5/MathJax.js?config=TeX-AMS-MML_SVG\"></script><script type=\"text/javascript\">if (window.MathJax) {MathJax.Hub.Config({SVG: {font: \"STIX-Web\"}});}</script>                <script type=\"text/javascript\">window.PlotlyConfig = {MathJaxConfig: 'local'};</script>\n",
              "        <script src=\"https://cdn.plot.ly/plotly-2.8.3.min.js\"></script>                <div id=\"a9d51a22-ff18-4e3d-a37e-57a108c9cb59\" class=\"plotly-graph-div\" style=\"height:525px; width:100%;\"></div>            <script type=\"text/javascript\">                                    window.PLOTLYENV=window.PLOTLYENV || {};                                    if (document.getElementById(\"a9d51a22-ff18-4e3d-a37e-57a108c9cb59\")) {                    Plotly.newPlot(                        \"a9d51a22-ff18-4e3d-a37e-57a108c9cb59\",                        [{\"name\":\"Open\",\"x\":[\"2021-09-07T00:00:00\",\"2021-09-08T00:00:00\",\"2021-09-09T00:00:00\",\"2021-09-10T00:00:00\",\"2021-09-11T00:00:00\",\"2021-09-12T00:00:00\",\"2021-09-13T00:00:00\",\"2021-09-14T00:00:00\",\"2021-09-15T00:00:00\",\"2021-09-16T00:00:00\",\"2021-09-17T00:00:00\",\"2021-09-18T00:00:00\",\"2021-09-19T00:00:00\",\"2021-09-20T00:00:00\",\"2021-09-21T00:00:00\",\"2021-09-22T00:00:00\",\"2021-09-23T00:00:00\",\"2021-09-24T00:00:00\",\"2021-09-25T00:00:00\",\"2021-09-26T00:00:00\",\"2021-09-27T00:00:00\",\"2021-09-28T00:00:00\",\"2021-09-29T00:00:00\",\"2021-09-30T00:00:00\",\"2021-10-01T00:00:00\",\"2021-10-02T00:00:00\",\"2021-10-03T00:00:00\",\"2021-10-04T00:00:00\",\"2021-10-05T00:00:00\",\"2021-10-06T00:00:00\",\"2021-10-07T00:00:00\",\"2021-10-08T00:00:00\",\"2021-10-09T00:00:00\",\"2021-10-10T00:00:00\",\"2021-10-11T00:00:00\",\"2021-10-12T00:00:00\",\"2021-10-13T00:00:00\",\"2021-10-14T00:00:00\",\"2021-10-15T00:00:00\",\"2021-10-16T00:00:00\",\"2021-10-17T00:00:00\",\"2021-10-18T00:00:00\",\"2021-10-19T00:00:00\",\"2021-10-20T00:00:00\",\"2021-10-21T00:00:00\",\"2021-10-22T00:00:00\",\"2021-10-23T00:00:00\",\"2021-10-24T00:00:00\",\"2021-10-25T00:00:00\",\"2021-10-26T00:00:00\",\"2021-10-27T00:00:00\",\"2021-10-28T00:00:00\",\"2021-10-29T00:00:00\",\"2021-10-30T00:00:00\",\"2021-10-31T00:00:00\",\"2021-11-01T00:00:00\",\"2021-11-02T00:00:00\",\"2021-11-03T00:00:00\",\"2021-11-04T00:00:00\",\"2021-11-05T00:00:00\",\"2021-11-06T00:00:00\",\"2021-11-07T00:00:00\",\"2021-11-08T00:00:00\",\"2021-11-09T00:00:00\",\"2021-11-10T00:00:00\",\"2021-11-11T00:00:00\",\"2021-11-12T00:00:00\",\"2021-11-13T00:00:00\",\"2021-11-14T00:00:00\",\"2021-11-15T00:00:00\",\"2021-11-16T00:00:00\",\"2021-11-17T00:00:00\",\"2021-11-18T00:00:00\",\"2021-11-19T00:00:00\",\"2021-11-20T00:00:00\",\"2021-11-21T00:00:00\",\"2021-11-22T00:00:00\",\"2021-11-23T00:00:00\",\"2021-11-24T00:00:00\",\"2021-11-25T00:00:00\",\"2021-11-26T00:00:00\",\"2021-11-27T00:00:00\",\"2021-11-28T00:00:00\",\"2021-11-29T00:00:00\",\"2021-11-30T00:00:00\",\"2021-12-01T00:00:00\",\"2021-12-02T00:00:00\",\"2021-12-03T00:00:00\",\"2021-12-04T00:00:00\",\"2021-12-05T00:00:00\",\"2021-12-06T00:00:00\",\"2021-12-07T00:00:00\",\"2021-12-08T00:00:00\",\"2021-12-09T00:00:00\",\"2021-12-10T00:00:00\",\"2021-12-11T00:00:00\",\"2021-12-12T00:00:00\",\"2021-12-13T00:00:00\",\"2021-12-14T00:00:00\",\"2021-12-15T00:00:00\",\"2021-12-16T00:00:00\",\"2021-12-17T00:00:00\",\"2021-12-18T00:00:00\",\"2021-12-19T00:00:00\",\"2021-12-20T00:00:00\",\"2021-12-21T00:00:00\",\"2021-12-22T00:00:00\",\"2021-12-23T00:00:00\",\"2021-12-24T00:00:00\",\"2021-12-25T00:00:00\",\"2021-12-26T00:00:00\",\"2021-12-27T00:00:00\",\"2021-12-28T00:00:00\",\"2021-12-29T00:00:00\",\"2021-12-30T00:00:00\",\"2021-12-31T00:00:00\",\"2022-01-01T00:00:00\",\"2022-01-02T00:00:00\",\"2022-01-03T00:00:00\",\"2022-01-04T00:00:00\",\"2022-01-05T00:00:00\",\"2022-01-06T00:00:00\",\"2022-01-07T00:00:00\",\"2022-01-08T00:00:00\",\"2022-01-09T00:00:00\",\"2022-01-10T00:00:00\",\"2022-01-11T00:00:00\",\"2022-01-12T00:00:00\",\"2022-01-13T00:00:00\",\"2022-01-14T00:00:00\",\"2022-01-15T00:00:00\",\"2022-01-16T00:00:00\",\"2022-01-17T00:00:00\",\"2022-01-18T00:00:00\",\"2022-01-19T00:00:00\",\"2022-01-20T00:00:00\",\"2022-01-21T00:00:00\",\"2022-01-22T00:00:00\",\"2022-01-23T00:00:00\",\"2022-01-24T00:00:00\",\"2022-01-25T00:00:00\",\"2022-01-26T00:00:00\",\"2022-01-27T00:00:00\",\"2022-01-28T00:00:00\",\"2022-01-29T00:00:00\",\"2022-01-30T00:00:00\",\"2022-01-31T00:00:00\",\"2022-02-01T00:00:00\",\"2022-02-02T00:00:00\",\"2022-02-03T00:00:00\",\"2022-02-04T00:00:00\",\"2022-02-05T00:00:00\",\"2022-02-06T00:00:00\",\"2022-02-07T00:00:00\",\"2022-02-08T00:00:00\",\"2022-02-09T00:00:00\",\"2022-02-10T00:00:00\",\"2022-02-11T00:00:00\",\"2022-02-12T00:00:00\",\"2022-02-13T00:00:00\",\"2022-02-14T00:00:00\",\"2022-02-15T00:00:00\",\"2022-02-16T00:00:00\",\"2022-02-17T00:00:00\",\"2022-02-18T00:00:00\",\"2022-02-19T00:00:00\",\"2022-02-20T00:00:00\",\"2022-02-21T00:00:00\",\"2022-02-22T00:00:00\",\"2022-02-23T00:00:00\",\"2022-02-24T00:00:00\",\"2022-02-25T00:00:00\",\"2022-02-26T00:00:00\",\"2022-02-27T00:00:00\",\"2022-02-28T00:00:00\",\"2022-03-01T00:00:00\",\"2022-03-02T00:00:00\",\"2022-03-03T00:00:00\",\"2022-03-04T00:00:00\",\"2022-03-05T00:00:00\",\"2022-03-06T00:00:00\",\"2022-03-07T00:00:00\",\"2022-03-08T00:00:00\",\"2022-03-09T00:00:00\",\"2022-03-10T00:00:00\",\"2022-03-11T00:00:00\",\"2022-03-12T00:00:00\",\"2022-03-13T00:00:00\",\"2022-03-14T00:00:00\",\"2022-03-15T00:00:00\",\"2022-03-16T00:00:00\",\"2022-03-17T00:00:00\",\"2022-03-18T00:00:00\",\"2022-03-19T00:00:00\",\"2022-03-20T00:00:00\",\"2022-03-21T00:00:00\",\"2022-03-22T00:00:00\",\"2022-03-23T00:00:00\",\"2022-03-24T00:00:00\",\"2022-03-25T00:00:00\"],\"y\":[3926.527588,3428.378174,3452.54834,3425.564941,3209.030518,3270.291748,3407.471924,3286.316406,3431.217285,3613.07373,3569.568115,3397.422852,3433.287842,3329.670654,2977.310547,2763.209229,3077.974365,3154.562012,2930.884766,2926.343018,3065.837891,2928.963379,2809.297607,2852.558838,3001.129395,3308.870361,3390.767578,3418.776367,3381.784424,3516.570313,3576.814453,3587.832764,3559.997803,3575.020508,3419.726807,3546.477783,3492.753662,3604.958984,3790.154297,3865.666504,3829.858887,3847.72998,3747.162842,3877.730957,4161.713379,4055.686523,3971.356445,4171.855957,4084.425781,4217.337891,4132.17334,3924.81543,4288.686523,4414.243652,4322.744141,4288.217285,4322.500977,4589.68457,4604.678711,4537.42334,4482.647949,4523.981934,4619.649414,4810.071289,4733.362793,4635.453613,4724.306641,4666.719238,4648.632813,4627.09082,4570.478027,4213.910645,4287.802246,3995.729492,4298.350586,4412.195313,4266.509277,4089.68042,4340.036133,4271.394531,4522.208984,4042.999023,4101.648926,4296.946777,4447.768066,4623.679688,4586.333008,4514.355957,4227.762207,4119.628906,4199.0,4358.586914,4311.674316,4433.024902,4113.588379,3909.667725,4084.811279,4136.359863,3782.822754,3862.251465,4020.415039,3959.012451,3880.291504,3960.872314,3923.695801,3938.463867,4018.695801,3981.96167,4111.345215,4049.781982,4094.151611,4064.746338,4037.538086,3797.436279,3632.219727,3713.430176,3683.047119,3769.29834,3829.535645,3761.361572,3794.269043,3549.708984,3417.837891,3193.502441,3091.696289,3157.570557,3082.990967,3238.449951,3372.10498,3248.648682,3309.844238,3330.387207,3350.947266,3212.287598,3163.850342,3095.271729,3002.956787,2561.145264,2406.924316,2535.891113,2440.393555,2455.579102,2467.188477,2421.646973,2546.590576,2598.564941,2603.263428,2687.898926,2791.958984,2682.226074,2681.057617,2984.446045,3014.959717,3057.422119,3143.008545,3121.182617,3240.113037,3077.413086,2927.386475,2916.789551,2880.187744,2933.729004,3180.446777,3126.858398,2884.340576,2784.872803,2763.756592,2627.665527,2572.898682,2639.447021,2588.16626,2598.436279,2764.989502,2780.504395,2621.172119,2919.775879,2972.471924,2950.156738,2834.987305,2618.473633,2664.943604,2555.297607,2497.721436,2577.165283,2729.116455,2608.27124,2559.660645,2573.488037,2518.486328,2590.668945,2620.028564,2771.964111,2814.43457,2944.72168,2946.547607,2860.103271,2897.77417,2973.14502,3031.060791,3109.523438],\"type\":\"scatter\"},{\"name\":\"Predicted_XGB(Open)\",\"x\":[\"2021-09-07T00:00:00\",\"2021-09-08T00:00:00\",\"2021-09-09T00:00:00\",\"2021-09-10T00:00:00\",\"2021-09-11T00:00:00\",\"2021-09-12T00:00:00\",\"2021-09-13T00:00:00\",\"2021-09-14T00:00:00\",\"2021-09-15T00:00:00\",\"2021-09-16T00:00:00\",\"2021-09-17T00:00:00\",\"2021-09-18T00:00:00\",\"2021-09-19T00:00:00\",\"2021-09-20T00:00:00\",\"2021-09-21T00:00:00\",\"2021-09-22T00:00:00\",\"2021-09-23T00:00:00\",\"2021-09-24T00:00:00\",\"2021-09-25T00:00:00\",\"2021-09-26T00:00:00\",\"2021-09-27T00:00:00\",\"2021-09-28T00:00:00\",\"2021-09-29T00:00:00\",\"2021-09-30T00:00:00\",\"2021-10-01T00:00:00\",\"2021-10-02T00:00:00\",\"2021-10-03T00:00:00\",\"2021-10-04T00:00:00\",\"2021-10-05T00:00:00\",\"2021-10-06T00:00:00\",\"2021-10-07T00:00:00\",\"2021-10-08T00:00:00\",\"2021-10-09T00:00:00\",\"2021-10-10T00:00:00\",\"2021-10-11T00:00:00\",\"2021-10-12T00:00:00\",\"2021-10-13T00:00:00\",\"2021-10-14T00:00:00\",\"2021-10-15T00:00:00\",\"2021-10-16T00:00:00\",\"2021-10-17T00:00:00\",\"2021-10-18T00:00:00\",\"2021-10-19T00:00:00\",\"2021-10-20T00:00:00\",\"2021-10-21T00:00:00\",\"2021-10-22T00:00:00\",\"2021-10-23T00:00:00\",\"2021-10-24T00:00:00\",\"2021-10-25T00:00:00\",\"2021-10-26T00:00:00\",\"2021-10-27T00:00:00\",\"2021-10-28T00:00:00\",\"2021-10-29T00:00:00\",\"2021-10-30T00:00:00\",\"2021-10-31T00:00:00\",\"2021-11-01T00:00:00\",\"2021-11-02T00:00:00\",\"2021-11-03T00:00:00\",\"2021-11-04T00:00:00\",\"2021-11-05T00:00:00\",\"2021-11-06T00:00:00\",\"2021-11-07T00:00:00\",\"2021-11-08T00:00:00\",\"2021-11-09T00:00:00\",\"2021-11-10T00:00:00\",\"2021-11-11T00:00:00\",\"2021-11-12T00:00:00\",\"2021-11-13T00:00:00\",\"2021-11-14T00:00:00\",\"2021-11-15T00:00:00\",\"2021-11-16T00:00:00\",\"2021-11-17T00:00:00\",\"2021-11-18T00:00:00\",\"2021-11-19T00:00:00\",\"2021-11-20T00:00:00\",\"2021-11-21T00:00:00\",\"2021-11-22T00:00:00\",\"2021-11-23T00:00:00\",\"2021-11-24T00:00:00\",\"2021-11-25T00:00:00\",\"2021-11-26T00:00:00\",\"2021-11-27T00:00:00\",\"2021-11-28T00:00:00\",\"2021-11-29T00:00:00\",\"2021-11-30T00:00:00\",\"2021-12-01T00:00:00\",\"2021-12-02T00:00:00\",\"2021-12-03T00:00:00\",\"2021-12-04T00:00:00\",\"2021-12-05T00:00:00\",\"2021-12-06T00:00:00\",\"2021-12-07T00:00:00\",\"2021-12-08T00:00:00\",\"2021-12-09T00:00:00\",\"2021-12-10T00:00:00\",\"2021-12-11T00:00:00\",\"2021-12-12T00:00:00\",\"2021-12-13T00:00:00\",\"2021-12-14T00:00:00\",\"2021-12-15T00:00:00\",\"2021-12-16T00:00:00\",\"2021-12-17T00:00:00\",\"2021-12-18T00:00:00\",\"2021-12-19T00:00:00\",\"2021-12-20T00:00:00\",\"2021-12-21T00:00:00\",\"2021-12-22T00:00:00\",\"2021-12-23T00:00:00\",\"2021-12-24T00:00:00\",\"2021-12-25T00:00:00\",\"2021-12-26T00:00:00\",\"2021-12-27T00:00:00\",\"2021-12-28T00:00:00\",\"2021-12-29T00:00:00\",\"2021-12-30T00:00:00\",\"2021-12-31T00:00:00\",\"2022-01-01T00:00:00\",\"2022-01-02T00:00:00\",\"2022-01-03T00:00:00\",\"2022-01-04T00:00:00\",\"2022-01-05T00:00:00\",\"2022-01-06T00:00:00\",\"2022-01-07T00:00:00\",\"2022-01-08T00:00:00\",\"2022-01-09T00:00:00\",\"2022-01-10T00:00:00\",\"2022-01-11T00:00:00\",\"2022-01-12T00:00:00\",\"2022-01-13T00:00:00\",\"2022-01-14T00:00:00\",\"2022-01-15T00:00:00\",\"2022-01-16T00:00:00\",\"2022-01-17T00:00:00\",\"2022-01-18T00:00:00\",\"2022-01-19T00:00:00\",\"2022-01-20T00:00:00\",\"2022-01-21T00:00:00\",\"2022-01-22T00:00:00\",\"2022-01-23T00:00:00\",\"2022-01-24T00:00:00\",\"2022-01-25T00:00:00\",\"2022-01-26T00:00:00\",\"2022-01-27T00:00:00\",\"2022-01-28T00:00:00\",\"2022-01-29T00:00:00\",\"2022-01-30T00:00:00\",\"2022-01-31T00:00:00\",\"2022-02-01T00:00:00\",\"2022-02-02T00:00:00\",\"2022-02-03T00:00:00\",\"2022-02-04T00:00:00\",\"2022-02-05T00:00:00\",\"2022-02-06T00:00:00\",\"2022-02-07T00:00:00\",\"2022-02-08T00:00:00\",\"2022-02-09T00:00:00\",\"2022-02-10T00:00:00\",\"2022-02-11T00:00:00\",\"2022-02-12T00:00:00\",\"2022-02-13T00:00:00\",\"2022-02-14T00:00:00\",\"2022-02-15T00:00:00\",\"2022-02-16T00:00:00\",\"2022-02-17T00:00:00\",\"2022-02-18T00:00:00\",\"2022-02-19T00:00:00\",\"2022-02-20T00:00:00\",\"2022-02-21T00:00:00\",\"2022-02-22T00:00:00\",\"2022-02-23T00:00:00\",\"2022-02-24T00:00:00\",\"2022-02-25T00:00:00\",\"2022-02-26T00:00:00\",\"2022-02-27T00:00:00\",\"2022-02-28T00:00:00\",\"2022-03-01T00:00:00\",\"2022-03-02T00:00:00\",\"2022-03-03T00:00:00\",\"2022-03-04T00:00:00\",\"2022-03-05T00:00:00\",\"2022-03-06T00:00:00\",\"2022-03-07T00:00:00\",\"2022-03-08T00:00:00\",\"2022-03-09T00:00:00\",\"2022-03-10T00:00:00\",\"2022-03-11T00:00:00\",\"2022-03-12T00:00:00\",\"2022-03-13T00:00:00\",\"2022-03-14T00:00:00\",\"2022-03-15T00:00:00\",\"2022-03-16T00:00:00\",\"2022-03-17T00:00:00\",\"2022-03-18T00:00:00\",\"2022-03-19T00:00:00\",\"2022-03-20T00:00:00\",\"2022-03-21T00:00:00\",\"2022-03-22T00:00:00\",\"2022-03-23T00:00:00\",\"2022-03-24T00:00:00\",\"2022-03-25T00:00:00\"],\"y\":[3900.7415,3900.7415,3900.3145,3900.3145,3900.3145,3900.3145,3900.3145,3908.145,3908.145,3910.2905,3910.2905,3910.2905,3918.2244,3915.404,3915.1614,3915.1614,3902.8916,3902.8184,3890.8435,3895.9246,3895.9246,3901.0903,3901.0903,3901.0903,3901.0903,3901.0903,3901.0903,3900.8694,3900.8694,3900.8694,3900.8694,3900.8694,3900.8694,3902.9778,3909.5356,3912.9543,3913.6577,3913.6577,3913.6577,3913.6577,3913.6577,3912.777,3912.777,3912.777,3912.777,3912.777,3925.7642,3937.9006,3937.9006,3940.3262,3940.3262,3940.3262,3940.3262,3937.5757,3937.1292,3938.1045,3938.1045,3938.1045,3938.1045,3940.08,3949.5095,3951.26,3959.7793,3959.7793,3959.7793,3959.7793,3959.7793,3959.7793,3959.7793,3958.793,3971.281,3971.4585,3972.7036,3972.835,3979.5427,4011.949,4024.0667,4063.5916,4063.5916,4064.8914,4064.8914,4074.327,4048.764,4048.764,4048.3853,4066.365,4102.0063,4097.113,4097.113,4097.113,4088.434,4090.6692,4090.6692,4090.6692,4082.063,4076.7612,4076.3335,4076.3335,4081.026,4083.6545,4083.6545,4083.6545,4112.2783,4142.322,4151.512,4151.312,4139.5464,4123.0415,4123.6636,4099.2925,4104.0693,4122.228,4121.897,4179.783,4204.552,4204.552,734.8934,734.0285,806.465,969.2776,1041.5913,1105.659,1192.9126,1210.9413,1210.9413,1259.4883,1235.5708,1101.2985,1085.2543,1155.8641,1199.0522,1186.6785,1239.488,1240.0756,1268.0851,1320.4932,1352.6385,1182.2521,1250.1505,1250.1505,1339.6704,1326.8394,1327.4008,1308.0256,1364.947,1364.0011,1361.4036,1358.6621,1361.4873,1510.3153,1640.4766,1631.248,1682.4935,1682.7773,1641.684,1726.1027,1760.9353,1756.5753,1756.5753,1808.7722,1806.6414,1819.1368,1817.1401,1817.1401,1876.1218,1918.9622,1918.9622,1889.9557,1870.3693,1739.5039,1623.4252,1623.4252,1508.983,1489.9578,1489.9578,1455.385,1549.5575,1543.7705,1556.4193,1556.4193,1556.4193,1648.087,1723.4241,1818.602,1818.602,1814.6823,1815.5745,1815.5745,1845.7251,1836.5371,1799.2906,1799.2906,1788.1564,1781.9193,1781.3173,1781.3173,1777.7849,1726.6366,1722.1615,1637.0612],\"type\":\"scatter\"}],                        {\"template\":{\"data\":{\"bar\":[{\"error_x\":{\"color\":\"#2a3f5f\"},\"error_y\":{\"color\":\"#2a3f5f\"},\"marker\":{\"line\":{\"color\":\"#E5ECF6\",\"width\":0.5},\"pattern\":{\"fillmode\":\"overlay\",\"size\":10,\"solidity\":0.2}},\"type\":\"bar\"}],\"barpolar\":[{\"marker\":{\"line\":{\"color\":\"#E5ECF6\",\"width\":0.5},\"pattern\":{\"fillmode\":\"overlay\",\"size\":10,\"solidity\":0.2}},\"type\":\"barpolar\"}],\"carpet\":[{\"aaxis\":{\"endlinecolor\":\"#2a3f5f\",\"gridcolor\":\"white\",\"linecolor\":\"white\",\"minorgridcolor\":\"white\",\"startlinecolor\":\"#2a3f5f\"},\"baxis\":{\"endlinecolor\":\"#2a3f5f\",\"gridcolor\":\"white\",\"linecolor\":\"white\",\"minorgridcolor\":\"white\",\"startlinecolor\":\"#2a3f5f\"},\"type\":\"carpet\"}],\"choropleth\":[{\"colorbar\":{\"outlinewidth\":0,\"ticks\":\"\"},\"type\":\"choropleth\"}],\"contour\":[{\"colorbar\":{\"outlinewidth\":0,\"ticks\":\"\"},\"colorscale\":[[0.0,\"#0d0887\"],[0.1111111111111111,\"#46039f\"],[0.2222222222222222,\"#7201a8\"],[0.3333333333333333,\"#9c179e\"],[0.4444444444444444,\"#bd3786\"],[0.5555555555555556,\"#d8576b\"],[0.6666666666666666,\"#ed7953\"],[0.7777777777777778,\"#fb9f3a\"],[0.8888888888888888,\"#fdca26\"],[1.0,\"#f0f921\"]],\"type\":\"contour\"}],\"contourcarpet\":[{\"colorbar\":{\"outlinewidth\":0,\"ticks\":\"\"},\"type\":\"contourcarpet\"}],\"heatmap\":[{\"colorbar\":{\"outlinewidth\":0,\"ticks\":\"\"},\"colorscale\":[[0.0,\"#0d0887\"],[0.1111111111111111,\"#46039f\"],[0.2222222222222222,\"#7201a8\"],[0.3333333333333333,\"#9c179e\"],[0.4444444444444444,\"#bd3786\"],[0.5555555555555556,\"#d8576b\"],[0.6666666666666666,\"#ed7953\"],[0.7777777777777778,\"#fb9f3a\"],[0.8888888888888888,\"#fdca26\"],[1.0,\"#f0f921\"]],\"type\":\"heatmap\"}],\"heatmapgl\":[{\"colorbar\":{\"outlinewidth\":0,\"ticks\":\"\"},\"colorscale\":[[0.0,\"#0d0887\"],[0.1111111111111111,\"#46039f\"],[0.2222222222222222,\"#7201a8\"],[0.3333333333333333,\"#9c179e\"],[0.4444444444444444,\"#bd3786\"],[0.5555555555555556,\"#d8576b\"],[0.6666666666666666,\"#ed7953\"],[0.7777777777777778,\"#fb9f3a\"],[0.8888888888888888,\"#fdca26\"],[1.0,\"#f0f921\"]],\"type\":\"heatmapgl\"}],\"histogram\":[{\"marker\":{\"pattern\":{\"fillmode\":\"overlay\",\"size\":10,\"solidity\":0.2}},\"type\":\"histogram\"}],\"histogram2d\":[{\"colorbar\":{\"outlinewidth\":0,\"ticks\":\"\"},\"colorscale\":[[0.0,\"#0d0887\"],[0.1111111111111111,\"#46039f\"],[0.2222222222222222,\"#7201a8\"],[0.3333333333333333,\"#9c179e\"],[0.4444444444444444,\"#bd3786\"],[0.5555555555555556,\"#d8576b\"],[0.6666666666666666,\"#ed7953\"],[0.7777777777777778,\"#fb9f3a\"],[0.8888888888888888,\"#fdca26\"],[1.0,\"#f0f921\"]],\"type\":\"histogram2d\"}],\"histogram2dcontour\":[{\"colorbar\":{\"outlinewidth\":0,\"ticks\":\"\"},\"colorscale\":[[0.0,\"#0d0887\"],[0.1111111111111111,\"#46039f\"],[0.2222222222222222,\"#7201a8\"],[0.3333333333333333,\"#9c179e\"],[0.4444444444444444,\"#bd3786\"],[0.5555555555555556,\"#d8576b\"],[0.6666666666666666,\"#ed7953\"],[0.7777777777777778,\"#fb9f3a\"],[0.8888888888888888,\"#fdca26\"],[1.0,\"#f0f921\"]],\"type\":\"histogram2dcontour\"}],\"mesh3d\":[{\"colorbar\":{\"outlinewidth\":0,\"ticks\":\"\"},\"type\":\"mesh3d\"}],\"parcoords\":[{\"line\":{\"colorbar\":{\"outlinewidth\":0,\"ticks\":\"\"}},\"type\":\"parcoords\"}],\"pie\":[{\"automargin\":true,\"type\":\"pie\"}],\"scatter\":[{\"marker\":{\"colorbar\":{\"outlinewidth\":0,\"ticks\":\"\"}},\"type\":\"scatter\"}],\"scatter3d\":[{\"line\":{\"colorbar\":{\"outlinewidth\":0,\"ticks\":\"\"}},\"marker\":{\"colorbar\":{\"outlinewidth\":0,\"ticks\":\"\"}},\"type\":\"scatter3d\"}],\"scattercarpet\":[{\"marker\":{\"colorbar\":{\"outlinewidth\":0,\"ticks\":\"\"}},\"type\":\"scattercarpet\"}],\"scattergeo\":[{\"marker\":{\"colorbar\":{\"outlinewidth\":0,\"ticks\":\"\"}},\"type\":\"scattergeo\"}],\"scattergl\":[{\"marker\":{\"colorbar\":{\"outlinewidth\":0,\"ticks\":\"\"}},\"type\":\"scattergl\"}],\"scattermapbox\":[{\"marker\":{\"colorbar\":{\"outlinewidth\":0,\"ticks\":\"\"}},\"type\":\"scattermapbox\"}],\"scatterpolar\":[{\"marker\":{\"colorbar\":{\"outlinewidth\":0,\"ticks\":\"\"}},\"type\":\"scatterpolar\"}],\"scatterpolargl\":[{\"marker\":{\"colorbar\":{\"outlinewidth\":0,\"ticks\":\"\"}},\"type\":\"scatterpolargl\"}],\"scatterternary\":[{\"marker\":{\"colorbar\":{\"outlinewidth\":0,\"ticks\":\"\"}},\"type\":\"scatterternary\"}],\"surface\":[{\"colorbar\":{\"outlinewidth\":0,\"ticks\":\"\"},\"colorscale\":[[0.0,\"#0d0887\"],[0.1111111111111111,\"#46039f\"],[0.2222222222222222,\"#7201a8\"],[0.3333333333333333,\"#9c179e\"],[0.4444444444444444,\"#bd3786\"],[0.5555555555555556,\"#d8576b\"],[0.6666666666666666,\"#ed7953\"],[0.7777777777777778,\"#fb9f3a\"],[0.8888888888888888,\"#fdca26\"],[1.0,\"#f0f921\"]],\"type\":\"surface\"}],\"table\":[{\"cells\":{\"fill\":{\"color\":\"#EBF0F8\"},\"line\":{\"color\":\"white\"}},\"header\":{\"fill\":{\"color\":\"#C8D4E3\"},\"line\":{\"color\":\"white\"}},\"type\":\"table\"}]},\"layout\":{\"annotationdefaults\":{\"arrowcolor\":\"#2a3f5f\",\"arrowhead\":0,\"arrowwidth\":1},\"autotypenumbers\":\"strict\",\"coloraxis\":{\"colorbar\":{\"outlinewidth\":0,\"ticks\":\"\"}},\"colorscale\":{\"diverging\":[[0,\"#8e0152\"],[0.1,\"#c51b7d\"],[0.2,\"#de77ae\"],[0.3,\"#f1b6da\"],[0.4,\"#fde0ef\"],[0.5,\"#f7f7f7\"],[0.6,\"#e6f5d0\"],[0.7,\"#b8e186\"],[0.8,\"#7fbc41\"],[0.9,\"#4d9221\"],[1,\"#276419\"]],\"sequential\":[[0.0,\"#0d0887\"],[0.1111111111111111,\"#46039f\"],[0.2222222222222222,\"#7201a8\"],[0.3333333333333333,\"#9c179e\"],[0.4444444444444444,\"#bd3786\"],[0.5555555555555556,\"#d8576b\"],[0.6666666666666666,\"#ed7953\"],[0.7777777777777778,\"#fb9f3a\"],[0.8888888888888888,\"#fdca26\"],[1.0,\"#f0f921\"]],\"sequentialminus\":[[0.0,\"#0d0887\"],[0.1111111111111111,\"#46039f\"],[0.2222222222222222,\"#7201a8\"],[0.3333333333333333,\"#9c179e\"],[0.4444444444444444,\"#bd3786\"],[0.5555555555555556,\"#d8576b\"],[0.6666666666666666,\"#ed7953\"],[0.7777777777777778,\"#fb9f3a\"],[0.8888888888888888,\"#fdca26\"],[1.0,\"#f0f921\"]]},\"colorway\":[\"#636efa\",\"#EF553B\",\"#00cc96\",\"#ab63fa\",\"#FFA15A\",\"#19d3f3\",\"#FF6692\",\"#B6E880\",\"#FF97FF\",\"#FECB52\"],\"font\":{\"color\":\"#2a3f5f\"},\"geo\":{\"bgcolor\":\"white\",\"lakecolor\":\"white\",\"landcolor\":\"#E5ECF6\",\"showlakes\":true,\"showland\":true,\"subunitcolor\":\"white\"},\"hoverlabel\":{\"align\":\"left\"},\"hovermode\":\"closest\",\"mapbox\":{\"style\":\"light\"},\"paper_bgcolor\":\"white\",\"plot_bgcolor\":\"#E5ECF6\",\"polar\":{\"angularaxis\":{\"gridcolor\":\"white\",\"linecolor\":\"white\",\"ticks\":\"\"},\"bgcolor\":\"#E5ECF6\",\"radialaxis\":{\"gridcolor\":\"white\",\"linecolor\":\"white\",\"ticks\":\"\"}},\"scene\":{\"xaxis\":{\"backgroundcolor\":\"#E5ECF6\",\"gridcolor\":\"white\",\"gridwidth\":2,\"linecolor\":\"white\",\"showbackground\":true,\"ticks\":\"\",\"zerolinecolor\":\"white\"},\"yaxis\":{\"backgroundcolor\":\"#E5ECF6\",\"gridcolor\":\"white\",\"gridwidth\":2,\"linecolor\":\"white\",\"showbackground\":true,\"ticks\":\"\",\"zerolinecolor\":\"white\"},\"zaxis\":{\"backgroundcolor\":\"#E5ECF6\",\"gridcolor\":\"white\",\"gridwidth\":2,\"linecolor\":\"white\",\"showbackground\":true,\"ticks\":\"\",\"zerolinecolor\":\"white\"}},\"shapedefaults\":{\"line\":{\"color\":\"#2a3f5f\"}},\"ternary\":{\"aaxis\":{\"gridcolor\":\"white\",\"linecolor\":\"white\",\"ticks\":\"\"},\"baxis\":{\"gridcolor\":\"white\",\"linecolor\":\"white\",\"ticks\":\"\"},\"bgcolor\":\"#E5ECF6\",\"caxis\":{\"gridcolor\":\"white\",\"linecolor\":\"white\",\"ticks\":\"\"}},\"title\":{\"x\":0.05},\"xaxis\":{\"automargin\":true,\"gridcolor\":\"white\",\"linecolor\":\"white\",\"ticks\":\"\",\"title\":{\"standoff\":15},\"zerolinecolor\":\"white\",\"zerolinewidth\":2},\"yaxis\":{\"automargin\":true,\"gridcolor\":\"white\",\"linecolor\":\"white\",\"ticks\":\"\",\"title\":{\"standoff\":15},\"zerolinecolor\":\"white\",\"zerolinewidth\":2}}}},                        {\"responsive\": true}                    ).then(function(){\n",
              "                            \n",
              "var gd = document.getElementById('a9d51a22-ff18-4e3d-a37e-57a108c9cb59');\n",
              "var x = new MutationObserver(function (mutations, observer) {{\n",
              "        var display = window.getComputedStyle(gd).display;\n",
              "        if (!display || display === 'none') {{\n",
              "            console.log([gd, 'removed!']);\n",
              "            Plotly.purge(gd);\n",
              "            observer.disconnect();\n",
              "        }}\n",
              "}});\n",
              "\n",
              "// Listen for the removal of the full notebook cells\n",
              "var notebookContainer = gd.closest('#notebook-container');\n",
              "if (notebookContainer) {{\n",
              "    x.observe(notebookContainer, {childList: true});\n",
              "}}\n",
              "\n",
              "// Listen for the clearing of the current output cell\n",
              "var outputEl = gd.closest('.output');\n",
              "if (outputEl) {{\n",
              "    x.observe(outputEl, {childList: true});\n",
              "}}\n",
              "\n",
              "                        })                };                            </script>        </div>\n",
              "</body>\n",
              "</html>"
            ]
          },
          "metadata": {}
        }
      ]
    }
  ]
}